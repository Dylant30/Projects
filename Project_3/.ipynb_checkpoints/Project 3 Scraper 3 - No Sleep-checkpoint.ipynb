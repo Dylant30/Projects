{
 "cells": [
  {
   "cell_type": "markdown",
   "metadata": {},
   "source": [
    "Scraping notebook for Jokes"
   ]
  },
  {
   "cell_type": "code",
   "execution_count": 1,
   "metadata": {},
   "outputs": [],
   "source": [
    "import requests\n",
    "import time\n",
    "import pandas as pd\n",
    "import random"
   ]
  },
  {
   "cell_type": "code",
   "execution_count": 2,
   "metadata": {},
   "outputs": [
    {
     "data": {
      "text/plain": [
       "200"
      ]
     },
     "execution_count": 2,
     "metadata": {},
     "output_type": "execute_result"
    }
   ],
   "source": [
    "url = \"https://www.reddit.com/r/nosleep/.json\" #insert reddit link\n",
    "headers = {'User-agent': 'Cheshire Cat'}\n",
    "res = requests.get(url, headers = headers)\n",
    "res.status_code"
   ]
  },
  {
   "cell_type": "code",
   "execution_count": 3,
   "metadata": {},
   "outputs": [
    {
     "data": {
      "text/plain": [
       "'t3_es2yrl'"
      ]
     },
     "execution_count": 3,
     "metadata": {},
     "output_type": "execute_result"
    }
   ],
   "source": [
    "dadjokes=res.json()\n",
    "dadjokes['data']['after']"
   ]
  },
  {
   "cell_type": "code",
   "execution_count": 4,
   "metadata": {},
   "outputs": [
    {
     "data": {
      "text/plain": [
       "<Response [200]>"
      ]
     },
     "execution_count": 4,
     "metadata": {},
     "output_type": "execute_result"
    }
   ],
   "source": [
    "params = {'after': 't3_erbpxk'}\n",
    "requests.get(url, params = params, headers = headers)"
   ]
  },
  {
   "cell_type": "code",
   "execution_count": 5,
   "metadata": {},
   "outputs": [
    {
     "name": "stdout",
     "output_type": "stream",
     "text": [
      "3\n",
      "13\n",
      "2\n",
      "5\n",
      "6\n",
      "13\n",
      "2\n",
      "6\n",
      "14\n",
      "13\n",
      "13\n",
      "5\n",
      "15\n",
      "5\n",
      "15\n",
      "11\n",
      "11\n",
      "14\n",
      "7\n",
      "7\n",
      "15\n",
      "2\n",
      "15\n",
      "6\n",
      "10\n",
      "13\n",
      "6\n",
      "2\n",
      "4\n",
      "13\n",
      "6\n",
      "11\n",
      "7\n",
      "15\n",
      "6\n",
      "14\n",
      "15\n",
      "14\n",
      "13\n",
      "13\n",
      "14\n",
      "9\n",
      "3\n",
      "15\n",
      "7\n",
      "14\n",
      "11\n",
      "11\n",
      "8\n",
      "10\n",
      "10\n",
      "15\n",
      "10\n",
      "8\n",
      "8\n",
      "6\n",
      "13\n",
      "11\n",
      "7\n",
      "3\n"
     ]
    }
   ],
   "source": [
    "#scraper for 1500 posts from reddit.com/r/jokes/\n",
    "post = []\n",
    "after = None\n",
    "for i in range(60):\n",
    "    if after == None:\n",
    "        params = {}\n",
    "    else:\n",
    "        params = {'after':after}\n",
    "    res = requests.get(url,params = params, headers = headers)\n",
    "    if res.status_code == 200:\n",
    "        the_json = res.json()\n",
    "        current_posts = [p['data'] for p in the_json['data']['children']]\n",
    "        post.extend(current_posts)\n",
    "        after = the_json['data']['after']\n",
    "    else:\n",
    "        print('Status error',res.status_code)\n",
    "        break\n",
    "    sleep_duration = random.randint(2,15)\n",
    "    print(sleep_duration)\n",
    "    time.sleep(sleep_duration)"
   ]
  },
  {
   "cell_type": "code",
   "execution_count": 6,
   "metadata": {},
   "outputs": [
    {
     "data": {
      "text/plain": [
       "1481"
      ]
     },
     "execution_count": 6,
     "metadata": {},
     "output_type": "execute_result"
    }
   ],
   "source": [
    "len(post) #total number of posts scraped"
   ]
  },
  {
   "cell_type": "code",
   "execution_count": 7,
   "metadata": {},
   "outputs": [],
   "source": [
    "pd.DataFrame(post).to_csv('nosleep.csv', index = False)"
   ]
  },
  {
   "cell_type": "code",
   "execution_count": null,
   "metadata": {},
   "outputs": [],
   "source": []
  }
 ],
 "metadata": {
  "kernelspec": {
   "display_name": "Python 3",
   "language": "python",
   "name": "python3"
  },
  "language_info": {
   "codemirror_mode": {
    "name": "ipython",
    "version": 3
   },
   "file_extension": ".py",
   "mimetype": "text/x-python",
   "name": "python",
   "nbconvert_exporter": "python",
   "pygments_lexer": "ipython3",
   "version": "3.7.4"
  }
 },
 "nbformat": 4,
 "nbformat_minor": 2
}
