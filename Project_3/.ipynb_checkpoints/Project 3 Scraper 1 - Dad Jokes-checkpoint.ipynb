{
 "cells": [
  {
   "cell_type": "markdown",
   "metadata": {},
   "source": [
    "Scraping notebook for Dad Jokes"
   ]
  },
  {
   "cell_type": "code",
   "execution_count": 1,
   "metadata": {},
   "outputs": [],
   "source": [
    "import requests\n",
    "import time\n",
    "import pandas as pd\n",
    "import random"
   ]
  },
  {
   "cell_type": "code",
   "execution_count": 2,
   "metadata": {},
   "outputs": [],
   "source": [
    "url = \"https://www.reddit.com/r/dadjokes/.json\" #insert reddit link"
   ]
  },
  {
   "cell_type": "code",
   "execution_count": 3,
   "metadata": {},
   "outputs": [],
   "source": [
    "headers = {'User-agent': 'Cheshire Cat'}"
   ]
  },
  {
   "cell_type": "code",
   "execution_count": 4,
   "metadata": {},
   "outputs": [],
   "source": [
    "res = requests.get(url, headers = headers)"
   ]
  },
  {
   "cell_type": "code",
   "execution_count": 5,
   "metadata": {},
   "outputs": [
    {
     "data": {
      "text/plain": [
       "200"
      ]
     },
     "execution_count": 5,
     "metadata": {},
     "output_type": "execute_result"
    }
   ],
   "source": [
    "res.status_code"
   ]
  },
  {
   "cell_type": "code",
   "execution_count": 6,
   "metadata": {},
   "outputs": [],
   "source": [
    "dadjokes=res.json()"
   ]
  },
  {
   "cell_type": "code",
   "execution_count": 8,
   "metadata": {},
   "outputs": [
    {
     "data": {
      "text/plain": [
       "['after', 'before', 'children', 'dist', 'modhash']"
      ]
     },
     "execution_count": 8,
     "metadata": {},
     "output_type": "execute_result"
    }
   ],
   "source": [
    "sorted(dadjokes['data'].keys()) #interested in the key \"children\""
   ]
  },
  {
   "cell_type": "code",
   "execution_count": 9,
   "metadata": {},
   "outputs": [
    {
     "data": {
      "text/plain": [
       "'t3_ertb07'"
      ]
     },
     "execution_count": 9,
     "metadata": {},
     "output_type": "execute_result"
    }
   ],
   "source": [
    "dadjokes['data']['after'] #the last post of the 25"
   ]
  },
  {
   "cell_type": "code",
   "execution_count": 10,
   "metadata": {},
   "outputs": [],
   "source": [
    "params = {'after': 't3_erbpxk'}"
   ]
  },
  {
   "cell_type": "code",
   "execution_count": 11,
   "metadata": {},
   "outputs": [
    {
     "data": {
      "text/plain": [
       "<Response [200]>"
      ]
     },
     "execution_count": 11,
     "metadata": {},
     "output_type": "execute_result"
    }
   ],
   "source": [
    "requests.get(url, params = params, headers = headers)"
   ]
  },
  {
   "cell_type": "code",
   "execution_count": 17,
   "metadata": {},
   "outputs": [
    {
     "name": "stdout",
     "output_type": "stream",
     "text": [
      "4\n",
      "2\n",
      "6\n",
      "4\n",
      "4\n",
      "6\n",
      "6\n",
      "10\n",
      "7\n",
      "5\n",
      "9\n",
      "8\n",
      "3\n",
      "2\n",
      "8\n",
      "5\n",
      "3\n",
      "6\n",
      "2\n",
      "2\n",
      "5\n",
      "9\n",
      "7\n",
      "7\n",
      "7\n",
      "7\n",
      "9\n",
      "8\n",
      "9\n",
      "8\n",
      "6\n",
      "5\n",
      "5\n",
      "5\n",
      "4\n",
      "7\n",
      "3\n",
      "4\n",
      "5\n",
      "2\n",
      "2\n",
      "6\n",
      "4\n",
      "7\n",
      "2\n",
      "10\n",
      "7\n",
      "5\n",
      "5\n",
      "9\n",
      "10\n",
      "4\n",
      "7\n",
      "6\n",
      "2\n",
      "9\n",
      "5\n",
      "5\n",
      "8\n",
      "10\n"
     ]
    }
   ],
   "source": [
    "#scraper for 1500 posts from reddit.com/r/dadjokes/\n",
    "post = []\n",
    "after = None\n",
    "for i in range(60):\n",
    "    if after == None:\n",
    "        params = {}\n",
    "    else:\n",
    "        params = {'after':after}\n",
    "    url = 'https://www.reddit.com/r/dadjokes/.json'\n",
    "    res = requests.get(url,params = params, headers = headers)\n",
    "    if res.status_code == 200:\n",
    "        the_json = res.json()\n",
    "        current_posts = [p['data'] for p in the_json['data']['children']]\n",
    "        post.extend(current_posts)\n",
    "        after = the_json['data']['after']\n",
    "    else:\n",
    "        print('Status error',res.status_code)\n",
    "        break\n",
    "    sleep_duration = random.randint(2,10)\n",
    "    print(sleep_duration)\n",
    "    time.sleep(sleep_duration)"
   ]
  },
  {
   "cell_type": "code",
   "execution_count": 18,
   "metadata": {
    "scrolled": false
   },
   "outputs": [
    {
     "data": {
      "text/plain": [
       "1475"
      ]
     },
     "execution_count": 18,
     "metadata": {},
     "output_type": "execute_result"
    }
   ],
   "source": [
    "len(post) #total number of posts scraped"
   ]
  },
  {
   "cell_type": "code",
   "execution_count": 14,
   "metadata": {},
   "outputs": [],
   "source": [
    "#len(set([p['data']['name'] for p in post['data']['children']])) #checking the number of posts scrapped"
   ]
  },
  {
   "cell_type": "code",
   "execution_count": 20,
   "metadata": {},
   "outputs": [],
   "source": [
    "pd.DataFrame(post).to_csv('dad_jokes.csv', index = False)"
   ]
  },
  {
   "cell_type": "code",
   "execution_count": null,
   "metadata": {},
   "outputs": [],
   "source": []
  }
 ],
 "metadata": {
  "kernelspec": {
   "display_name": "Python 3",
   "language": "python",
   "name": "python3"
  },
  "language_info": {
   "codemirror_mode": {
    "name": "ipython",
    "version": 3
   },
   "file_extension": ".py",
   "mimetype": "text/x-python",
   "name": "python",
   "nbconvert_exporter": "python",
   "pygments_lexer": "ipython3",
   "version": "3.7.4"
  }
 },
 "nbformat": 4,
 "nbformat_minor": 2
}
