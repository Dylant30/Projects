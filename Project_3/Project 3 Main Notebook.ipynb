{
 "cells": [
  {
   "cell_type": "markdown",
   "metadata": {},
   "source": [
    "# Post Classifier for Jokes and Horror stories"
   ]
  },
  {
   "cell_type": "markdown",
   "metadata": {},
   "source": [
    "Goal: To train a classifier to filter out horror stories from the jokes thread based on the title and content of the post"
   ]
  },
  {
   "cell_type": "code",
   "execution_count": 1,
   "metadata": {
    "scrolled": true
   },
   "outputs": [],
   "source": [
    "#installing of wordcloud. \n",
    "#pip install wordcloud"
   ]
  },
  {
   "cell_type": "code",
   "execution_count": 2,
   "metadata": {
    "scrolled": true
   },
   "outputs": [],
   "source": [
    "import requests\n",
    "import time\n",
    "import pandas as pd\n",
    "import regex as re\n",
    "import numpy as np\n",
    "\n",
    "from nltk.corpus import stopwords\n",
    "\n",
    "from sklearn.feature_extraction.text import CountVectorizer,TfidfTransformer,TfidfVectorizer\n",
    "from sklearn.linear_model import LogisticRegression\n",
    "from sklearn.model_selection import train_test_split,cross_val_score,GridSearchCV\n",
    "from sklearn.metrics import confusion_matrix\n",
    "from sklearn.naive_bayes import MultinomialNB\n",
    "from sklearn.pipeline import Pipeline\n",
    "from sklearn.feature_extraction import text \n",
    "\n",
    "from wordcloud import WordCloud, STOPWORDS, ImageColorGenerator\n",
    "\n",
    "import matplotlib.pyplot as plt\n",
    "%matplotlib inline"
   ]
  },
  {
   "cell_type": "markdown",
   "metadata": {},
   "source": [
    "# Importing Jokes"
   ]
  },
  {
   "cell_type": "code",
   "execution_count": 3,
   "metadata": {},
   "outputs": [],
   "source": [
    "#CSV importing \n",
    "df1 = pd.read_csv('jokes.csv')"
   ]
  },
  {
   "cell_type": "code",
   "execution_count": 4,
   "metadata": {},
   "outputs": [
    {
     "data": {
      "text/plain": [
       "Index(['approved_at_utc', 'subreddit', 'selftext', 'author_fullname', 'saved',\n",
       "       'mod_reason_title', 'gilded', 'clicked', 'title', 'link_flair_richtext',\n",
       "       ...\n",
       "       'permalink', 'parent_whitelist_status', 'stickied', 'url',\n",
       "       'subreddit_subscribers', 'created_utc', 'num_crossposts', 'media',\n",
       "       'is_video', 'author_cakeday'],\n",
       "      dtype='object', length=101)"
      ]
     },
     "execution_count": 4,
     "metadata": {},
     "output_type": "execute_result"
    }
   ],
   "source": [
    "df1.columns"
   ]
  },
  {
   "cell_type": "code",
   "execution_count": 5,
   "metadata": {},
   "outputs": [
    {
     "name": "stdout",
     "output_type": "stream",
     "text": [
      "(1486, 101)\n"
     ]
    },
    {
     "data": {
      "text/html": [
       "<div>\n",
       "<style scoped>\n",
       "    .dataframe tbody tr th:only-of-type {\n",
       "        vertical-align: middle;\n",
       "    }\n",
       "\n",
       "    .dataframe tbody tr th {\n",
       "        vertical-align: top;\n",
       "    }\n",
       "\n",
       "    .dataframe thead th {\n",
       "        text-align: right;\n",
       "    }\n",
       "</style>\n",
       "<table border=\"1\" class=\"dataframe\">\n",
       "  <thead>\n",
       "    <tr style=\"text-align: right;\">\n",
       "      <th></th>\n",
       "      <th>title</th>\n",
       "      <th>selftext</th>\n",
       "      <th>subreddit</th>\n",
       "    </tr>\n",
       "  </thead>\n",
       "  <tbody>\n",
       "    <tr>\n",
       "      <td>0</td>\n",
       "      <td>r/jokes has a discord and you need to join!</td>\n",
       "      <td>Over 10k members!  Come see reposts in real ti...</td>\n",
       "      <td>Jokes</td>\n",
       "    </tr>\n",
       "    <tr>\n",
       "      <td>1</td>\n",
       "      <td>If big feet means big dick and big car means s...</td>\n",
       "      <td>Then no wonder people are so scared of clowns.</td>\n",
       "      <td>Jokes</td>\n",
       "    </tr>\n",
       "    <tr>\n",
       "      <td>2</td>\n",
       "      <td>When I was younger, the local priest told me t...</td>\n",
       "      <td>I was touched.</td>\n",
       "      <td>Jokes</td>\n",
       "    </tr>\n",
       "    <tr>\n",
       "      <td>3</td>\n",
       "      <td>“Judge, 60% of my parking tickets are bogus!”</td>\n",
       "      <td>Judge: Repeat infractions?\\n\\nMan: Fine. 3/5 o...</td>\n",
       "      <td>Jokes</td>\n",
       "    </tr>\n",
       "    <tr>\n",
       "      <td>4</td>\n",
       "      <td>What's the definition of a reverse exorcism?</td>\n",
       "      <td>It's when you ask the Devil to get the priest ...</td>\n",
       "      <td>Jokes</td>\n",
       "    </tr>\n",
       "  </tbody>\n",
       "</table>\n",
       "</div>"
      ],
      "text/plain": [
       "                                               title  \\\n",
       "0        r/jokes has a discord and you need to join!   \n",
       "1  If big feet means big dick and big car means s...   \n",
       "2  When I was younger, the local priest told me t...   \n",
       "3      “Judge, 60% of my parking tickets are bogus!”   \n",
       "4       What's the definition of a reverse exorcism?   \n",
       "\n",
       "                                            selftext subreddit  \n",
       "0  Over 10k members!  Come see reposts in real ti...     Jokes  \n",
       "1     Then no wonder people are so scared of clowns.     Jokes  \n",
       "2                                     I was touched.     Jokes  \n",
       "3  Judge: Repeat infractions?\\n\\nMan: Fine. 3/5 o...     Jokes  \n",
       "4  It's when you ask the Devil to get the priest ...     Jokes  "
      ]
     },
     "execution_count": 5,
     "metadata": {},
     "output_type": "execute_result"
    }
   ],
   "source": [
    "#brief check for format and shape\n",
    "print(df1.shape)\n",
    "df1 = df1[['title','selftext','subreddit']]\n",
    "df1.head()"
   ]
  },
  {
   "cell_type": "code",
   "execution_count": 6,
   "metadata": {
    "scrolled": true
   },
   "outputs": [
    {
     "data": {
      "text/plain": [
       "The second time let me down.                                                                                                                                                                                                                                                                                                                                                                                                                                                                                                                                                                                                                     3\n",
       "Really vintage stuff. I’m glad I found it though, I had forgotten how blonde my hair used to be.                                                                                                                                                                                                                                                                                                                                                                                                                                                                                                                                                 2\n",
       "None because they all have a screw lose                                                                                                                                                                                                                                                                                                                                                                                                                                                                                                                                                                                                          2\n",
       "and all I found was Brexit.                                                                                                                                                                                                                                                                                                                                                                                                                                                                                                                                                                                                                      2\n",
       "A man who needs legal help goes to a  lawyer’s office. After being escorted inside, he sits across the desk  from the lawyer. The man needs legal help, but he wants to make sure he  can afford it first. “Can you tell me how much you charge?” he asks.\\n\\n“Of course,” the lawyer replies, “I charge $800 to answer three questions.”\\n\\n“Don’t you think that’s an awful lot of money to answer three questions?”\\n\\n“Yes it is”, answers the lawyer, “What’s your third question?”                                                                                                                                                         2\n",
       "                                                                                                                                                                                                                                                                                                                                                                                                                                                                                                                                                                                                                                                ..\n",
       "Last week I brought an annual membership. I lost 7 pounds ever since because I ran out of money to buy food.                                                                                                                                                                                                                                                                                                                                                                                                                                                                                                                                     1\n",
       "Good thing I have 4 doctors                                                                                                                                                                                                                                                                                                                                                                                                                                                                                                                                                                                                                      1\n",
       "Very little                                                                                                                                                                                                                                                                                                                                                                                                                                                                                                                                                                                                                                      1\n",
       "I replied, I'm more into shaved pussy and anal.\\n\\n\\nNow I am banned from KFC...                                                                                                                                                                                                                                                                                                                                                                                                                                                                                                                                                                 1\n",
       "They were at the gates of Heaven when an angel said, you may pass, but first answer this question: Have you ever touched a penis. He told them to line up and the first nun said, “There was one time... with my pinky...” The angel said to dip her pinky in holy water then she was able to cross to heaven. The next woman once she touched one with her hand so she was told to wash her hands in the holy water, then went to heaven. One of the nuns was trying to get to the front of the line, and the angel asked, “What’s the rush?” She replied, “I don’t want to wash my mouth in that water after Jessica puts her pussy in it.”    1\n",
       "Name: selftext, Length: 885, dtype: int64"
      ]
     },
     "execution_count": 6,
     "metadata": {},
     "output_type": "execute_result"
    }
   ],
   "source": [
    "#checking for unique links and duplicates\n",
    "df1.selftext.value_counts()"
   ]
  },
  {
   "cell_type": "code",
   "execution_count": 7,
   "metadata": {},
   "outputs": [
    {
     "data": {
      "text/plain": [
       "(601, 3)"
      ]
     },
     "execution_count": 7,
     "metadata": {},
     "output_type": "execute_result"
    }
   ],
   "source": [
    "#check for duplicate rows\n",
    "duplicaterows = df1[df1.duplicated(['selftext','title'],keep='first')]\n",
    "duplicaterows.shape"
   ]
  },
  {
   "cell_type": "code",
   "execution_count": 8,
   "metadata": {},
   "outputs": [
    {
     "data": {
      "text/html": [
       "<div>\n",
       "<style scoped>\n",
       "    .dataframe tbody tr th:only-of-type {\n",
       "        vertical-align: middle;\n",
       "    }\n",
       "\n",
       "    .dataframe tbody tr th {\n",
       "        vertical-align: top;\n",
       "    }\n",
       "\n",
       "    .dataframe thead th {\n",
       "        text-align: right;\n",
       "    }\n",
       "</style>\n",
       "<table border=\"1\" class=\"dataframe\">\n",
       "  <thead>\n",
       "    <tr style=\"text-align: right;\">\n",
       "      <th></th>\n",
       "      <th>title</th>\n",
       "      <th>selftext</th>\n",
       "      <th>subreddit</th>\n",
       "    </tr>\n",
       "  </thead>\n",
       "  <tbody>\n",
       "    <tr>\n",
       "      <td>1398</td>\n",
       "      <td>\"Bam! Kapow! Smash! Punch!\"</td>\n",
       "      <td>**Batman:** those are fighting words</td>\n",
       "      <td>Jokes</td>\n",
       "    </tr>\n",
       "    <tr>\n",
       "      <td>511</td>\n",
       "      <td>\"Bam! Kapow! Smash! Punch!\"</td>\n",
       "      <td>**Batman:** those are fighting words</td>\n",
       "      <td>Jokes</td>\n",
       "    </tr>\n",
       "    <tr>\n",
       "      <td>53</td>\n",
       "      <td>\"Darling, I have to tell you something\"</td>\n",
       "      <td>A husband says to his wife: \"Darling, I have t...</td>\n",
       "      <td>Jokes</td>\n",
       "    </tr>\n",
       "    <tr>\n",
       "      <td>938</td>\n",
       "      <td>\"Darling, I have to tell you something\"</td>\n",
       "      <td>A husband says to his wife: \"Darling, I have t...</td>\n",
       "      <td>Jokes</td>\n",
       "    </tr>\n",
       "  </tbody>\n",
       "</table>\n",
       "</div>"
      ],
      "text/plain": [
       "                                        title  \\\n",
       "1398              \"Bam! Kapow! Smash! Punch!\"   \n",
       "511               \"Bam! Kapow! Smash! Punch!\"   \n",
       "53    \"Darling, I have to tell you something\"   \n",
       "938   \"Darling, I have to tell you something\"   \n",
       "\n",
       "                                               selftext subreddit  \n",
       "1398               **Batman:** those are fighting words     Jokes  \n",
       "511                **Batman:** those are fighting words     Jokes  \n",
       "53    A husband says to his wife: \"Darling, I have t...     Jokes  \n",
       "938   A husband says to his wife: \"Darling, I have t...     Jokes  "
      ]
     },
     "execution_count": 8,
     "metadata": {},
     "output_type": "execute_result"
    }
   ],
   "source": [
    "#checking the duplicate rows\n",
    "pd.set_option(\"display.max_columns\", 107)\n",
    "df1.sort_values(by=['title']).head(4)"
   ]
  },
  {
   "cell_type": "code",
   "execution_count": 9,
   "metadata": {},
   "outputs": [],
   "source": [
    "#dropping duplicate rows\n",
    "df1.drop_duplicates(['selftext','title'],keep='first',inplace=True)"
   ]
  },
  {
   "cell_type": "markdown",
   "metadata": {},
   "source": [
    "# Importing No Sleep"
   ]
  },
  {
   "cell_type": "code",
   "execution_count": 10,
   "metadata": {},
   "outputs": [
    {
     "data": {
      "text/html": [
       "<div>\n",
       "<style scoped>\n",
       "    .dataframe tbody tr th:only-of-type {\n",
       "        vertical-align: middle;\n",
       "    }\n",
       "\n",
       "    .dataframe tbody tr th {\n",
       "        vertical-align: top;\n",
       "    }\n",
       "\n",
       "    .dataframe thead th {\n",
       "        text-align: right;\n",
       "    }\n",
       "</style>\n",
       "<table border=\"1\" class=\"dataframe\">\n",
       "  <thead>\n",
       "    <tr style=\"text-align: right;\">\n",
       "      <th></th>\n",
       "      <th>title</th>\n",
       "      <th>selftext</th>\n",
       "      <th>subreddit</th>\n",
       "    </tr>\n",
       "  </thead>\n",
       "  <tbody>\n",
       "    <tr>\n",
       "      <td>0</td>\n",
       "      <td>December 2019 Voting Thread</td>\n",
       "      <td>NaN</td>\n",
       "      <td>nosleep</td>\n",
       "    </tr>\n",
       "    <tr>\n",
       "      <td>1</td>\n",
       "      <td>2020 Nosleep Community Survey</td>\n",
       "      <td>NaN</td>\n",
       "      <td>nosleep</td>\n",
       "    </tr>\n",
       "    <tr>\n",
       "      <td>2</td>\n",
       "      <td>Someone keeps leaving gifts at my doorstep, an...</td>\n",
       "      <td>I live by myself, on the first floor of a very...</td>\n",
       "      <td>nosleep</td>\n",
       "    </tr>\n",
       "    <tr>\n",
       "      <td>3</td>\n",
       "      <td>The Inheritance Game - What exactly would you ...</td>\n",
       "      <td>[Part 1](https://www.reddit.com/r/nosleep/comm...</td>\n",
       "      <td>nosleep</td>\n",
       "    </tr>\n",
       "    <tr>\n",
       "      <td>4</td>\n",
       "      <td>I Lost My Virginity to My Girlfriend, It Turne...</td>\n",
       "      <td>Parts: [1](https://www.reddit.com/r/nosleep/co...</td>\n",
       "      <td>nosleep</td>\n",
       "    </tr>\n",
       "  </tbody>\n",
       "</table>\n",
       "</div>"
      ],
      "text/plain": [
       "                                               title  \\\n",
       "0                        December 2019 Voting Thread   \n",
       "1                      2020 Nosleep Community Survey   \n",
       "2  Someone keeps leaving gifts at my doorstep, an...   \n",
       "3  The Inheritance Game - What exactly would you ...   \n",
       "4  I Lost My Virginity to My Girlfriend, It Turne...   \n",
       "\n",
       "                                            selftext subreddit  \n",
       "0                                                NaN   nosleep  \n",
       "1                                                NaN   nosleep  \n",
       "2  I live by myself, on the first floor of a very...   nosleep  \n",
       "3  [Part 1](https://www.reddit.com/r/nosleep/comm...   nosleep  \n",
       "4  Parts: [1](https://www.reddit.com/r/nosleep/co...   nosleep  "
      ]
     },
     "execution_count": 10,
     "metadata": {},
     "output_type": "execute_result"
    }
   ],
   "source": [
    "#CSV importing \n",
    "df2 = pd.read_csv('nosleep.csv')\n",
    "df2 = df2[['title','selftext','subreddit']]\n",
    "df2.head()"
   ]
  },
  {
   "cell_type": "code",
   "execution_count": 11,
   "metadata": {},
   "outputs": [
    {
     "data": {
      "text/plain": [
       "(676, 3)"
      ]
     },
     "execution_count": 11,
     "metadata": {},
     "output_type": "execute_result"
    }
   ],
   "source": [
    "#check for duplicate rows\n",
    "duplicaterows_2 = df2[df2.duplicated(['selftext','title'],keep='first')]\n",
    "duplicaterows_2.shape"
   ]
  },
  {
   "cell_type": "code",
   "execution_count": 12,
   "metadata": {},
   "outputs": [
    {
     "data": {
      "text/plain": [
       "(805, 3)"
      ]
     },
     "execution_count": 12,
     "metadata": {},
     "output_type": "execute_result"
    }
   ],
   "source": [
    "#dropping duplicate rows\n",
    "df2.drop_duplicates(['selftext','title'],keep='first',inplace=True)\n",
    "df2.shape"
   ]
  },
  {
   "cell_type": "code",
   "execution_count": 13,
   "metadata": {
    "scrolled": true
   },
   "outputs": [
    {
     "data": {
      "text/plain": [
       "selftext    0\n",
       "title       0\n",
       "dtype: int64"
      ]
     },
     "execution_count": 13,
     "metadata": {},
     "output_type": "execute_result"
    }
   ],
   "source": [
    "#finding the number of null values\n",
    "df1[['selftext','title']].isnull().sum()"
   ]
  },
  {
   "cell_type": "code",
   "execution_count": 14,
   "metadata": {
    "scrolled": true
   },
   "outputs": [
    {
     "data": {
      "text/plain": [
       "selftext    2\n",
       "title       0\n",
       "dtype: int64"
      ]
     },
     "execution_count": 14,
     "metadata": {},
     "output_type": "execute_result"
    }
   ],
   "source": [
    "#finding the number of null values\n",
    "df2[['selftext','title']].isnull().sum()"
   ]
  },
  {
   "cell_type": "code",
   "execution_count": 15,
   "metadata": {},
   "outputs": [],
   "source": [
    "#dropping nulls and combining to a single DataFrame\n",
    "df1.dropna(axis=0,inplace=True)\n",
    "df2.dropna(axis=0,inplace=True)\n",
    "comb_df = pd.concat([df1,df2])"
   ]
  },
  {
   "cell_type": "code",
   "execution_count": 16,
   "metadata": {
    "scrolled": true
   },
   "outputs": [],
   "source": [
    "#making the target variable the horror stories.\n",
    "comb_df = pd.get_dummies(comb_df,columns = ['subreddit'],drop_first=True)\n"
   ]
  },
  {
   "cell_type": "code",
   "execution_count": 17,
   "metadata": {
    "scrolled": true
   },
   "outputs": [
    {
     "data": {
      "text/html": [
       "<div>\n",
       "<style scoped>\n",
       "    .dataframe tbody tr th:only-of-type {\n",
       "        vertical-align: middle;\n",
       "    }\n",
       "\n",
       "    .dataframe tbody tr th {\n",
       "        vertical-align: top;\n",
       "    }\n",
       "\n",
       "    .dataframe thead th {\n",
       "        text-align: right;\n",
       "    }\n",
       "</style>\n",
       "<table border=\"1\" class=\"dataframe\">\n",
       "  <thead>\n",
       "    <tr style=\"text-align: right;\">\n",
       "      <th></th>\n",
       "      <th>title</th>\n",
       "      <th>selftext</th>\n",
       "      <th>subreddit_nosleep</th>\n",
       "      <th>text_features</th>\n",
       "    </tr>\n",
       "  </thead>\n",
       "  <tbody>\n",
       "    <tr>\n",
       "      <td>0</td>\n",
       "      <td>r/jokes has a discord and you need to join!</td>\n",
       "      <td>Over 10k members!  Come see reposts in real ti...</td>\n",
       "      <td>0</td>\n",
       "      <td>r/jokes has a discord and you need to join!Ove...</td>\n",
       "    </tr>\n",
       "    <tr>\n",
       "      <td>1</td>\n",
       "      <td>If big feet means big dick and big car means s...</td>\n",
       "      <td>Then no wonder people are so scared of clowns.</td>\n",
       "      <td>0</td>\n",
       "      <td>If big feet means big dick and big car means s...</td>\n",
       "    </tr>\n",
       "    <tr>\n",
       "      <td>2</td>\n",
       "      <td>When I was younger, the local priest told me t...</td>\n",
       "      <td>I was touched.</td>\n",
       "      <td>0</td>\n",
       "      <td>When I was younger, the local priest told me t...</td>\n",
       "    </tr>\n",
       "    <tr>\n",
       "      <td>3</td>\n",
       "      <td>“Judge, 60% of my parking tickets are bogus!”</td>\n",
       "      <td>Judge: Repeat infractions?\\n\\nMan: Fine. 3/5 o...</td>\n",
       "      <td>0</td>\n",
       "      <td>“Judge, 60% of my parking tickets are bogus!”J...</td>\n",
       "    </tr>\n",
       "    <tr>\n",
       "      <td>4</td>\n",
       "      <td>What's the definition of a reverse exorcism?</td>\n",
       "      <td>It's when you ask the Devil to get the priest ...</td>\n",
       "      <td>0</td>\n",
       "      <td>What's the definition of a reverse exorcism?It...</td>\n",
       "    </tr>\n",
       "    <tr>\n",
       "      <td>...</td>\n",
       "      <td>...</td>\n",
       "      <td>...</td>\n",
       "      <td>...</td>\n",
       "      <td>...</td>\n",
       "    </tr>\n",
       "    <tr>\n",
       "      <td>800</td>\n",
       "      <td>If you think I'm a terrible father, I don't bl...</td>\n",
       "      <td>Earlier today, I was in a rocking chair in my ...</td>\n",
       "      <td>1</td>\n",
       "      <td>If you think I'm a terrible father, I don't bl...</td>\n",
       "    </tr>\n",
       "    <tr>\n",
       "      <td>801</td>\n",
       "      <td>Stairway to Heaven</td>\n",
       "      <td>I am scared. I am cold, I am wet, and I am sur...</td>\n",
       "      <td>1</td>\n",
       "      <td>Stairway to HeavenI am scared. I am cold, I am...</td>\n",
       "    </tr>\n",
       "    <tr>\n",
       "      <td>802</td>\n",
       "      <td>Always watch out on the night of January 5th, ...</td>\n",
       "      <td>The night of January 5th is known as the \"Twel...</td>\n",
       "      <td>1</td>\n",
       "      <td>Always watch out on the night of January 5th, ...</td>\n",
       "    </tr>\n",
       "    <tr>\n",
       "      <td>803</td>\n",
       "      <td>I found an old book full of modern fairytales....</td>\n",
       "      <td>[\\#2 is up now: Kelpie, or Why You Should Neve...</td>\n",
       "      <td>1</td>\n",
       "      <td>I found an old book full of modern fairytales....</td>\n",
       "    </tr>\n",
       "    <tr>\n",
       "      <td>1227</td>\n",
       "      <td>Toys</td>\n",
       "      <td>I have a story... \\n\\nI'm not entirely sure an...</td>\n",
       "      <td>1</td>\n",
       "      <td>ToysI have a story... \\n\\nI'm not entirely sur...</td>\n",
       "    </tr>\n",
       "  </tbody>\n",
       "</table>\n",
       "<p>1688 rows × 4 columns</p>\n",
       "</div>"
      ],
      "text/plain": [
       "                                                  title  \\\n",
       "0           r/jokes has a discord and you need to join!   \n",
       "1     If big feet means big dick and big car means s...   \n",
       "2     When I was younger, the local priest told me t...   \n",
       "3         “Judge, 60% of my parking tickets are bogus!”   \n",
       "4          What's the definition of a reverse exorcism?   \n",
       "...                                                 ...   \n",
       "800   If you think I'm a terrible father, I don't bl...   \n",
       "801                                  Stairway to Heaven   \n",
       "802   Always watch out on the night of January 5th, ...   \n",
       "803   I found an old book full of modern fairytales....   \n",
       "1227                                               Toys   \n",
       "\n",
       "                                               selftext  subreddit_nosleep  \\\n",
       "0     Over 10k members!  Come see reposts in real ti...                  0   \n",
       "1        Then no wonder people are so scared of clowns.                  0   \n",
       "2                                        I was touched.                  0   \n",
       "3     Judge: Repeat infractions?\\n\\nMan: Fine. 3/5 o...                  0   \n",
       "4     It's when you ask the Devil to get the priest ...                  0   \n",
       "...                                                 ...                ...   \n",
       "800   Earlier today, I was in a rocking chair in my ...                  1   \n",
       "801   I am scared. I am cold, I am wet, and I am sur...                  1   \n",
       "802   The night of January 5th is known as the \"Twel...                  1   \n",
       "803   [\\#2 is up now: Kelpie, or Why You Should Neve...                  1   \n",
       "1227  I have a story... \\n\\nI'm not entirely sure an...                  1   \n",
       "\n",
       "                                          text_features  \n",
       "0     r/jokes has a discord and you need to join!Ove...  \n",
       "1     If big feet means big dick and big car means s...  \n",
       "2     When I was younger, the local priest told me t...  \n",
       "3     “Judge, 60% of my parking tickets are bogus!”J...  \n",
       "4     What's the definition of a reverse exorcism?It...  \n",
       "...                                                 ...  \n",
       "800   If you think I'm a terrible father, I don't bl...  \n",
       "801   Stairway to HeavenI am scared. I am cold, I am...  \n",
       "802   Always watch out on the night of January 5th, ...  \n",
       "803   I found an old book full of modern fairytales....  \n",
       "1227  ToysI have a story... \\n\\nI'm not entirely sur...  \n",
       "\n",
       "[1688 rows x 4 columns]"
      ]
     },
     "execution_count": 17,
     "metadata": {},
     "output_type": "execute_result"
    }
   ],
   "source": [
    "#Displaying final Dataframe for modelling\n",
    "comb_df['text_features']= comb_df['title']+comb_df['selftext']\n",
    "comb_df"
   ]
  },
  {
   "cell_type": "code",
   "execution_count": 18,
   "metadata": {
    "scrolled": false
   },
   "outputs": [
    {
     "data": {
      "text/plain": [
       "0    0.524289\n",
       "1    0.475711\n",
       "Name: subreddit_nosleep, dtype: float64"
      ]
     },
     "execution_count": 18,
     "metadata": {},
     "output_type": "execute_result"
    }
   ],
   "source": [
    "#checking the baseline score\n",
    "comb_df['subreddit_nosleep'].value_counts(normalize=True)"
   ]
  },
  {
   "cell_type": "code",
   "execution_count": 19,
   "metadata": {},
   "outputs": [],
   "source": [
    "#creating a list of stopwords unique to either subreddit\n",
    "stop_words = text.ENGLISH_STOP_WORDS.union(['www','nosleep'])"
   ]
  },
  {
   "cell_type": "code",
   "execution_count": 20,
   "metadata": {},
   "outputs": [
    {
     "data": {
      "text/plain": [
       "frozenset({'a',\n",
       "           'about',\n",
       "           'above',\n",
       "           'across',\n",
       "           'after',\n",
       "           'afterwards',\n",
       "           'again',\n",
       "           'against',\n",
       "           'all',\n",
       "           'almost',\n",
       "           'alone',\n",
       "           'along',\n",
       "           'already',\n",
       "           'also',\n",
       "           'although',\n",
       "           'always',\n",
       "           'am',\n",
       "           'among',\n",
       "           'amongst',\n",
       "           'amoungst',\n",
       "           'amount',\n",
       "           'an',\n",
       "           'and',\n",
       "           'another',\n",
       "           'any',\n",
       "           'anyhow',\n",
       "           'anyone',\n",
       "           'anything',\n",
       "           'anyway',\n",
       "           'anywhere',\n",
       "           'are',\n",
       "           'around',\n",
       "           'as',\n",
       "           'at',\n",
       "           'back',\n",
       "           'be',\n",
       "           'became',\n",
       "           'because',\n",
       "           'become',\n",
       "           'becomes',\n",
       "           'becoming',\n",
       "           'been',\n",
       "           'before',\n",
       "           'beforehand',\n",
       "           'behind',\n",
       "           'being',\n",
       "           'below',\n",
       "           'beside',\n",
       "           'besides',\n",
       "           'between',\n",
       "           'beyond',\n",
       "           'bill',\n",
       "           'both',\n",
       "           'bottom',\n",
       "           'but',\n",
       "           'by',\n",
       "           'call',\n",
       "           'can',\n",
       "           'cannot',\n",
       "           'cant',\n",
       "           'co',\n",
       "           'con',\n",
       "           'could',\n",
       "           'couldnt',\n",
       "           'cry',\n",
       "           'de',\n",
       "           'describe',\n",
       "           'detail',\n",
       "           'do',\n",
       "           'done',\n",
       "           'down',\n",
       "           'due',\n",
       "           'during',\n",
       "           'each',\n",
       "           'eg',\n",
       "           'eight',\n",
       "           'either',\n",
       "           'eleven',\n",
       "           'else',\n",
       "           'elsewhere',\n",
       "           'empty',\n",
       "           'enough',\n",
       "           'etc',\n",
       "           'even',\n",
       "           'ever',\n",
       "           'every',\n",
       "           'everyone',\n",
       "           'everything',\n",
       "           'everywhere',\n",
       "           'except',\n",
       "           'few',\n",
       "           'fifteen',\n",
       "           'fifty',\n",
       "           'fill',\n",
       "           'find',\n",
       "           'fire',\n",
       "           'first',\n",
       "           'five',\n",
       "           'for',\n",
       "           'former',\n",
       "           'formerly',\n",
       "           'forty',\n",
       "           'found',\n",
       "           'four',\n",
       "           'from',\n",
       "           'front',\n",
       "           'full',\n",
       "           'further',\n",
       "           'get',\n",
       "           'give',\n",
       "           'go',\n",
       "           'had',\n",
       "           'has',\n",
       "           'hasnt',\n",
       "           'have',\n",
       "           'he',\n",
       "           'hence',\n",
       "           'her',\n",
       "           'here',\n",
       "           'hereafter',\n",
       "           'hereby',\n",
       "           'herein',\n",
       "           'hereupon',\n",
       "           'hers',\n",
       "           'herself',\n",
       "           'him',\n",
       "           'himself',\n",
       "           'his',\n",
       "           'how',\n",
       "           'however',\n",
       "           'hundred',\n",
       "           'i',\n",
       "           'ie',\n",
       "           'if',\n",
       "           'in',\n",
       "           'inc',\n",
       "           'indeed',\n",
       "           'interest',\n",
       "           'into',\n",
       "           'is',\n",
       "           'it',\n",
       "           'its',\n",
       "           'itself',\n",
       "           'keep',\n",
       "           'last',\n",
       "           'latter',\n",
       "           'latterly',\n",
       "           'least',\n",
       "           'less',\n",
       "           'ltd',\n",
       "           'made',\n",
       "           'many',\n",
       "           'may',\n",
       "           'me',\n",
       "           'meanwhile',\n",
       "           'might',\n",
       "           'mill',\n",
       "           'mine',\n",
       "           'more',\n",
       "           'moreover',\n",
       "           'most',\n",
       "           'mostly',\n",
       "           'move',\n",
       "           'much',\n",
       "           'must',\n",
       "           'my',\n",
       "           'myself',\n",
       "           'name',\n",
       "           'namely',\n",
       "           'neither',\n",
       "           'never',\n",
       "           'nevertheless',\n",
       "           'next',\n",
       "           'nine',\n",
       "           'no',\n",
       "           'nobody',\n",
       "           'none',\n",
       "           'noone',\n",
       "           'nor',\n",
       "           'nosleep',\n",
       "           'not',\n",
       "           'nothing',\n",
       "           'now',\n",
       "           'nowhere',\n",
       "           'of',\n",
       "           'off',\n",
       "           'often',\n",
       "           'on',\n",
       "           'once',\n",
       "           'one',\n",
       "           'only',\n",
       "           'onto',\n",
       "           'or',\n",
       "           'other',\n",
       "           'others',\n",
       "           'otherwise',\n",
       "           'our',\n",
       "           'ours',\n",
       "           'ourselves',\n",
       "           'out',\n",
       "           'over',\n",
       "           'own',\n",
       "           'part',\n",
       "           'per',\n",
       "           'perhaps',\n",
       "           'please',\n",
       "           'put',\n",
       "           'rather',\n",
       "           're',\n",
       "           'same',\n",
       "           'see',\n",
       "           'seem',\n",
       "           'seemed',\n",
       "           'seeming',\n",
       "           'seems',\n",
       "           'serious',\n",
       "           'several',\n",
       "           'she',\n",
       "           'should',\n",
       "           'show',\n",
       "           'side',\n",
       "           'since',\n",
       "           'sincere',\n",
       "           'six',\n",
       "           'sixty',\n",
       "           'so',\n",
       "           'some',\n",
       "           'somehow',\n",
       "           'someone',\n",
       "           'something',\n",
       "           'sometime',\n",
       "           'sometimes',\n",
       "           'somewhere',\n",
       "           'still',\n",
       "           'such',\n",
       "           'system',\n",
       "           'take',\n",
       "           'ten',\n",
       "           'than',\n",
       "           'that',\n",
       "           'the',\n",
       "           'their',\n",
       "           'them',\n",
       "           'themselves',\n",
       "           'then',\n",
       "           'thence',\n",
       "           'there',\n",
       "           'thereafter',\n",
       "           'thereby',\n",
       "           'therefore',\n",
       "           'therein',\n",
       "           'thereupon',\n",
       "           'these',\n",
       "           'they',\n",
       "           'thick',\n",
       "           'thin',\n",
       "           'third',\n",
       "           'this',\n",
       "           'those',\n",
       "           'though',\n",
       "           'three',\n",
       "           'through',\n",
       "           'throughout',\n",
       "           'thru',\n",
       "           'thus',\n",
       "           'to',\n",
       "           'together',\n",
       "           'too',\n",
       "           'top',\n",
       "           'toward',\n",
       "           'towards',\n",
       "           'twelve',\n",
       "           'twenty',\n",
       "           'two',\n",
       "           'un',\n",
       "           'under',\n",
       "           'until',\n",
       "           'up',\n",
       "           'upon',\n",
       "           'us',\n",
       "           'very',\n",
       "           'via',\n",
       "           'was',\n",
       "           'we',\n",
       "           'well',\n",
       "           'were',\n",
       "           'what',\n",
       "           'whatever',\n",
       "           'when',\n",
       "           'whence',\n",
       "           'whenever',\n",
       "           'where',\n",
       "           'whereafter',\n",
       "           'whereas',\n",
       "           'whereby',\n",
       "           'wherein',\n",
       "           'whereupon',\n",
       "           'wherever',\n",
       "           'whether',\n",
       "           'which',\n",
       "           'while',\n",
       "           'whither',\n",
       "           'who',\n",
       "           'whoever',\n",
       "           'whole',\n",
       "           'whom',\n",
       "           'whose',\n",
       "           'why',\n",
       "           'will',\n",
       "           'with',\n",
       "           'within',\n",
       "           'without',\n",
       "           'would',\n",
       "           'www',\n",
       "           'yet',\n",
       "           'you',\n",
       "           'your',\n",
       "           'yours',\n",
       "           'yourself',\n",
       "           'yourselves'})"
      ]
     },
     "execution_count": 20,
     "metadata": {},
     "output_type": "execute_result"
    }
   ],
   "source": [
    "stop_words"
   ]
  },
  {
   "cell_type": "markdown",
   "metadata": {},
   "source": [
    "# Creation of X and y and splitting the training and testing data"
   ]
  },
  {
   "cell_type": "code",
   "execution_count": 21,
   "metadata": {},
   "outputs": [],
   "source": [
    "X = comb_df['text_features']\n",
    "y = comb_df['subreddit_nosleep']\n",
    "X_train,X_test,y_train,y_test = train_test_split(X,y,stratify = y,random_state=7)"
   ]
  },
  {
   "cell_type": "markdown",
   "metadata": {},
   "source": [
    "# WORDCLOUD"
   ]
  },
  {
   "cell_type": "code",
   "execution_count": 22,
   "metadata": {},
   "outputs": [
    {
     "data": {
      "image/png": "[encoded data removed]",
      "text/plain": [
       "<Figure size 432x288 with 1 Axes>"
      ]
     },
     "metadata": {
      "needs_background": "light"
     },
     "output_type": "display_data"
    }
   ],
   "source": [
    "#creating the WordCloud of words that appears frequently in nosleep posts\n",
    "text = \" \".join(review for review in comb_df.loc[comb_df['subreddit_nosleep']==1]['text_features'])\n",
    "stopwords = set(STOPWORDS)\n",
    "wordcloud = WordCloud(stopwords=stopwords, background_color=\"white\",regexp=r\"[a-zA-Z]{2,}\",width=800, height=400).generate(text)\n",
    "plt.imshow(wordcloud, interpolation='bilinear')\n",
    "plt.axis(\"off\")\n",
    "plt.show()"
   ]
  },
  {
   "cell_type": "code",
   "execution_count": 23,
   "metadata": {},
   "outputs": [
    {
     "data": {
      "image/png": "[encoded data removed]",
      "text/plain": [
       "<Figure size 432x288 with 1 Axes>"
      ]
     },
     "metadata": {
      "needs_background": "light"
     },
     "output_type": "display_data"
    }
   ],
   "source": [
    "#creating the WordCloud of words that appears frequently in joke posts\n",
    "text = \" \".join(review for review in comb_df.loc[comb_df['subreddit_nosleep']==0]['text_features'])\n",
    "stopwords = set(STOPWORDS)\n",
    "wordcloud = WordCloud(stopwords=stopwords, background_color=\"white\",regexp=r\"[a-zA-Z]{2,}\",width=800, height=400).generate(text)\n",
    "plt.imshow(wordcloud, interpolation='bilinear')\n",
    "plt.axis(\"off\")\n",
    "plt.show()"
   ]
  },
  {
   "cell_type": "markdown",
   "metadata": {},
   "source": [
    "# Logistic Regression (Count Vectoriser)"
   ]
  },
  {
   "cell_type": "code",
   "execution_count": 24,
   "metadata": {
    "scrolled": true
   },
   "outputs": [
    {
     "name": "stdout",
     "output_type": "stream",
     "text": [
      "Fitting 3 folds for each of 48 candidates, totalling 144 fits\n"
     ]
    },
    {
     "name": "stderr",
     "output_type": "stream",
     "text": [
      "[Parallel(n_jobs=1)]: Using backend SequentialBackend with 1 concurrent workers.\n",
      "[Parallel(n_jobs=1)]: Done 144 out of 144 | elapsed:  4.2min finished\n"
     ]
    },
    {
     "data": {
      "text/plain": [
       "1.0"
      ]
     },
     "execution_count": 24,
     "metadata": {},
     "output_type": "execute_result"
    }
   ],
   "source": [
    "import warnings\n",
    "warnings.simplefilter(action='ignore', category=FutureWarning)\n",
    "\n",
    "pipe_lr = Pipeline(steps=[('cvec',CountVectorizer(analyzer='word',stop_words=stop_words,token_pattern=r\"[a-zA-Z]{2,}\")),('lr',LogisticRegression(random_state=7,solver = 'liblinear'))])\n",
    "grid_lr = GridSearchCV(pipe_lr,param_grid = {\n",
    "    'cvec__max_features':[500,750,1000,1250],\n",
    "    'cvec__min_df': [2, 3],\n",
    "    'cvec__max_df': [.9, .95],\n",
    "    'cvec__ngram_range':[(1,1),(1,2),(1,3)]\n",
    "},verbose = 1,cv=3,n_jobs=1)\n",
    "\n",
    "grid_lr.fit(X_train,y_train)\n",
    "grid_lr.score(X_train,y_train)"
   ]
  },
  {
   "cell_type": "code",
   "execution_count": 25,
   "metadata": {
    "scrolled": true
   },
   "outputs": [
    {
     "name": "stdout",
     "output_type": "stream",
     "text": [
      "{'cvec__max_df': 0.9, 'cvec__max_features': 1250, 'cvec__min_df': 2, 'cvec__ngram_range': (1, 1)}\n",
      "0.9968404423380727\n"
     ]
    }
   ],
   "source": [
    "#best parameters and scores\n",
    "print(grid_lr.best_params_)\n",
    "print(grid_lr.best_score_)"
   ]
  },
  {
   "cell_type": "code",
   "execution_count": 26,
   "metadata": {},
   "outputs": [
    {
     "data": {
      "text/plain": [
       "1.0"
      ]
     },
     "execution_count": 26,
     "metadata": {},
     "output_type": "execute_result"
    }
   ],
   "source": [
    "#modelling based on the best parameters\n",
    "best_pipe_lr = Pipeline(steps=[('cvec',CountVectorizer(analyzer='word',max_features=1250,ngram_range=(1,1),min_df=2,max_df=0.9,stop_words=stop_words,token_pattern=r\"[a-zA-Z]{2,}\")),('lr',LogisticRegression(solver = 'liblinear'))])\n",
    "best_pipe_lr.fit(X_train,y_train)\n",
    "best_pipe_lr.score(X_train,y_train)"
   ]
  },
  {
   "cell_type": "markdown",
   "metadata": {},
   "source": [
    "Logistic Regression (Count Vectoriser) score"
   ]
  },
  {
   "cell_type": "code",
   "execution_count": 27,
   "metadata": {
    "scrolled": false
   },
   "outputs": [
    {
     "data": {
      "text/plain": [
       "0.995260663507109"
      ]
     },
     "execution_count": 27,
     "metadata": {},
     "output_type": "execute_result"
    }
   ],
   "source": [
    "lr_cvec_best = best_pipe_lr.score(X_test,y_test)\n",
    "lr_cvec_best"
   ]
  },
  {
   "cell_type": "code",
   "execution_count": 28,
   "metadata": {
    "scrolled": false
   },
   "outputs": [
    {
     "name": "stdout",
     "output_type": "stream",
     "text": [
      "True Negatives: 220\n",
      "False Positives: 1\n",
      "False Negatives: 1\n",
      "True Positives: 200\n"
     ]
    }
   ],
   "source": [
    "#Logistic Regression (Count Vectoriser) confusion matrix\n",
    "yhat_lr = best_pipe_lr.predict(X_test)\n",
    "confusion_matrix(y_test, yhat_lr)\n",
    "tn, fp, fn, tp = confusion_matrix(y_test, yhat_lr).ravel()\n",
    "print(\"True Negatives: %s\" % tn)\n",
    "print(\"False Positives: %s\" % fp)\n",
    "print(\"False Negatives: %s\" % fn)\n",
    "print(\"True Positives: %s\" % tp)"
   ]
  },
  {
   "cell_type": "markdown",
   "metadata": {},
   "source": [
    "# Bayes Classifier (Count Vectorizer)"
   ]
  },
  {
   "cell_type": "code",
   "execution_count": 29,
   "metadata": {},
   "outputs": [
    {
     "name": "stdout",
     "output_type": "stream",
     "text": [
      "Fitting 3 folds for each of 48 candidates, totalling 144 fits\n"
     ]
    },
    {
     "name": "stderr",
     "output_type": "stream",
     "text": [
      "[Parallel(n_jobs=1)]: Using backend SequentialBackend with 1 concurrent workers.\n",
      "[Parallel(n_jobs=1)]: Done 144 out of 144 | elapsed:  4.2min finished\n"
     ]
    },
    {
     "data": {
      "text/plain": [
       "0.8996840442338072"
      ]
     },
     "execution_count": 29,
     "metadata": {},
     "output_type": "execute_result"
    }
   ],
   "source": [
    "nb_lr = Pipeline(steps=[('cvec',CountVectorizer(analyzer='word',stop_words=stop_words,token_pattern=r\"[a-zA-Z]{2,}\")),('nb',MultinomialNB())])\n",
    "\n",
    "grid_nb = GridSearchCV(nb_lr,param_grid = {\n",
    "    'cvec__max_features':[500,750,1000,1250],\n",
    "    'cvec__min_df': [2, 3],\n",
    "    'cvec__max_df': [.9, .95],\n",
    "    'cvec__ngram_range':[(1,1),(1,2),(1,3)]\n",
    "},cv=3,verbose=1,n_jobs=1)\n",
    "grid_nb.fit(X_train, y_train)\n",
    "grid_nb.score(X_train,y_train)"
   ]
  },
  {
   "cell_type": "code",
   "execution_count": 30,
   "metadata": {
    "scrolled": true
   },
   "outputs": [
    {
     "name": "stdout",
     "output_type": "stream",
     "text": [
      "{'cvec__max_df': 0.9, 'cvec__max_features': 500, 'cvec__min_df': 2, 'cvec__ngram_range': (1, 3)}\n",
      "0.8467614533965245\n"
     ]
    }
   ],
   "source": [
    "#best parameters and scores\n",
    "print(grid_nb.best_params_)\n",
    "print(grid_nb.best_score_)"
   ]
  },
  {
   "cell_type": "code",
   "execution_count": 31,
   "metadata": {},
   "outputs": [
    {
     "data": {
      "text/plain": [
       "0.8996840442338072"
      ]
     },
     "execution_count": 31,
     "metadata": {},
     "output_type": "execute_result"
    }
   ],
   "source": [
    "best_pipe_nb = Pipeline(steps=[('cvec',CountVectorizer(analyzer='word',max_features=500,ngram_range=(1,3),min_df=3,max_df=0.9,stop_words=stop_words,token_pattern=r\"[a-zA-Z]{2,}\")),('nb',MultinomialNB())])\n",
    "best_pipe_nb.fit(X_train,y_train)\n",
    "best_pipe_nb.score(X_train,y_train)"
   ]
  },
  {
   "cell_type": "markdown",
   "metadata": {},
   "source": [
    "Bayes Classifier (Count Vectorizer) score"
   ]
  },
  {
   "cell_type": "code",
   "execution_count": 32,
   "metadata": {},
   "outputs": [
    {
     "data": {
      "text/plain": [
       "0.8957345971563981"
      ]
     },
     "execution_count": 32,
     "metadata": {},
     "output_type": "execute_result"
    }
   ],
   "source": [
    "nb_cvec_best = best_pipe_nb.score(X_test,y_test)\n",
    "nb_cvec_best"
   ]
  },
  {
   "cell_type": "code",
   "execution_count": 33,
   "metadata": {},
   "outputs": [
    {
     "name": "stdout",
     "output_type": "stream",
     "text": [
      "True Negatives: 179\n",
      "False Positives: 42\n",
      "False Negatives: 2\n",
      "True Positives: 199\n"
     ]
    }
   ],
   "source": [
    "yhat_nb = best_pipe_nb.predict(X_test)\n",
    "tn, fp, fn, tp = confusion_matrix(y_test, yhat_nb).ravel()\n",
    "print(\"True Negatives: %s\" % tn)\n",
    "print(\"False Positives: %s\" % fp)\n",
    "print(\"False Negatives: %s\" % fn)\n",
    "print(\"True Positives: %s\" % tp)"
   ]
  },
  {
   "cell_type": "markdown",
   "metadata": {},
   "source": [
    "# Logistic Regression (TF-IDF)"
   ]
  },
  {
   "cell_type": "code",
   "execution_count": 34,
   "metadata": {},
   "outputs": [],
   "source": [
    "import warnings\n",
    "warnings.simplefilter(action='ignore', category=FutureWarning)\n",
    "\n",
    "tfidf_lr = Pipeline(steps=[('tvec',TfidfVectorizer(analyzer='word',stop_words=stop_words,token_pattern=r\"[a-zA-Z]{2,}\")),('lr',LogisticRegression(random_state=7))])\n",
    "grid_lrt = GridSearchCV(tfidf_lr,param_grid = {\n",
    "    'tvec__max_features':[500,750,1000,1250],\n",
    "    'tvec__min_df': [2, 3],\n",
    "    'tvec__max_df': [.9, .95],\n",
    "    'tvec__ngram_range':[(1,1),(1,2),(1,3)]\n",
    "},verbose = 1,cv=3,n_jobs=1)"
   ]
  },
  {
   "cell_type": "code",
   "execution_count": 35,
   "metadata": {},
   "outputs": [
    {
     "name": "stdout",
     "output_type": "stream",
     "text": [
      "Fitting 3 folds for each of 48 candidates, totalling 144 fits\n"
     ]
    },
    {
     "name": "stderr",
     "output_type": "stream",
     "text": [
      "[Parallel(n_jobs=1)]: Using backend SequentialBackend with 1 concurrent workers.\n",
      "[Parallel(n_jobs=1)]: Done 144 out of 144 | elapsed:  4.2min finished\n"
     ]
    },
    {
     "data": {
      "text/plain": [
       "0.9960505529225908"
      ]
     },
     "execution_count": 35,
     "metadata": {},
     "output_type": "execute_result"
    }
   ],
   "source": [
    "grid_lrt.fit(X_train,y_train)\n",
    "grid_lrt.score(X_train,y_train)"
   ]
  },
  {
   "cell_type": "code",
   "execution_count": 36,
   "metadata": {},
   "outputs": [
    {
     "name": "stdout",
     "output_type": "stream",
     "text": [
      "{'tvec__max_df': 0.9, 'tvec__max_features': 500, 'tvec__min_df': 2, 'tvec__ngram_range': (1, 1)}\n",
      "0.9960505529225908\n"
     ]
    }
   ],
   "source": [
    "print(grid_lrt.best_params_)\n",
    "print(grid_lrt.best_score_)"
   ]
  },
  {
   "cell_type": "code",
   "execution_count": 37,
   "metadata": {},
   "outputs": [
    {
     "data": {
      "text/plain": [
       "0.9960505529225908"
      ]
     },
     "execution_count": 37,
     "metadata": {},
     "output_type": "execute_result"
    }
   ],
   "source": [
    "best_lrt = Pipeline(steps=[('tvec',TfidfVectorizer(analyzer='word',max_df=0.9,max_features=500,min_df=2,ngram_range=(1,1),stop_words=stop_words,token_pattern=r\"[a-zA-Z]{2,}\")),\\\n",
    "                           ('lr',LogisticRegression(random_state=7))])\n",
    "best_lrt.fit(X_train,y_train)\n",
    "best_lrt.score(X_train,y_train)"
   ]
  },
  {
   "cell_type": "markdown",
   "metadata": {},
   "source": [
    "Logistic Regression (TF-IDF) score"
   ]
  },
  {
   "cell_type": "code",
   "execution_count": 38,
   "metadata": {},
   "outputs": [
    {
     "data": {
      "text/plain": [
       "0.995260663507109"
      ]
     },
     "execution_count": 38,
     "metadata": {},
     "output_type": "execute_result"
    }
   ],
   "source": [
    "lr_tfidf_best = best_lrt.score(X_test,y_test)\n",
    "lr_tfidf_best "
   ]
  },
  {
   "cell_type": "code",
   "execution_count": 39,
   "metadata": {
    "scrolled": true
   },
   "outputs": [
    {
     "name": "stdout",
     "output_type": "stream",
     "text": [
      "True Negatives: 220\n",
      "False Positives: 1\n",
      "False Negatives: 1\n",
      "True Positives: 200\n"
     ]
    }
   ],
   "source": [
    "lrt_predictions = pd.DataFrame(best_lrt.predict(X_test))\n",
    "tn, fp, fn, tp = confusion_matrix(y_test, lrt_predictions).ravel()\n",
    "print(\"True Negatives: %s\" % tn)\n",
    "print(\"False Positives: %s\" % fp)\n",
    "print(\"False Negatives: %s\" % fn)\n",
    "print(\"True Positives: %s\" % tp)"
   ]
  },
  {
   "cell_type": "markdown",
   "metadata": {},
   "source": [
    "# Bayes Classfier (TF-IDF)"
   ]
  },
  {
   "cell_type": "code",
   "execution_count": 40,
   "metadata": {},
   "outputs": [],
   "source": [
    "tfidf_nb = Pipeline(steps=[('tvec',TfidfVectorizer(analyzer='word',stop_words=stop_words,token_pattern=r\"[a-zA-Z]{2,}\")),('nb',MultinomialNB())])\n",
    "grid_nbt = GridSearchCV(tfidf_nb,param_grid = {\n",
    "    'tvec__max_features':[500,750,1000,1250],\n",
    "    'tvec__min_df': [2, 3],\n",
    "    'tvec__max_df': [.9, .95],\n",
    "    'tvec__ngram_range':[(1,1),(1,2),(1,3)]\n",
    "},cv=3,verbose=1,n_jobs=1)"
   ]
  },
  {
   "cell_type": "code",
   "execution_count": 41,
   "metadata": {
    "scrolled": false
   },
   "outputs": [
    {
     "name": "stdout",
     "output_type": "stream",
     "text": [
      "Fitting 3 folds for each of 48 candidates, totalling 144 fits\n"
     ]
    },
    {
     "name": "stderr",
     "output_type": "stream",
     "text": [
      "[Parallel(n_jobs=1)]: Using backend SequentialBackend with 1 concurrent workers.\n",
      "[Parallel(n_jobs=1)]: Done 144 out of 144 | elapsed:  4.3min finished\n"
     ]
    },
    {
     "data": {
      "text/plain": [
       "0.9352290679304898"
      ]
     },
     "execution_count": 41,
     "metadata": {},
     "output_type": "execute_result"
    }
   ],
   "source": [
    "grid_nbt.fit(X_train,y_train)\n",
    "grid_nbt.score(X_train,y_train)"
   ]
  },
  {
   "cell_type": "code",
   "execution_count": 42,
   "metadata": {
    "scrolled": true
   },
   "outputs": [
    {
     "name": "stdout",
     "output_type": "stream",
     "text": [
      "{'tvec__max_df': 0.9, 'tvec__max_features': 750, 'tvec__min_df': 3, 'tvec__ngram_range': (1, 1)}\n",
      "0.8688783570300158\n"
     ]
    }
   ],
   "source": [
    "print(grid_nbt.best_params_)\n",
    "print(grid_nbt.best_score_)"
   ]
  },
  {
   "cell_type": "code",
   "execution_count": 43,
   "metadata": {},
   "outputs": [
    {
     "data": {
      "text/plain": [
       "0.9375987361769352"
      ]
     },
     "execution_count": 43,
     "metadata": {},
     "output_type": "execute_result"
    }
   ],
   "source": [
    "best_nbt = Pipeline(steps=[('tvec',TfidfVectorizer(analyzer='word',max_features=750,ngram_range=(1,3),max_df=0.9,min_df=2,token_pattern=r\"[a-zA-Z]{2,}\",stop_words=stop_words)),\\\n",
    "                             ('nb',MultinomialNB())])\n",
    "best_nbt.fit(X_train,y_train)\n",
    "best_nbt.score(X_train,y_train)"
   ]
  },
  {
   "cell_type": "markdown",
   "metadata": {},
   "source": [
    "Bayes Classfier (TF-IDF) score"
   ]
  },
  {
   "cell_type": "code",
   "execution_count": 44,
   "metadata": {},
   "outputs": [
    {
     "data": {
      "text/plain": [
       "0.9004739336492891"
      ]
     },
     "execution_count": 44,
     "metadata": {},
     "output_type": "execute_result"
    }
   ],
   "source": [
    "nb_tfidf_best = best_nbt.score(X_test,y_test)\n",
    "nb_tfidf_best"
   ]
  },
  {
   "cell_type": "code",
   "execution_count": 45,
   "metadata": {
    "scrolled": false
   },
   "outputs": [
    {
     "name": "stdout",
     "output_type": "stream",
     "text": [
      "True Negatives: 184\n",
      "False Positives: 37\n",
      "False Negatives: 5\n",
      "True Positives: 196\n"
     ]
    }
   ],
   "source": [
    "nbt_predictions = best_nbt.predict(X_test)\n",
    "tn, fp, fn, tp = confusion_matrix(y_test, nbt_predictions).ravel()\n",
    "print(\"True Negatives: %s\" % tn)\n",
    "print(\"False Positives: %s\" % fp)\n",
    "print(\"False Negatives: %s\" % fn)\n",
    "print(\"True Positives: %s\" % tp)"
   ]
  },
  {
   "cell_type": "markdown",
   "metadata": {},
   "source": [
    "# Choosing the model with the best score "
   ]
  },
  {
   "cell_type": "code",
   "execution_count": 46,
   "metadata": {},
   "outputs": [
    {
     "data": {
      "text/plain": [
       "(0.995260663507109, 0.8957345971563981, 0.995260663507109, 0.9004739336492891)"
      ]
     },
     "execution_count": 46,
     "metadata": {},
     "output_type": "execute_result"
    }
   ],
   "source": [
    "#displaying the best scores from each model\n",
    "lr_cvec_best,nb_cvec_best,lr_tfidf_best,nb_tfidf_best"
   ]
  },
  {
   "cell_type": "markdown",
   "metadata": {},
   "source": [
    "| Model                                       | Score   |   |   |\n",
    "|---------------------------------------------|---------|---|---|\n",
    "| Logistic Regression \\(Count Vectoriser\\)    | 0\\.9953 |   |   |\n",
    "| Logistic Regression \\(TF\\-IDF\\)             | 0\\.9976 |   |   |\n",
    "| Multinomial Classifier \\(Count Vectoriser\\) | 0\\.8957 |   |   |\n",
    "| Multinomial Classifier \\(TF\\-IDF\\)          | 0\\.9004 |   |   |\n",
    "\n"
   ]
  },
  {
   "cell_type": "code",
   "execution_count": 47,
   "metadata": {
    "scrolled": true
   },
   "outputs": [
    {
     "data": {
      "text/html": [
       "<div>\n",
       "<style scoped>\n",
       "    .dataframe tbody tr th:only-of-type {\n",
       "        vertical-align: middle;\n",
       "    }\n",
       "\n",
       "    .dataframe tbody tr th {\n",
       "        vertical-align: top;\n",
       "    }\n",
       "\n",
       "    .dataframe thead th {\n",
       "        text-align: right;\n",
       "    }\n",
       "</style>\n",
       "<table border=\"1\" class=\"dataframe\">\n",
       "  <thead>\n",
       "    <tr style=\"text-align: right;\">\n",
       "      <th></th>\n",
       "      <th>0</th>\n",
       "    </tr>\n",
       "  </thead>\n",
       "  <tbody>\n",
       "    <tr>\n",
       "      <td>amp</td>\n",
       "      <td>2.129131</td>\n",
       "    </tr>\n",
       "    <tr>\n",
       "      <td>like</td>\n",
       "      <td>2.056029</td>\n",
       "    </tr>\n",
       "    <tr>\n",
       "      <td>time</td>\n",
       "      <td>1.894664</td>\n",
       "    </tr>\n",
       "    <tr>\n",
       "      <td>eyes</td>\n",
       "      <td>1.818510</td>\n",
       "    </tr>\n",
       "    <tr>\n",
       "      <td>didn</td>\n",
       "      <td>1.752185</td>\n",
       "    </tr>\n",
       "    <tr>\n",
       "      <td>...</td>\n",
       "      <td>...</td>\n",
       "    </tr>\n",
       "    <tr>\n",
       "      <td>does</td>\n",
       "      <td>-0.114307</td>\n",
       "    </tr>\n",
       "    <tr>\n",
       "      <td>son</td>\n",
       "      <td>-0.135079</td>\n",
       "    </tr>\n",
       "    <tr>\n",
       "      <td>guy</td>\n",
       "      <td>-0.233861</td>\n",
       "    </tr>\n",
       "    <tr>\n",
       "      <td>wife</td>\n",
       "      <td>-0.477917</td>\n",
       "    </tr>\n",
       "    <tr>\n",
       "      <td>says</td>\n",
       "      <td>-0.876174</td>\n",
       "    </tr>\n",
       "  </tbody>\n",
       "</table>\n",
       "<p>500 rows × 1 columns</p>\n",
       "</div>"
      ],
      "text/plain": [
       "             0\n",
       "amp   2.129131\n",
       "like  2.056029\n",
       "time  1.894664\n",
       "eyes  1.818510\n",
       "didn  1.752185\n",
       "...        ...\n",
       "does -0.114307\n",
       "son  -0.135079\n",
       "guy  -0.233861\n",
       "wife -0.477917\n",
       "says -0.876174\n",
       "\n",
       "[500 rows x 1 columns]"
      ]
     },
     "execution_count": 47,
     "metadata": {},
     "output_type": "execute_result"
    }
   ],
   "source": [
    "#creating a table with to show the strongest coefficients from the best model\n",
    "lr_coefs = pd.DataFrame(best_lrt.steps[1][1].coef_,columns = best_lrt.steps[0][1].get_feature_names()).T.sort_values(by = 0, ascending = False)\n",
    "lr_coefs"
   ]
  },
  {
   "cell_type": "code",
   "execution_count": 48,
   "metadata": {
    "scrolled": false
   },
   "outputs": [
    {
     "data": {
      "image/png": "[encoded data removed]",
      "text/plain": [
       "<Figure size 1440x720 with 1 Axes>"
      ]
     },
     "metadata": {
      "needs_background": "light"
     },
     "output_type": "display_data"
    }
   ],
   "source": [
    "#displaying the strongest 15 coefficients and their associated words\n",
    "top_coef = pd.concat([lr_coefs.head(15),\n",
    "                      lr_coefs.tail(15)])\n",
    "plt.rcParams['figure.figsize'] = (20.0, 10.0)\n",
    "top_coef.plot(kind = \"barh\", legend = False,color='teal')\n",
    "plt.title('Logistic Regression: Keywords',size = 25)\n",
    "plt.xlabel('Coefficients')\n",
    "plt.ylabel('token')\n",
    "plt.show()"
   ]
  },
  {
   "cell_type": "code",
   "execution_count": null,
   "metadata": {},
   "outputs": [],
   "source": []
  }
 ],
 "metadata": {
  "kernelspec": {
   "display_name": "Python 3",
   "language": "python",
   "name": "python3"
  },
  "language_info": {
   "codemirror_mode": {
    "name": "ipython",
    "version": 3
   },
   "file_extension": ".py",
   "mimetype": "text/x-python",
   "name": "python",
   "nbconvert_exporter": "python",
   "pygments_lexer": "ipython3",
   "version": "3.7.4"
  }
 },
 "nbformat": 4,
 "nbformat_minor": 2
}
