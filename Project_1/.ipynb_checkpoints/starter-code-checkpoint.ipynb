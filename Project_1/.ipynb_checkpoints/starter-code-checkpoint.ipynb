{
 "cells": [
  {
   "cell_type": "markdown",
   "metadata": {},
   "source": [
    "# Project 1: SAT & ACT Analysis"
   ]
  },
  {
   "cell_type": "markdown",
   "metadata": {},
   "source": [
    "The first markdown cell in a notebook is a great place to provide an overview of your entire project. You will likely want to at least state your\n",
    "\n",
    "## Problem Statement"
   ]
  },
  {
   "cell_type": "markdown",
   "metadata": {},
   "source": [
    "Define the problem you are finding answers for from the data given.\n",
    "\n",
    "\"Based on the data provided in 2017 and 2018, identify areas to invest in to improve SAT participation rates\""
   ]
  },
  {
   "cell_type": "markdown",
   "metadata": {},
   "source": [
    "## Executive Summary\n",
    "\n",
    "If you want to, it's great to use relative links to direct your audience to various sections of a notebook. **HERE'S A DEMONSTRATION WITH THE CURRENT SECTION HEADERS**:\n",
    "\n",
    "### Contents:\n",
    "- [2017 Data Import & Cleaning](#Data-Import-and-Cleaning)\n",
    "- [2018 Data Import and Cleaning](#2018-Data-Import-and-Cleaning)\n",
    "- [Exploratory Data Analysis](#Exploratory-Data-Analysis)\n",
    "- [Data Visualization](#Visualize-the-data)\n",
    "- [Descriptive and Inferential Statistics](#Descriptive-and-Inferential-Statistics)\n",
    "- [Outside Research](#Outside-Research)\n",
    "- [Conclusions and Recommendations](#Conclusions-and-Recommendations)"
   ]
  },
  {
   "cell_type": "markdown",
   "metadata": {},
   "source": [
    "**If you combine your problem statement, executive summary, data dictionary, and conclusions/recommendations, you have an amazing README.md file that quickly aligns your audience to the contents of your project.** Don't forget to cite your data sources!"
   ]
  },
  {
   "cell_type": "markdown",
   "metadata": {},
   "source": [
    "*All libraries used should be added here*"
   ]
  },
  {
   "cell_type": "code",
   "execution_count": 1,
   "metadata": {},
   "outputs": [],
   "source": [
    "#Imports: \n",
    "import numpy as np\n",
    "import pandas as pd\n",
    "import matplotlib.pyplot as plt\n",
    "import seaborn as sns\n",
    "import scipy.stats as stats"
   ]
  },
  {
   "cell_type": "markdown",
   "metadata": {},
   "source": [
    "## 2017 Data Import and Cleaning"
   ]
  },
  {
   "cell_type": "markdown",
   "metadata": {},
   "source": [
    "#### 1. Read In SAT & ACT  Data\n",
    "\n",
    "Read in the `sat_2017.csv` and `act_2017.csv` files and assign them to appropriately named pandas dataframes."
   ]
  },
  {
   "cell_type": "code",
   "execution_count": 2,
   "metadata": {},
   "outputs": [
    {
     "name": "stdout",
     "output_type": "stream",
     "text": [
      "(51, 5)\n",
      "(52, 7)\n"
     ]
    }
   ],
   "source": [
    "#Importing the data and displaying the shape\n",
    "sat_score17=pd.read_csv(\"../data/sat_2017.csv\")\n",
    "act_score17=pd.read_csv(\"../data/act_2017.csv\")\n",
    "print(sat_score17.shape)\n",
    "print(act_score17.shape)\n"
   ]
  },
  {
   "cell_type": "markdown",
   "metadata": {},
   "source": [
    "#### 2. Display Data\n",
    "\n",
    "Print the first 10 rows of each dataframe to your jupyter notebook"
   ]
  },
  {
   "cell_type": "code",
   "execution_count": 3,
   "metadata": {
    "scrolled": true
   },
   "outputs": [
    {
     "name": "stdout",
     "output_type": "stream",
     "text": [
      "                  State Participation  Evidence-Based Reading and Writing  \\\n",
      "0               Alabama            5%                                 593   \n",
      "1                Alaska           38%                                 547   \n",
      "2               Arizona           30%                                 563   \n",
      "3              Arkansas            3%                                 614   \n",
      "4            California           53%                                 531   \n",
      "5              Colorado           11%                                 606   \n",
      "6           Connecticut          100%                                 530   \n",
      "7              Delaware          100%                                 503   \n",
      "8  District of Columbia          100%                                 482   \n",
      "9               Florida           83%                                 520   \n",
      "\n",
      "   Math  Total  \n",
      "0   572   1165  \n",
      "1   533   1080  \n",
      "2   553   1116  \n",
      "3   594   1208  \n",
      "4   524   1055  \n",
      "5   595   1201  \n",
      "6   512   1041  \n",
      "7   492    996  \n",
      "8   468    950  \n",
      "9   497   1017  \n"
     ]
    }
   ],
   "source": [
    "#Printing first 10 rows of 2017 SAT scores\n",
    "print(sat_score17.head(10))"
   ]
  },
  {
   "cell_type": "code",
   "execution_count": 4,
   "metadata": {
    "scrolled": true
   },
   "outputs": [
    {
     "name": "stdout",
     "output_type": "stream",
     "text": [
      "                  State Participation  English  Math  Reading  Science  \\\n",
      "0              National           60%     20.3  20.7     21.4     21.0   \n",
      "1               Alabama          100%     18.9  18.4     19.7     19.4   \n",
      "2                Alaska           65%     18.7  19.8     20.4     19.9   \n",
      "3               Arizona           62%     18.6  19.8     20.1     19.8   \n",
      "4              Arkansas          100%     18.9  19.0     19.7     19.5   \n",
      "5            California           31%     22.5  22.7     23.1     22.2   \n",
      "6              Colorado          100%     20.1  20.3     21.2     20.9   \n",
      "7           Connecticut           31%     25.5  24.6     25.6     24.6   \n",
      "8              Delaware           18%     24.1  23.4     24.8     23.6   \n",
      "9  District of Columbia           32%     24.4  23.5     24.9     23.5   \n",
      "\n",
      "  Composite  \n",
      "0      21.0  \n",
      "1      19.2  \n",
      "2      19.8  \n",
      "3      19.7  \n",
      "4      19.4  \n",
      "5      22.8  \n",
      "6      20.8  \n",
      "7      25.2  \n",
      "8      24.1  \n",
      "9      24.2  \n"
     ]
    }
   ],
   "source": [
    "#Printing first 10 rows of 2017 SAT scores\n",
    "print(act_score17.head(10))"
   ]
  },
  {
   "cell_type": "markdown",
   "metadata": {},
   "source": [
    "#### 3. Verbally Describe Data\n",
    "\n",
    "Take your time looking through the data and thoroughly describe the data in the markdown cell below. "
   ]
  },
  {
   "cell_type": "markdown",
   "metadata": {},
   "source": [
    "Answer: \n",
    "\n",
    "*From the data provided, without any in depth analysis, there seems to be an emphasis on taking either the ACT or SAT alone, as there is contrasting participation rates for each test in a state. For example, the participation of SAT in Delaware is a full 100%, but it is a low 18% participation rate for ACT. Colorado shows the exact opposite, where it has a high participation rate of 100% in ACT, but a low 11% in SAT.*\n",
    "\n",
    "*There is also a trend in which if the state has a low participation rate, the more likely that the result will be higher, regardless whether it is ACT or SAT.*\n",
    "\n",
    "*Overall, ACT has a higher participation rate amongst all the states compared to SAT, as SAT has multiple low scoring participation rates where they have participation rates of less than 5%, whereas ACT only has one state with a low participation rate of 8% (Maine).*"
   ]
  },
  {
   "cell_type": "markdown",
   "metadata": {},
   "source": [
    "#### 4a. Does the data look complete? "
   ]
  },
  {
   "cell_type": "markdown",
   "metadata": {},
   "source": [
    "Answer:\n",
    "\n",
    "*The data looks complete but requires a little bit of cleaning as there are 'noises' in the data and incorrect data. (Eg. the composite score for Wyoming's ACT has an \"x\" after the score.)*"
   ]
  },
  {
   "cell_type": "markdown",
   "metadata": {},
   "source": [
    "#### 4b. Are there any obvious issues with the observations?\n",
    "\n",
    "**What is the minimum *possible* value for each test/subtest? What is the maximum *possible* value?**\n",
    "\n",
    "Consider comparing any questionable values to the sources of your data:\n",
    "- [SAT](https://blog.collegevine.com/here-are-the-average-sat-scores-by-state/)\n",
    "- [ACT](https://blog.prepscholar.com/act-scores-by-state-averages-highs-and-lows)"
   ]
  },
  {
   "cell_type": "markdown",
   "metadata": {},
   "source": [
    "Answer:\n",
    "\n",
    "Minimum and maximum scores can be seen in the second row of the descriptive table for SAT  and ACT below.\n",
    "\n",
    "There seems to be certain outliers within the data, for example, having a score of 52 when the 25% and 75% intervals lie between 522 and 599."
   ]
  },
  {
   "cell_type": "code",
   "execution_count": 5,
   "metadata": {
    "scrolled": true
   },
   "outputs": [
    {
     "name": "stdout",
     "output_type": "stream",
     "text": [
      "Descriptive statistics for SAT score\n"
     ]
    },
    {
     "data": {
      "text/html": [
       "<div>\n",
       "<style scoped>\n",
       "    .dataframe tbody tr th:only-of-type {\n",
       "        vertical-align: middle;\n",
       "    }\n",
       "\n",
       "    .dataframe tbody tr th {\n",
       "        vertical-align: top;\n",
       "    }\n",
       "\n",
       "    .dataframe thead th {\n",
       "        text-align: right;\n",
       "    }\n",
       "</style>\n",
       "<table border=\"1\" class=\"dataframe\">\n",
       "  <thead>\n",
       "    <tr style=\"text-align: right;\">\n",
       "      <th></th>\n",
       "      <th>Evidence-Based Reading and Writing</th>\n",
       "      <th>Math</th>\n",
       "      <th>Total</th>\n",
       "    </tr>\n",
       "  </thead>\n",
       "  <tbody>\n",
       "    <tr>\n",
       "      <th>count</th>\n",
       "      <td>51.000000</td>\n",
       "      <td>51.000000</td>\n",
       "      <td>51.000000</td>\n",
       "    </tr>\n",
       "    <tr>\n",
       "      <th>mean</th>\n",
       "      <td>569.117647</td>\n",
       "      <td>547.627451</td>\n",
       "      <td>1126.098039</td>\n",
       "    </tr>\n",
       "    <tr>\n",
       "      <th>std</th>\n",
       "      <td>45.666901</td>\n",
       "      <td>84.909119</td>\n",
       "      <td>92.494812</td>\n",
       "    </tr>\n",
       "    <tr>\n",
       "      <th>min</th>\n",
       "      <td>482.000000</td>\n",
       "      <td>52.000000</td>\n",
       "      <td>950.000000</td>\n",
       "    </tr>\n",
       "    <tr>\n",
       "      <th>25%</th>\n",
       "      <td>533.500000</td>\n",
       "      <td>522.000000</td>\n",
       "      <td>1055.500000</td>\n",
       "    </tr>\n",
       "    <tr>\n",
       "      <th>50%</th>\n",
       "      <td>559.000000</td>\n",
       "      <td>548.000000</td>\n",
       "      <td>1107.000000</td>\n",
       "    </tr>\n",
       "    <tr>\n",
       "      <th>75%</th>\n",
       "      <td>613.000000</td>\n",
       "      <td>599.000000</td>\n",
       "      <td>1212.000000</td>\n",
       "    </tr>\n",
       "    <tr>\n",
       "      <th>max</th>\n",
       "      <td>644.000000</td>\n",
       "      <td>651.000000</td>\n",
       "      <td>1295.000000</td>\n",
       "    </tr>\n",
       "  </tbody>\n",
       "</table>\n",
       "</div>"
      ],
      "text/plain": [
       "       Evidence-Based Reading and Writing        Math        Total\n",
       "count                           51.000000   51.000000    51.000000\n",
       "mean                           569.117647  547.627451  1126.098039\n",
       "std                             45.666901   84.909119    92.494812\n",
       "min                            482.000000   52.000000   950.000000\n",
       "25%                            533.500000  522.000000  1055.500000\n",
       "50%                            559.000000  548.000000  1107.000000\n",
       "75%                            613.000000  599.000000  1212.000000\n",
       "max                            644.000000  651.000000  1295.000000"
      ]
     },
     "execution_count": 5,
     "metadata": {},
     "output_type": "execute_result"
    }
   ],
   "source": [
    "print(\"Descriptive statistics for SAT score\")\n",
    "sat_score17.describe()"
   ]
  },
  {
   "cell_type": "code",
   "execution_count": 6,
   "metadata": {
    "scrolled": true
   },
   "outputs": [
    {
     "name": "stdout",
     "output_type": "stream",
     "text": [
      "Descriptive statistics for SAT score\n"
     ]
    },
    {
     "data": {
      "text/html": [
       "<div>\n",
       "<style scoped>\n",
       "    .dataframe tbody tr th:only-of-type {\n",
       "        vertical-align: middle;\n",
       "    }\n",
       "\n",
       "    .dataframe tbody tr th {\n",
       "        vertical-align: top;\n",
       "    }\n",
       "\n",
       "    .dataframe thead th {\n",
       "        text-align: right;\n",
       "    }\n",
       "</style>\n",
       "<table border=\"1\" class=\"dataframe\">\n",
       "  <thead>\n",
       "    <tr style=\"text-align: right;\">\n",
       "      <th></th>\n",
       "      <th>English</th>\n",
       "      <th>Math</th>\n",
       "      <th>Reading</th>\n",
       "      <th>Science</th>\n",
       "    </tr>\n",
       "  </thead>\n",
       "  <tbody>\n",
       "    <tr>\n",
       "      <th>count</th>\n",
       "      <td>52.000000</td>\n",
       "      <td>52.000000</td>\n",
       "      <td>52.000000</td>\n",
       "      <td>52.000000</td>\n",
       "    </tr>\n",
       "    <tr>\n",
       "      <th>mean</th>\n",
       "      <td>20.919231</td>\n",
       "      <td>21.173077</td>\n",
       "      <td>22.001923</td>\n",
       "      <td>21.040385</td>\n",
       "    </tr>\n",
       "    <tr>\n",
       "      <th>std</th>\n",
       "      <td>2.332132</td>\n",
       "      <td>1.963602</td>\n",
       "      <td>2.048672</td>\n",
       "      <td>3.151113</td>\n",
       "    </tr>\n",
       "    <tr>\n",
       "      <th>min</th>\n",
       "      <td>16.300000</td>\n",
       "      <td>18.000000</td>\n",
       "      <td>18.100000</td>\n",
       "      <td>2.300000</td>\n",
       "    </tr>\n",
       "    <tr>\n",
       "      <th>25%</th>\n",
       "      <td>19.000000</td>\n",
       "      <td>19.400000</td>\n",
       "      <td>20.475000</td>\n",
       "      <td>19.900000</td>\n",
       "    </tr>\n",
       "    <tr>\n",
       "      <th>50%</th>\n",
       "      <td>20.550000</td>\n",
       "      <td>20.900000</td>\n",
       "      <td>21.700000</td>\n",
       "      <td>21.150000</td>\n",
       "    </tr>\n",
       "    <tr>\n",
       "      <th>75%</th>\n",
       "      <td>23.300000</td>\n",
       "      <td>23.100000</td>\n",
       "      <td>24.125000</td>\n",
       "      <td>22.525000</td>\n",
       "    </tr>\n",
       "    <tr>\n",
       "      <th>max</th>\n",
       "      <td>25.500000</td>\n",
       "      <td>25.300000</td>\n",
       "      <td>26.000000</td>\n",
       "      <td>24.900000</td>\n",
       "    </tr>\n",
       "  </tbody>\n",
       "</table>\n",
       "</div>"
      ],
      "text/plain": [
       "         English       Math    Reading    Science\n",
       "count  52.000000  52.000000  52.000000  52.000000\n",
       "mean   20.919231  21.173077  22.001923  21.040385\n",
       "std     2.332132   1.963602   2.048672   3.151113\n",
       "min    16.300000  18.000000  18.100000   2.300000\n",
       "25%    19.000000  19.400000  20.475000  19.900000\n",
       "50%    20.550000  20.900000  21.700000  21.150000\n",
       "75%    23.300000  23.100000  24.125000  22.525000\n",
       "max    25.500000  25.300000  26.000000  24.900000"
      ]
     },
     "execution_count": 6,
     "metadata": {},
     "output_type": "execute_result"
    }
   ],
   "source": [
    "print(\"Descriptive statistics for SAT score\")\n",
    "act_score17.describe()"
   ]
  },
  {
   "cell_type": "markdown",
   "metadata": {},
   "source": [
    "#### 4c. Fix any errors you identified\n",
    "\n",
    "**The data is available** so there's no need to guess or calculate anything. If you didn't find any errors, continue to the next step."
   ]
  },
  {
   "cell_type": "code",
   "execution_count": 7,
   "metadata": {},
   "outputs": [],
   "source": [
    "#replacing the incorrect values with the correct values from ACT and SAT's site provided above.\n",
    "act_score17.replace(to_replace=['20.2x',2.3],value=[20.2,23.2],inplace=True)\n",
    "sat_score17.replace(to_replace=52,value=524,inplace=True)"
   ]
  },
  {
   "cell_type": "markdown",
   "metadata": {},
   "source": [
    "#### 5. What are your data types? \n",
    "Display the data types of each feature. "
   ]
  },
  {
   "cell_type": "code",
   "execution_count": 8,
   "metadata": {
    "scrolled": true
   },
   "outputs": [
    {
     "name": "stdout",
     "output_type": "stream",
     "text": [
      "<class 'pandas.core.frame.DataFrame'>\n",
      "RangeIndex: 52 entries, 0 to 51\n",
      "Data columns (total 7 columns):\n",
      "State            52 non-null object\n",
      "Participation    52 non-null object\n",
      "English          52 non-null float64\n",
      "Math             52 non-null float64\n",
      "Reading          52 non-null float64\n",
      "Science          52 non-null float64\n",
      "Composite        52 non-null object\n",
      "dtypes: float64(4), object(3)\n",
      "memory usage: 3.0+ KB\n"
     ]
    }
   ],
   "source": [
    "#Data types for ACT\n",
    "act_score17.info()"
   ]
  },
  {
   "cell_type": "code",
   "execution_count": 9,
   "metadata": {},
   "outputs": [
    {
     "name": "stdout",
     "output_type": "stream",
     "text": [
      "<class 'pandas.core.frame.DataFrame'>\n",
      "RangeIndex: 51 entries, 0 to 50\n",
      "Data columns (total 5 columns):\n",
      "State                                 51 non-null object\n",
      "Participation                         51 non-null object\n",
      "Evidence-Based Reading and Writing    51 non-null int64\n",
      "Math                                  51 non-null int64\n",
      "Total                                 51 non-null int64\n",
      "dtypes: int64(3), object(2)\n",
      "memory usage: 2.1+ KB\n"
     ]
    }
   ],
   "source": [
    "#Data types for SAT\n",
    "sat_score17.info()"
   ]
  },
  {
   "cell_type": "markdown",
   "metadata": {},
   "source": [
    "What did you learn?\n",
    "- Do any of them seem odd?  \n",
    "- Which ones are not as they should be?  "
   ]
  },
  {
   "cell_type": "markdown",
   "metadata": {},
   "source": [
    "Answer: \n",
    "\n",
    "*For both dataframes, both of the partcipation columns consist of object type data instead of integers or floats, and for the ACT dataframe only, the Composite column consists of objects instead of float64.*\n"
   ]
  },
  {
   "cell_type": "markdown",
   "metadata": {},
   "source": [
    "#### 6. Fix Incorrect Data Types\n",
    "Based on what you discovered above, use appropriate methods to re-type incorrectly typed data.\n",
    "- Define a function that will allow you to convert participation rates to an appropriate numeric type. Use `map` or `apply` to change these columns in each dataframe."
   ]
  },
  {
   "cell_type": "code",
   "execution_count": 10,
   "metadata": {
    "scrolled": true
   },
   "outputs": [],
   "source": [
    "#creation of a function to convert the percentage values to integers and to remove the '%'.\n",
    "def perc_to_int(df,col):\n",
    "    def data_perc(perc):\n",
    "        return int(perc.replace(\"%\",\"\"))\n",
    "    df[col]=df[col].apply(data_perc)\n",
    "    return df"
   ]
  },
  {
   "cell_type": "code",
   "execution_count": 11,
   "metadata": {},
   "outputs": [
    {
     "name": "stdout",
     "output_type": "stream",
     "text": [
      "<class 'pandas.core.frame.DataFrame'>\n",
      "RangeIndex: 51 entries, 0 to 50\n",
      "Data columns (total 5 columns):\n",
      "State                                 51 non-null object\n",
      "Participation                         51 non-null int64\n",
      "Evidence-Based Reading and Writing    51 non-null int64\n",
      "Math                                  51 non-null int64\n",
      "Total                                 51 non-null int64\n",
      "dtypes: int64(4), object(1)\n",
      "memory usage: 2.1+ KB\n"
     ]
    }
   ],
   "source": [
    "#applying the function to the participation column for SAT 17\n",
    "perc_to_int(sat_score17,'Participation')\n",
    "sat_score17.info()"
   ]
  },
  {
   "cell_type": "code",
   "execution_count": 12,
   "metadata": {
    "scrolled": true
   },
   "outputs": [
    {
     "data": {
      "text/html": [
       "<div>\n",
       "<style scoped>\n",
       "    .dataframe tbody tr th:only-of-type {\n",
       "        vertical-align: middle;\n",
       "    }\n",
       "\n",
       "    .dataframe tbody tr th {\n",
       "        vertical-align: top;\n",
       "    }\n",
       "\n",
       "    .dataframe thead th {\n",
       "        text-align: right;\n",
       "    }\n",
       "</style>\n",
       "<table border=\"1\" class=\"dataframe\">\n",
       "  <thead>\n",
       "    <tr style=\"text-align: right;\">\n",
       "      <th></th>\n",
       "      <th>State</th>\n",
       "      <th>Participation</th>\n",
       "      <th>English</th>\n",
       "      <th>Math</th>\n",
       "      <th>Reading</th>\n",
       "      <th>Science</th>\n",
       "      <th>Composite</th>\n",
       "    </tr>\n",
       "  </thead>\n",
       "  <tbody>\n",
       "    <tr>\n",
       "      <th>0</th>\n",
       "      <td>National</td>\n",
       "      <td>60</td>\n",
       "      <td>20.3</td>\n",
       "      <td>20.7</td>\n",
       "      <td>21.4</td>\n",
       "      <td>21.0</td>\n",
       "      <td>21.0</td>\n",
       "    </tr>\n",
       "    <tr>\n",
       "      <th>1</th>\n",
       "      <td>Alabama</td>\n",
       "      <td>100</td>\n",
       "      <td>18.9</td>\n",
       "      <td>18.4</td>\n",
       "      <td>19.7</td>\n",
       "      <td>19.4</td>\n",
       "      <td>19.2</td>\n",
       "    </tr>\n",
       "    <tr>\n",
       "      <th>2</th>\n",
       "      <td>Alaska</td>\n",
       "      <td>65</td>\n",
       "      <td>18.7</td>\n",
       "      <td>19.8</td>\n",
       "      <td>20.4</td>\n",
       "      <td>19.9</td>\n",
       "      <td>19.8</td>\n",
       "    </tr>\n",
       "    <tr>\n",
       "      <th>3</th>\n",
       "      <td>Arizona</td>\n",
       "      <td>62</td>\n",
       "      <td>18.6</td>\n",
       "      <td>19.8</td>\n",
       "      <td>20.1</td>\n",
       "      <td>19.8</td>\n",
       "      <td>19.7</td>\n",
       "    </tr>\n",
       "    <tr>\n",
       "      <th>4</th>\n",
       "      <td>Arkansas</td>\n",
       "      <td>100</td>\n",
       "      <td>18.9</td>\n",
       "      <td>19.0</td>\n",
       "      <td>19.7</td>\n",
       "      <td>19.5</td>\n",
       "      <td>19.4</td>\n",
       "    </tr>\n",
       "  </tbody>\n",
       "</table>\n",
       "</div>"
      ],
      "text/plain": [
       "      State  Participation  English  Math  Reading  Science Composite\n",
       "0  National             60     20.3  20.7     21.4     21.0      21.0\n",
       "1   Alabama            100     18.9  18.4     19.7     19.4      19.2\n",
       "2    Alaska             65     18.7  19.8     20.4     19.9      19.8\n",
       "3   Arizona             62     18.6  19.8     20.1     19.8      19.7\n",
       "4  Arkansas            100     18.9  19.0     19.7     19.5      19.4"
      ]
     },
     "execution_count": 12,
     "metadata": {},
     "output_type": "execute_result"
    }
   ],
   "source": [
    "#applying the function to the participation column for ACT 17\n",
    "perc_to_int(act_score17,'Participation').head()"
   ]
  },
  {
   "cell_type": "markdown",
   "metadata": {},
   "source": [
    "- Fix any individual values preventing other columns from being the appropriate type."
   ]
  },
  {
   "cell_type": "code",
   "execution_count": 13,
   "metadata": {},
   "outputs": [],
   "source": [
    "#creation of a function to convert data to float\n",
    "def dat_to_flt(df,col):\n",
    "    def data_perc(perc):\n",
    "        return float(perc)\n",
    "    df[col]=df[col].apply(data_perc)\n",
    "    return df"
   ]
  },
  {
   "cell_type": "code",
   "execution_count": 14,
   "metadata": {},
   "outputs": [
    {
     "data": {
      "text/html": [
       "<div>\n",
       "<style scoped>\n",
       "    .dataframe tbody tr th:only-of-type {\n",
       "        vertical-align: middle;\n",
       "    }\n",
       "\n",
       "    .dataframe tbody tr th {\n",
       "        vertical-align: top;\n",
       "    }\n",
       "\n",
       "    .dataframe thead th {\n",
       "        text-align: right;\n",
       "    }\n",
       "</style>\n",
       "<table border=\"1\" class=\"dataframe\">\n",
       "  <thead>\n",
       "    <tr style=\"text-align: right;\">\n",
       "      <th></th>\n",
       "      <th>State</th>\n",
       "      <th>Participation</th>\n",
       "      <th>English</th>\n",
       "      <th>Math</th>\n",
       "      <th>Reading</th>\n",
       "      <th>Science</th>\n",
       "      <th>Composite</th>\n",
       "    </tr>\n",
       "  </thead>\n",
       "  <tbody>\n",
       "    <tr>\n",
       "      <th>0</th>\n",
       "      <td>National</td>\n",
       "      <td>60</td>\n",
       "      <td>20.3</td>\n",
       "      <td>20.7</td>\n",
       "      <td>21.4</td>\n",
       "      <td>21.0</td>\n",
       "      <td>21.0</td>\n",
       "    </tr>\n",
       "    <tr>\n",
       "      <th>1</th>\n",
       "      <td>Alabama</td>\n",
       "      <td>100</td>\n",
       "      <td>18.9</td>\n",
       "      <td>18.4</td>\n",
       "      <td>19.7</td>\n",
       "      <td>19.4</td>\n",
       "      <td>19.2</td>\n",
       "    </tr>\n",
       "    <tr>\n",
       "      <th>2</th>\n",
       "      <td>Alaska</td>\n",
       "      <td>65</td>\n",
       "      <td>18.7</td>\n",
       "      <td>19.8</td>\n",
       "      <td>20.4</td>\n",
       "      <td>19.9</td>\n",
       "      <td>19.8</td>\n",
       "    </tr>\n",
       "    <tr>\n",
       "      <th>3</th>\n",
       "      <td>Arizona</td>\n",
       "      <td>62</td>\n",
       "      <td>18.6</td>\n",
       "      <td>19.8</td>\n",
       "      <td>20.1</td>\n",
       "      <td>19.8</td>\n",
       "      <td>19.7</td>\n",
       "    </tr>\n",
       "    <tr>\n",
       "      <th>4</th>\n",
       "      <td>Arkansas</td>\n",
       "      <td>100</td>\n",
       "      <td>18.9</td>\n",
       "      <td>19.0</td>\n",
       "      <td>19.7</td>\n",
       "      <td>19.5</td>\n",
       "      <td>19.4</td>\n",
       "    </tr>\n",
       "  </tbody>\n",
       "</table>\n",
       "</div>"
      ],
      "text/plain": [
       "      State  Participation  English  Math  Reading  Science  Composite\n",
       "0  National             60     20.3  20.7     21.4     21.0       21.0\n",
       "1   Alabama            100     18.9  18.4     19.7     19.4       19.2\n",
       "2    Alaska             65     18.7  19.8     20.4     19.9       19.8\n",
       "3   Arizona             62     18.6  19.8     20.1     19.8       19.7\n",
       "4  Arkansas            100     18.9  19.0     19.7     19.5       19.4"
      ]
     },
     "execution_count": 14,
     "metadata": {},
     "output_type": "execute_result"
    }
   ],
   "source": [
    "#application of the float converter function on ACT 17\n",
    "dat_to_flt(act_score17,'Composite').head()"
   ]
  },
  {
   "cell_type": "markdown",
   "metadata": {},
   "source": [
    "- Finish your data modifications by making sure the columns are now typed appropriately."
   ]
  },
  {
   "cell_type": "code",
   "execution_count": 15,
   "metadata": {
    "scrolled": true
   },
   "outputs": [
    {
     "data": {
      "text/html": [
       "<div>\n",
       "<style scoped>\n",
       "    .dataframe tbody tr th:only-of-type {\n",
       "        vertical-align: middle;\n",
       "    }\n",
       "\n",
       "    .dataframe tbody tr th {\n",
       "        vertical-align: top;\n",
       "    }\n",
       "\n",
       "    .dataframe thead th {\n",
       "        text-align: right;\n",
       "    }\n",
       "</style>\n",
       "<table border=\"1\" class=\"dataframe\">\n",
       "  <thead>\n",
       "    <tr style=\"text-align: right;\">\n",
       "      <th></th>\n",
       "      <th>State</th>\n",
       "      <th>Participation</th>\n",
       "      <th>English</th>\n",
       "      <th>Math</th>\n",
       "      <th>Reading</th>\n",
       "      <th>Science</th>\n",
       "      <th>Composite</th>\n",
       "    </tr>\n",
       "  </thead>\n",
       "  <tbody>\n",
       "    <tr>\n",
       "      <th>0</th>\n",
       "      <td>National</td>\n",
       "      <td>60</td>\n",
       "      <td>20.3</td>\n",
       "      <td>20.7</td>\n",
       "      <td>21.4</td>\n",
       "      <td>21.0</td>\n",
       "      <td>21.0</td>\n",
       "    </tr>\n",
       "    <tr>\n",
       "      <th>1</th>\n",
       "      <td>Alabama</td>\n",
       "      <td>100</td>\n",
       "      <td>18.9</td>\n",
       "      <td>18.4</td>\n",
       "      <td>19.7</td>\n",
       "      <td>19.4</td>\n",
       "      <td>19.2</td>\n",
       "    </tr>\n",
       "    <tr>\n",
       "      <th>2</th>\n",
       "      <td>Alaska</td>\n",
       "      <td>65</td>\n",
       "      <td>18.7</td>\n",
       "      <td>19.8</td>\n",
       "      <td>20.4</td>\n",
       "      <td>19.9</td>\n",
       "      <td>19.8</td>\n",
       "    </tr>\n",
       "    <tr>\n",
       "      <th>3</th>\n",
       "      <td>Arizona</td>\n",
       "      <td>62</td>\n",
       "      <td>18.6</td>\n",
       "      <td>19.8</td>\n",
       "      <td>20.1</td>\n",
       "      <td>19.8</td>\n",
       "      <td>19.7</td>\n",
       "    </tr>\n",
       "    <tr>\n",
       "      <th>4</th>\n",
       "      <td>Arkansas</td>\n",
       "      <td>100</td>\n",
       "      <td>18.9</td>\n",
       "      <td>19.0</td>\n",
       "      <td>19.7</td>\n",
       "      <td>19.5</td>\n",
       "      <td>19.4</td>\n",
       "    </tr>\n",
       "  </tbody>\n",
       "</table>\n",
       "</div>"
      ],
      "text/plain": [
       "      State  Participation  English  Math  Reading  Science  Composite\n",
       "0  National             60     20.3  20.7     21.4     21.0       21.0\n",
       "1   Alabama            100     18.9  18.4     19.7     19.4       19.2\n",
       "2    Alaska             65     18.7  19.8     20.4     19.9       19.8\n",
       "3   Arizona             62     18.6  19.8     20.1     19.8       19.7\n",
       "4  Arkansas            100     18.9  19.0     19.7     19.5       19.4"
      ]
     },
     "execution_count": 15,
     "metadata": {},
     "output_type": "execute_result"
    }
   ],
   "source": [
    "#code\n",
    "act_score17.head()"
   ]
  },
  {
   "cell_type": "code",
   "execution_count": 16,
   "metadata": {},
   "outputs": [
    {
     "data": {
      "text/html": [
       "<div>\n",
       "<style scoped>\n",
       "    .dataframe tbody tr th:only-of-type {\n",
       "        vertical-align: middle;\n",
       "    }\n",
       "\n",
       "    .dataframe tbody tr th {\n",
       "        vertical-align: top;\n",
       "    }\n",
       "\n",
       "    .dataframe thead th {\n",
       "        text-align: right;\n",
       "    }\n",
       "</style>\n",
       "<table border=\"1\" class=\"dataframe\">\n",
       "  <thead>\n",
       "    <tr style=\"text-align: right;\">\n",
       "      <th></th>\n",
       "      <th>State</th>\n",
       "      <th>Participation</th>\n",
       "      <th>Evidence-Based Reading and Writing</th>\n",
       "      <th>Math</th>\n",
       "      <th>Total</th>\n",
       "    </tr>\n",
       "  </thead>\n",
       "  <tbody>\n",
       "    <tr>\n",
       "      <th>0</th>\n",
       "      <td>Alabama</td>\n",
       "      <td>5</td>\n",
       "      <td>593</td>\n",
       "      <td>572</td>\n",
       "      <td>1165</td>\n",
       "    </tr>\n",
       "    <tr>\n",
       "      <th>1</th>\n",
       "      <td>Alaska</td>\n",
       "      <td>38</td>\n",
       "      <td>547</td>\n",
       "      <td>533</td>\n",
       "      <td>1080</td>\n",
       "    </tr>\n",
       "    <tr>\n",
       "      <th>2</th>\n",
       "      <td>Arizona</td>\n",
       "      <td>30</td>\n",
       "      <td>563</td>\n",
       "      <td>553</td>\n",
       "      <td>1116</td>\n",
       "    </tr>\n",
       "    <tr>\n",
       "      <th>3</th>\n",
       "      <td>Arkansas</td>\n",
       "      <td>3</td>\n",
       "      <td>614</td>\n",
       "      <td>594</td>\n",
       "      <td>1208</td>\n",
       "    </tr>\n",
       "    <tr>\n",
       "      <th>4</th>\n",
       "      <td>California</td>\n",
       "      <td>53</td>\n",
       "      <td>531</td>\n",
       "      <td>524</td>\n",
       "      <td>1055</td>\n",
       "    </tr>\n",
       "  </tbody>\n",
       "</table>\n",
       "</div>"
      ],
      "text/plain": [
       "        State  Participation  Evidence-Based Reading and Writing  Math  Total\n",
       "0     Alabama              5                                 593   572   1165\n",
       "1      Alaska             38                                 547   533   1080\n",
       "2     Arizona             30                                 563   553   1116\n",
       "3    Arkansas              3                                 614   594   1208\n",
       "4  California             53                                 531   524   1055"
      ]
     },
     "execution_count": 16,
     "metadata": {},
     "output_type": "execute_result"
    }
   ],
   "source": [
    "sat_score17.head()"
   ]
  },
  {
   "cell_type": "markdown",
   "metadata": {},
   "source": [
    "- Display the data types again to confirm they are correct."
   ]
  },
  {
   "cell_type": "code",
   "execution_count": 17,
   "metadata": {},
   "outputs": [
    {
     "name": "stdout",
     "output_type": "stream",
     "text": [
      "<class 'pandas.core.frame.DataFrame'>\n",
      "RangeIndex: 51 entries, 0 to 50\n",
      "Data columns (total 5 columns):\n",
      "State                                 51 non-null object\n",
      "Participation                         51 non-null int64\n",
      "Evidence-Based Reading and Writing    51 non-null int64\n",
      "Math                                  51 non-null int64\n",
      "Total                                 51 non-null int64\n",
      "dtypes: int64(4), object(1)\n",
      "memory usage: 2.1+ KB\n",
      "None\n",
      "<class 'pandas.core.frame.DataFrame'>\n",
      "RangeIndex: 52 entries, 0 to 51\n",
      "Data columns (total 7 columns):\n",
      "State            52 non-null object\n",
      "Participation    52 non-null int64\n",
      "English          52 non-null float64\n",
      "Math             52 non-null float64\n",
      "Reading          52 non-null float64\n",
      "Science          52 non-null float64\n",
      "Composite        52 non-null float64\n",
      "dtypes: float64(5), int64(1), object(1)\n",
      "memory usage: 3.0+ KB\n",
      "None\n"
     ]
    }
   ],
   "source": [
    "#data type info for both SAT and ACT data\n",
    "print(sat_score17.info())\n",
    "print(act_score17.info())"
   ]
  },
  {
   "cell_type": "markdown",
   "metadata": {},
   "source": [
    "#### 7. Rename Columns\n",
    "Change the names of the columns to more expressive names so that you can tell the difference the SAT columns and the ACT columns. Your solution should map all column names being changed at once (no repeated singular name-changes). **We will be combining these data with some of the data from 2018, and so you should name columns in an appropriate way**.\n",
    "\n",
    "**Guidelines**:\n",
    "- Column names should be all lowercase (you will thank yourself when you start pushing data to SQL later in the course)\n",
    "- Column names should not contain spaces (underscores will suffice--this allows for using the `df.column_name` method to access columns in addition to `df['column_name']`.\n",
    "- Column names should be unique and informative (the only feature that we actually share between dataframes is the state)."
   ]
  },
  {
   "cell_type": "code",
   "execution_count": 18,
   "metadata": {
    "scrolled": true
   },
   "outputs": [
    {
     "data": {
      "text/html": [
       "<div>\n",
       "<style scoped>\n",
       "    .dataframe tbody tr th:only-of-type {\n",
       "        vertical-align: middle;\n",
       "    }\n",
       "\n",
       "    .dataframe tbody tr th {\n",
       "        vertical-align: top;\n",
       "    }\n",
       "\n",
       "    .dataframe thead th {\n",
       "        text-align: right;\n",
       "    }\n",
       "</style>\n",
       "<table border=\"1\" class=\"dataframe\">\n",
       "  <thead>\n",
       "    <tr style=\"text-align: right;\">\n",
       "      <th></th>\n",
       "      <th>state</th>\n",
       "      <th>sat17_part</th>\n",
       "      <th>sat17_read</th>\n",
       "      <th>sat17_math</th>\n",
       "      <th>sat17_total</th>\n",
       "    </tr>\n",
       "  </thead>\n",
       "  <tbody>\n",
       "    <tr>\n",
       "      <th>0</th>\n",
       "      <td>Alabama</td>\n",
       "      <td>5</td>\n",
       "      <td>593</td>\n",
       "      <td>572</td>\n",
       "      <td>1165</td>\n",
       "    </tr>\n",
       "    <tr>\n",
       "      <th>1</th>\n",
       "      <td>Alaska</td>\n",
       "      <td>38</td>\n",
       "      <td>547</td>\n",
       "      <td>533</td>\n",
       "      <td>1080</td>\n",
       "    </tr>\n",
       "    <tr>\n",
       "      <th>2</th>\n",
       "      <td>Arizona</td>\n",
       "      <td>30</td>\n",
       "      <td>563</td>\n",
       "      <td>553</td>\n",
       "      <td>1116</td>\n",
       "    </tr>\n",
       "  </tbody>\n",
       "</table>\n",
       "</div>"
      ],
      "text/plain": [
       "     state  sat17_part  sat17_read  sat17_math  sat17_total\n",
       "0  Alabama           5         593         572         1165\n",
       "1   Alaska          38         547         533         1080\n",
       "2  Arizona          30         563         553         1116"
      ]
     },
     "execution_count": 18,
     "metadata": {},
     "output_type": "execute_result"
    }
   ],
   "source": [
    "#renaming of columns for SAT\n",
    "sat_score17.rename(columns={'State':'state','Participation':'sat17_part','Evidence-Based Reading and Writing':'sat17_read','Math':'sat17_math','Total':'sat17_total'},inplace=True)\n",
    "sat_score17.head(3)"
   ]
  },
  {
   "cell_type": "code",
   "execution_count": 19,
   "metadata": {},
   "outputs": [
    {
     "data": {
      "text/html": [
       "<div>\n",
       "<style scoped>\n",
       "    .dataframe tbody tr th:only-of-type {\n",
       "        vertical-align: middle;\n",
       "    }\n",
       "\n",
       "    .dataframe tbody tr th {\n",
       "        vertical-align: top;\n",
       "    }\n",
       "\n",
       "    .dataframe thead th {\n",
       "        text-align: right;\n",
       "    }\n",
       "</style>\n",
       "<table border=\"1\" class=\"dataframe\">\n",
       "  <thead>\n",
       "    <tr style=\"text-align: right;\">\n",
       "      <th></th>\n",
       "      <th>state</th>\n",
       "      <th>act17_part</th>\n",
       "      <th>act17_eng</th>\n",
       "      <th>act17_math</th>\n",
       "      <th>act17_read</th>\n",
       "      <th>act17_sci</th>\n",
       "      <th>act17_comp</th>\n",
       "    </tr>\n",
       "  </thead>\n",
       "  <tbody>\n",
       "    <tr>\n",
       "      <th>0</th>\n",
       "      <td>National</td>\n",
       "      <td>60</td>\n",
       "      <td>20.3</td>\n",
       "      <td>20.7</td>\n",
       "      <td>21.4</td>\n",
       "      <td>21.0</td>\n",
       "      <td>21.0</td>\n",
       "    </tr>\n",
       "    <tr>\n",
       "      <th>1</th>\n",
       "      <td>Alabama</td>\n",
       "      <td>100</td>\n",
       "      <td>18.9</td>\n",
       "      <td>18.4</td>\n",
       "      <td>19.7</td>\n",
       "      <td>19.4</td>\n",
       "      <td>19.2</td>\n",
       "    </tr>\n",
       "    <tr>\n",
       "      <th>2</th>\n",
       "      <td>Alaska</td>\n",
       "      <td>65</td>\n",
       "      <td>18.7</td>\n",
       "      <td>19.8</td>\n",
       "      <td>20.4</td>\n",
       "      <td>19.9</td>\n",
       "      <td>19.8</td>\n",
       "    </tr>\n",
       "    <tr>\n",
       "      <th>3</th>\n",
       "      <td>Arizona</td>\n",
       "      <td>62</td>\n",
       "      <td>18.6</td>\n",
       "      <td>19.8</td>\n",
       "      <td>20.1</td>\n",
       "      <td>19.8</td>\n",
       "      <td>19.7</td>\n",
       "    </tr>\n",
       "  </tbody>\n",
       "</table>\n",
       "</div>"
      ],
      "text/plain": [
       "      state  act17_part  act17_eng  act17_math  act17_read  act17_sci  \\\n",
       "0  National          60       20.3        20.7        21.4       21.0   \n",
       "1   Alabama         100       18.9        18.4        19.7       19.4   \n",
       "2    Alaska          65       18.7        19.8        20.4       19.9   \n",
       "3   Arizona          62       18.6        19.8        20.1       19.8   \n",
       "\n",
       "   act17_comp  \n",
       "0        21.0  \n",
       "1        19.2  \n",
       "2        19.8  \n",
       "3        19.7  "
      ]
     },
     "execution_count": 19,
     "metadata": {},
     "output_type": "execute_result"
    }
   ],
   "source": [
    "#renaming of columns for ACT\n",
    "act_score17.rename(columns={'State':'state','Participation':'act17_part','English':'act17_eng','Math':'act17_math','Reading':'act17_read','Science':'act17_sci','Composite':'act17_comp'},inplace=True)\n",
    "act_score17.head(4)"
   ]
  },
  {
   "cell_type": "markdown",
   "metadata": {},
   "source": [
    "#### 8. Create a data dictionary\n",
    "\n",
    "Now that we've fixed our data, and given it appropriate names, let's create a [data dictionary](http://library.ucmerced.edu/node/10249). \n",
    "\n",
    "A data dictionary provides a quick overview of features/variables/columns, alongside data types and descriptions. The more descriptive you can be, the more useful this document is.\n",
    "\n",
    "Example of a Fictional Data Dictionary Entry: \n",
    "\n",
    "|Feature|Type|Dataset|Description|\n",
    "|---|---|---|---|\n",
    "|**county_pop**|*integer*|2010 census|The population of the county (units in thousands, where 2.5 represents 2500 people).| \n",
    "|**per_poverty**|*float*|2010 census|The percent of the county over the age of 18 living below the 200% of official US poverty rate (units percent to two decimal places 98.10 means 98.1%)|\n",
    "\n",
    "[Here's a quick link to a short guide for formatting markdown in Jupyter notebooks](https://jupyter-notebook.readthedocs.io/en/stable/examples/Notebook/Working%20With%20Markdown%20Cells.html).\n",
    "\n",
    "Provided is the skeleton for formatting a markdown table, with columns headers that will help you create a data dictionary to quickly summarize your data, as well as some examples. **This would be a great thing to copy and paste into your custom README for this project.**"
   ]
  },
  {
   "cell_type": "markdown",
   "metadata": {},
   "source": [
    "|Feature|Type|Dataset|Description|\n",
    "|---|---|---|---|\n",
    "|column name|int/float/object|ACT/SAT|This is an example| \n"
   ]
  },
  {
   "cell_type": "markdown",
   "metadata": {},
   "source": [
    "| Column Name | Dataset (Test & Year)            | Type  | Description                                                  |\n",
    "| ----------- | -------------------------------- | ----- | ------------------------------------------------------------ |\n",
    "| State       | SAT 2017 & 2018, ACT 2017 & 2018 | STR   | Name of the State                                            |\n",
    "| act17_part  | ACT 2017                         | INT   | Participation rate of students  (in percentage) from the State for the 2017 ACT |\n",
    "| act17_eng   | ACT 2017                         | FLOAT | Mean score for the English test for the State                |\n",
    "| act17_math  | ACT 2017                         | FLOAT | Mean score for the Math test for the State                   |\n",
    "| act17_read  | ACT 2017                         | FLOAT | Mean score for the Reading test for the State                |\n",
    "| act17_sci   | ACT 2017                         | FLOAT | Mean score for the Science test for the State                |\n",
    "| act17_comp  | ACT 2017                         | FLOAT | Mean composite score for the State in all the tests (English, Math, Reading & Science) |\n",
    "| sat17_part  | SAT 2017                         | INT   | Participation rate of students  (in percentage) from the State for the 2017 SAT |\n",
    "| sat17_read  | SAT 2017                         | INT   | Mean score for the Evidence-Based Reading and Writing test for the State |\n",
    "| sat17_math  | SAT 2017                         | INT   | Mean score for the Math test for the State                   |\n",
    "| sat17_total | SAT 2017                         | INT   | Mean total score for the state in all SAT tests (Evidence-Based Reading and Writing & Math) |\n",
    "| act17_part  | ACT 2018                         | INT   | Participation rate of students  (in percentage) from the State for the 2018 ACT |\n",
    "| act17_eng   | ACT 2018                         | FLOAT | Mean score for the English test for the State                |\n",
    "| act17_math  | ACT 2018                         | FLOAT | Mean score for the Math test for the State                   |\n",
    "| act17_read  | ACT 2018                         | FLOAT | Mean score for the Reading test for the State                |\n",
    "| act17_sci   | ACT 2018                         | FLOAT | Mean score for the Science test for the State                |\n",
    "| act17_comp  | ACT 2018                         | FLOAT | Mean composite score for the State in all the tests (English, Math, Reading & Science) |\n",
    "| sat17_part  | SAT 2018                         | INT   | Participation rate of students  (in percentage) from the State for the 2018 SAT |\n",
    "| sat17_read  | SAT 2018                         | INT   | Mean score for the Evidence-Based Reading and Writing test for the State |\n",
    "| sat17_math  | SAT 2018                         | INT   | Mean score for the Math test for the State                   |\n",
    "| sat17_total | SAT 2018                         | INT   | Mean total score for the state in all SAT tests (Evidence-Based Reading and Writing & Math) |\n",
    "\n",
    "\n",
    "\n"
   ]
  },
  {
   "cell_type": "markdown",
   "metadata": {},
   "source": [
    "#### 9. Drop unnecessary rows\n",
    "\n",
    "One of our dataframes contains an extra row. Identify and remove this from the dataframe."
   ]
  },
  {
   "cell_type": "code",
   "execution_count": 20,
   "metadata": {},
   "outputs": [],
   "source": [
    "#removed national from ACT dataframe\n",
    "act_score17=act_score17[1:]"
   ]
  },
  {
   "cell_type": "markdown",
   "metadata": {},
   "source": [
    "#### 10. Merge Dataframes\n",
    "\n",
    "Join the 2017 ACT and SAT dataframes using the state in each dataframe as the key. Assign this to a new variable."
   ]
  },
  {
   "cell_type": "code",
   "execution_count": 21,
   "metadata": {
    "scrolled": true
   },
   "outputs": [
    {
     "name": "stdout",
     "output_type": "stream",
     "text": [
      "<class 'pandas.core.frame.DataFrame'>\n",
      "Int64Index: 51 entries, 0 to 50\n",
      "Data columns (total 11 columns):\n",
      "state          51 non-null object\n",
      "act17_part     51 non-null int64\n",
      "act17_eng      51 non-null float64\n",
      "act17_math     51 non-null float64\n",
      "act17_read     51 non-null float64\n",
      "act17_sci      51 non-null float64\n",
      "act17_comp     51 non-null float64\n",
      "sat17_part     51 non-null int64\n",
      "sat17_read     51 non-null int64\n",
      "sat17_math     51 non-null int64\n",
      "sat17_total    51 non-null int64\n",
      "dtypes: float64(5), int64(5), object(1)\n",
      "memory usage: 4.8+ KB\n"
     ]
    }
   ],
   "source": [
    "#merging SAT and ACT 2017 data.\n",
    "state_scores17=pd.merge(act_score17,sat_score17,how='left')\n",
    "state_scores17.info()"
   ]
  },
  {
   "cell_type": "markdown",
   "metadata": {},
   "source": [
    "#### 11. Save your cleaned, merged dataframe\n",
    "\n",
    "Use a relative path to save out your data as `combined_2017.csv`."
   ]
  },
  {
   "cell_type": "code",
   "execution_count": 22,
   "metadata": {},
   "outputs": [],
   "source": [
    "#saving data file.\n",
    "state_scores17.to_csv('data/combined_2017.csv')"
   ]
  },
  {
   "cell_type": "markdown",
   "metadata": {},
   "source": [
    "## 2018 Data Import and Cleaning"
   ]
  },
  {
   "cell_type": "markdown",
   "metadata": {},
   "source": [
    "Links to the 2018 ACT and SAT data are provided in the README. These data live in PDFs, and so you'll get to enjoy practicing some *manual* data collection. Save these data as a CSV in your `data` directory, and import, explore, and clean these data in the same way you did above. **Make sure you comment on your steps so it is clear *why* you are doing each process**."
   ]
  },
  {
   "cell_type": "code",
   "execution_count": 23,
   "metadata": {},
   "outputs": [
    {
     "name": "stdout",
     "output_type": "stream",
     "text": [
      "(51, 5)\n",
      "(51, 7)\n"
     ]
    }
   ],
   "source": [
    "#importing 2018 data for ACT and SAT and checking the shape of each.\n",
    "sat_score18=pd.read_csv(\"../data/sat_2018.csv\")\n",
    "act_score18=pd.read_csv(\"../data/act_2018_updated.csv\")\n",
    "print(sat_score18.shape)\n",
    "print(act_score18.shape)"
   ]
  },
  {
   "cell_type": "code",
   "execution_count": 24,
   "metadata": {
    "scrolled": false
   },
   "outputs": [
    {
     "data": {
      "text/html": [
       "<div>\n",
       "<style scoped>\n",
       "    .dataframe tbody tr th:only-of-type {\n",
       "        vertical-align: middle;\n",
       "    }\n",
       "\n",
       "    .dataframe tbody tr th {\n",
       "        vertical-align: top;\n",
       "    }\n",
       "\n",
       "    .dataframe thead th {\n",
       "        text-align: right;\n",
       "    }\n",
       "</style>\n",
       "<table border=\"1\" class=\"dataframe\">\n",
       "  <thead>\n",
       "    <tr style=\"text-align: right;\">\n",
       "      <th></th>\n",
       "      <th>state</th>\n",
       "      <th>sat18_part</th>\n",
       "      <th>sat18_read</th>\n",
       "      <th>sat18_math</th>\n",
       "      <th>sat18_total</th>\n",
       "    </tr>\n",
       "  </thead>\n",
       "  <tbody>\n",
       "    <tr>\n",
       "      <th>0</th>\n",
       "      <td>Alabama</td>\n",
       "      <td>6</td>\n",
       "      <td>595</td>\n",
       "      <td>571</td>\n",
       "      <td>1166</td>\n",
       "    </tr>\n",
       "    <tr>\n",
       "      <th>1</th>\n",
       "      <td>Alaska</td>\n",
       "      <td>43</td>\n",
       "      <td>562</td>\n",
       "      <td>544</td>\n",
       "      <td>1106</td>\n",
       "    </tr>\n",
       "    <tr>\n",
       "      <th>2</th>\n",
       "      <td>Arizona</td>\n",
       "      <td>29</td>\n",
       "      <td>577</td>\n",
       "      <td>572</td>\n",
       "      <td>1149</td>\n",
       "    </tr>\n",
       "    <tr>\n",
       "      <th>3</th>\n",
       "      <td>Arkansas</td>\n",
       "      <td>5</td>\n",
       "      <td>592</td>\n",
       "      <td>576</td>\n",
       "      <td>1169</td>\n",
       "    </tr>\n",
       "    <tr>\n",
       "      <th>4</th>\n",
       "      <td>California</td>\n",
       "      <td>60</td>\n",
       "      <td>540</td>\n",
       "      <td>536</td>\n",
       "      <td>1076</td>\n",
       "    </tr>\n",
       "  </tbody>\n",
       "</table>\n",
       "</div>"
      ],
      "text/plain": [
       "        state  sat18_part  sat18_read  sat18_math  sat18_total\n",
       "0     Alabama           6         595         571         1166\n",
       "1      Alaska          43         562         544         1106\n",
       "2     Arizona          29         577         572         1149\n",
       "3    Arkansas           5         592         576         1169\n",
       "4  California          60         540         536         1076"
      ]
     },
     "execution_count": 24,
     "metadata": {},
     "output_type": "execute_result"
    }
   ],
   "source": [
    "#formatting the SAT 2018 data to rename the column and to convert format the participation column.\n",
    "sat_score18.rename(columns={'State':'state','Participation':'sat18_part','Evidence-Based Reading and Writing':'sat18_read','Math':'sat18_math','Total':'sat18_total'},inplace=True)\n",
    "perc_to_int(sat_score18,'sat18_part').head()"
   ]
  },
  {
   "cell_type": "code",
   "execution_count": 25,
   "metadata": {
    "scrolled": true
   },
   "outputs": [
    {
     "name": "stdout",
     "output_type": "stream",
     "text": [
      "<class 'pandas.core.frame.DataFrame'>\n",
      "RangeIndex: 51 entries, 0 to 50\n",
      "Data columns (total 7 columns):\n",
      "state         51 non-null object\n",
      "act18_part    51 non-null int64\n",
      "act18_comp    51 non-null float64\n",
      "act18_eng     51 non-null float64\n",
      "act18_math    51 non-null float64\n",
      "act18_read    51 non-null float64\n",
      "act18_sci     51 non-null float64\n",
      "dtypes: float64(5), int64(1), object(1)\n",
      "memory usage: 2.9+ KB\n"
     ]
    }
   ],
   "source": [
    "#formatting the SAT 2018 data to rename the column.\n",
    "act_score18.rename(columns={'State':'state','Percentage of Students Tested':'act18_part','Average English Score':'act18_eng','Average Math Score':'act18_math','Average Reading Score':'act18_read','Average Science Score':'act18_sci','Average Composite Score':'act18_comp'},inplace=True)\n",
    "act_score18.info()\n"
   ]
  },
  {
   "cell_type": "markdown",
   "metadata": {},
   "source": [
    "#### Combine your 2017 and 2018 data into a single dataframe\n",
    "Joining on state names should work, assuming you formatted all your state names identically. Make sure none of your columns (other than state) have identical names. Do yourself a favor and decide if you're encoding participation rates as floats or integers and standardize this across your datasets.\n",
    "\n",
    "Save the contents of this merged dataframe as `final.csv`.\n",
    "\n",
    "**Use this combined dataframe for the remainder of the project**."
   ]
  },
  {
   "cell_type": "code",
   "execution_count": 26,
   "metadata": {},
   "outputs": [],
   "source": [
    "#next 3 lines are to merge the 2017 and 2018 data together into one and saving it in the folder\n",
    "state_scores18=pd.merge(act_score18,sat_score18,how='left')"
   ]
  },
  {
   "cell_type": "code",
   "execution_count": 27,
   "metadata": {
    "scrolled": true
   },
   "outputs": [],
   "source": [
    "scores_1718=pd.merge(state_scores17,state_scores18,how='left')"
   ]
  },
  {
   "cell_type": "code",
   "execution_count": 28,
   "metadata": {},
   "outputs": [],
   "source": [
    "scores_1718.to_csv('data/final.csv')"
   ]
  },
  {
   "cell_type": "markdown",
   "metadata": {},
   "source": [
    "## Exploratory Data Analysis\n",
    "\n",
    "\n",
    "### Summary Statistics\n",
    "Transpose the output of pandas `describe` method to create a quick overview of each numeric feature."
   ]
  },
  {
   "cell_type": "code",
   "execution_count": 29,
   "metadata": {},
   "outputs": [
    {
     "data": {
      "text/html": [
       "<div>\n",
       "<style scoped>\n",
       "    .dataframe tbody tr th:only-of-type {\n",
       "        vertical-align: middle;\n",
       "    }\n",
       "\n",
       "    .dataframe tbody tr th {\n",
       "        vertical-align: top;\n",
       "    }\n",
       "\n",
       "    .dataframe thead th {\n",
       "        text-align: right;\n",
       "    }\n",
       "</style>\n",
       "<table border=\"1\" class=\"dataframe\">\n",
       "  <thead>\n",
       "    <tr style=\"text-align: right;\">\n",
       "      <th></th>\n",
       "      <th>act17_part</th>\n",
       "      <th>act17_eng</th>\n",
       "      <th>act17_math</th>\n",
       "      <th>act17_read</th>\n",
       "      <th>act17_sci</th>\n",
       "      <th>act17_comp</th>\n",
       "      <th>sat17_part</th>\n",
       "      <th>sat17_read</th>\n",
       "      <th>sat17_math</th>\n",
       "      <th>sat17_total</th>\n",
       "      <th>act18_part</th>\n",
       "      <th>act18_comp</th>\n",
       "      <th>act18_eng</th>\n",
       "      <th>act18_math</th>\n",
       "      <th>act18_read</th>\n",
       "      <th>act18_sci</th>\n",
       "      <th>sat18_part</th>\n",
       "      <th>sat18_read</th>\n",
       "      <th>sat18_math</th>\n",
       "      <th>sat18_total</th>\n",
       "    </tr>\n",
       "  </thead>\n",
       "  <tbody>\n",
       "    <tr>\n",
       "      <th>count</th>\n",
       "      <td>51.000000</td>\n",
       "      <td>51.000000</td>\n",
       "      <td>51.000000</td>\n",
       "      <td>51.000000</td>\n",
       "      <td>51.000000</td>\n",
       "      <td>51.000000</td>\n",
       "      <td>51.000000</td>\n",
       "      <td>51.000000</td>\n",
       "      <td>51.000000</td>\n",
       "      <td>51.000000</td>\n",
       "      <td>51.000000</td>\n",
       "      <td>51.000000</td>\n",
       "      <td>51.000000</td>\n",
       "      <td>51.000000</td>\n",
       "      <td>51.000000</td>\n",
       "      <td>51.000000</td>\n",
       "      <td>51.000000</td>\n",
       "      <td>51.000000</td>\n",
       "      <td>51.000000</td>\n",
       "      <td>51.000000</td>\n",
       "    </tr>\n",
       "    <tr>\n",
       "      <th>mean</th>\n",
       "      <td>65.254902</td>\n",
       "      <td>20.931373</td>\n",
       "      <td>21.182353</td>\n",
       "      <td>22.013725</td>\n",
       "      <td>21.450980</td>\n",
       "      <td>21.519608</td>\n",
       "      <td>39.803922</td>\n",
       "      <td>569.117647</td>\n",
       "      <td>556.882353</td>\n",
       "      <td>1126.098039</td>\n",
       "      <td>61.647059</td>\n",
       "      <td>21.486275</td>\n",
       "      <td>20.988235</td>\n",
       "      <td>21.125490</td>\n",
       "      <td>22.015686</td>\n",
       "      <td>21.345098</td>\n",
       "      <td>45.745098</td>\n",
       "      <td>563.686275</td>\n",
       "      <td>556.235294</td>\n",
       "      <td>1120.019608</td>\n",
       "    </tr>\n",
       "    <tr>\n",
       "      <th>std</th>\n",
       "      <td>32.140842</td>\n",
       "      <td>2.353677</td>\n",
       "      <td>1.981989</td>\n",
       "      <td>2.067271</td>\n",
       "      <td>1.739353</td>\n",
       "      <td>2.020695</td>\n",
       "      <td>35.276632</td>\n",
       "      <td>45.666901</td>\n",
       "      <td>47.121395</td>\n",
       "      <td>92.494812</td>\n",
       "      <td>34.080976</td>\n",
       "      <td>2.106278</td>\n",
       "      <td>2.446356</td>\n",
       "      <td>2.035765</td>\n",
       "      <td>2.167245</td>\n",
       "      <td>1.870114</td>\n",
       "      <td>37.314256</td>\n",
       "      <td>47.502627</td>\n",
       "      <td>47.772623</td>\n",
       "      <td>94.155083</td>\n",
       "    </tr>\n",
       "    <tr>\n",
       "      <th>min</th>\n",
       "      <td>8.000000</td>\n",
       "      <td>16.300000</td>\n",
       "      <td>18.000000</td>\n",
       "      <td>18.100000</td>\n",
       "      <td>18.200000</td>\n",
       "      <td>17.800000</td>\n",
       "      <td>2.000000</td>\n",
       "      <td>482.000000</td>\n",
       "      <td>468.000000</td>\n",
       "      <td>950.000000</td>\n",
       "      <td>7.000000</td>\n",
       "      <td>17.700000</td>\n",
       "      <td>16.600000</td>\n",
       "      <td>17.800000</td>\n",
       "      <td>18.000000</td>\n",
       "      <td>17.900000</td>\n",
       "      <td>2.000000</td>\n",
       "      <td>480.000000</td>\n",
       "      <td>480.000000</td>\n",
       "      <td>977.000000</td>\n",
       "    </tr>\n",
       "    <tr>\n",
       "      <th>25%</th>\n",
       "      <td>31.000000</td>\n",
       "      <td>19.000000</td>\n",
       "      <td>19.400000</td>\n",
       "      <td>20.450000</td>\n",
       "      <td>19.950000</td>\n",
       "      <td>19.800000</td>\n",
       "      <td>4.000000</td>\n",
       "      <td>533.500000</td>\n",
       "      <td>523.500000</td>\n",
       "      <td>1055.500000</td>\n",
       "      <td>28.500000</td>\n",
       "      <td>19.950000</td>\n",
       "      <td>19.100000</td>\n",
       "      <td>19.400000</td>\n",
       "      <td>20.450000</td>\n",
       "      <td>19.850000</td>\n",
       "      <td>4.500000</td>\n",
       "      <td>534.500000</td>\n",
       "      <td>522.500000</td>\n",
       "      <td>1057.500000</td>\n",
       "    </tr>\n",
       "    <tr>\n",
       "      <th>50%</th>\n",
       "      <td>69.000000</td>\n",
       "      <td>20.700000</td>\n",
       "      <td>20.900000</td>\n",
       "      <td>21.800000</td>\n",
       "      <td>21.300000</td>\n",
       "      <td>21.400000</td>\n",
       "      <td>38.000000</td>\n",
       "      <td>559.000000</td>\n",
       "      <td>548.000000</td>\n",
       "      <td>1107.000000</td>\n",
       "      <td>66.000000</td>\n",
       "      <td>21.300000</td>\n",
       "      <td>20.200000</td>\n",
       "      <td>20.700000</td>\n",
       "      <td>21.600000</td>\n",
       "      <td>21.100000</td>\n",
       "      <td>52.000000</td>\n",
       "      <td>552.000000</td>\n",
       "      <td>544.000000</td>\n",
       "      <td>1098.000000</td>\n",
       "    </tr>\n",
       "    <tr>\n",
       "      <th>75%</th>\n",
       "      <td>100.000000</td>\n",
       "      <td>23.300000</td>\n",
       "      <td>23.100000</td>\n",
       "      <td>24.150000</td>\n",
       "      <td>23.200000</td>\n",
       "      <td>23.600000</td>\n",
       "      <td>66.000000</td>\n",
       "      <td>613.000000</td>\n",
       "      <td>599.000000</td>\n",
       "      <td>1212.000000</td>\n",
       "      <td>100.000000</td>\n",
       "      <td>23.550000</td>\n",
       "      <td>23.700000</td>\n",
       "      <td>23.150000</td>\n",
       "      <td>24.100000</td>\n",
       "      <td>23.050000</td>\n",
       "      <td>77.500000</td>\n",
       "      <td>610.500000</td>\n",
       "      <td>593.500000</td>\n",
       "      <td>1204.000000</td>\n",
       "    </tr>\n",
       "    <tr>\n",
       "      <th>max</th>\n",
       "      <td>100.000000</td>\n",
       "      <td>25.500000</td>\n",
       "      <td>25.300000</td>\n",
       "      <td>26.000000</td>\n",
       "      <td>24.900000</td>\n",
       "      <td>25.500000</td>\n",
       "      <td>100.000000</td>\n",
       "      <td>644.000000</td>\n",
       "      <td>651.000000</td>\n",
       "      <td>1295.000000</td>\n",
       "      <td>100.000000</td>\n",
       "      <td>25.600000</td>\n",
       "      <td>26.000000</td>\n",
       "      <td>25.200000</td>\n",
       "      <td>26.100000</td>\n",
       "      <td>24.900000</td>\n",
       "      <td>100.000000</td>\n",
       "      <td>643.000000</td>\n",
       "      <td>655.000000</td>\n",
       "      <td>1298.000000</td>\n",
       "    </tr>\n",
       "  </tbody>\n",
       "</table>\n",
       "</div>"
      ],
      "text/plain": [
       "       act17_part  act17_eng  act17_math  act17_read  act17_sci  act17_comp  \\\n",
       "count   51.000000  51.000000   51.000000   51.000000  51.000000   51.000000   \n",
       "mean    65.254902  20.931373   21.182353   22.013725  21.450980   21.519608   \n",
       "std     32.140842   2.353677    1.981989    2.067271   1.739353    2.020695   \n",
       "min      8.000000  16.300000   18.000000   18.100000  18.200000   17.800000   \n",
       "25%     31.000000  19.000000   19.400000   20.450000  19.950000   19.800000   \n",
       "50%     69.000000  20.700000   20.900000   21.800000  21.300000   21.400000   \n",
       "75%    100.000000  23.300000   23.100000   24.150000  23.200000   23.600000   \n",
       "max    100.000000  25.500000   25.300000   26.000000  24.900000   25.500000   \n",
       "\n",
       "       sat17_part  sat17_read  sat17_math  sat17_total  act18_part  \\\n",
       "count   51.000000   51.000000   51.000000    51.000000   51.000000   \n",
       "mean    39.803922  569.117647  556.882353  1126.098039   61.647059   \n",
       "std     35.276632   45.666901   47.121395    92.494812   34.080976   \n",
       "min      2.000000  482.000000  468.000000   950.000000    7.000000   \n",
       "25%      4.000000  533.500000  523.500000  1055.500000   28.500000   \n",
       "50%     38.000000  559.000000  548.000000  1107.000000   66.000000   \n",
       "75%     66.000000  613.000000  599.000000  1212.000000  100.000000   \n",
       "max    100.000000  644.000000  651.000000  1295.000000  100.000000   \n",
       "\n",
       "       act18_comp  act18_eng  act18_math  act18_read  act18_sci  sat18_part  \\\n",
       "count   51.000000  51.000000   51.000000   51.000000  51.000000   51.000000   \n",
       "mean    21.486275  20.988235   21.125490   22.015686  21.345098   45.745098   \n",
       "std      2.106278   2.446356    2.035765    2.167245   1.870114   37.314256   \n",
       "min     17.700000  16.600000   17.800000   18.000000  17.900000    2.000000   \n",
       "25%     19.950000  19.100000   19.400000   20.450000  19.850000    4.500000   \n",
       "50%     21.300000  20.200000   20.700000   21.600000  21.100000   52.000000   \n",
       "75%     23.550000  23.700000   23.150000   24.100000  23.050000   77.500000   \n",
       "max     25.600000  26.000000   25.200000   26.100000  24.900000  100.000000   \n",
       "\n",
       "       sat18_read  sat18_math  sat18_total  \n",
       "count   51.000000   51.000000    51.000000  \n",
       "mean   563.686275  556.235294  1120.019608  \n",
       "std     47.502627   47.772623    94.155083  \n",
       "min    480.000000  480.000000   977.000000  \n",
       "25%    534.500000  522.500000  1057.500000  \n",
       "50%    552.000000  544.000000  1098.000000  \n",
       "75%    610.500000  593.500000  1204.000000  \n",
       "max    643.000000  655.000000  1298.000000  "
      ]
     },
     "execution_count": 29,
     "metadata": {},
     "output_type": "execute_result"
    }
   ],
   "source": [
    "#Summary statistics of the combined file.\n",
    "scores_1718.describe()"
   ]
  },
  {
   "cell_type": "markdown",
   "metadata": {},
   "source": [
    "#### Manually calculate standard deviation\n",
    "\n",
    "$$\\sigma = \\sqrt{\\frac{1}{n}\\sum_{i=1}^n(x_i - \\mu)^2}$$\n",
    "\n",
    "- Write a function to calculate standard deviation using the formula above"
   ]
  },
  {
   "cell_type": "code",
   "execution_count": 30,
   "metadata": {},
   "outputs": [],
   "source": [
    "def stand_dev(col):\n",
    "    mean_col=sum(col)/len(col)\n",
    "    total_sum = [(x-mean_col)**2 for x in col]\n",
    "    return ((sum(total_sum))/len(col))**0.5"
   ]
  },
  {
   "cell_type": "markdown",
   "metadata": {},
   "source": [
    "- Use a **dictionary comprehension** to apply your standard deviation function to each numeric column in the dataframe.  **No loops**  \n",
    "- Assign the output to variable `sd` as a dictionary where: \n",
    "    - Each column name is now a key \n",
    "    - That standard deviation of the column is the value \n",
    "     \n",
    "*Example Output :* `{'ACT_Math': 120, 'ACT_Reading': 120, ...}`"
   ]
  },
  {
   "cell_type": "code",
   "execution_count": 31,
   "metadata": {},
   "outputs": [],
   "source": [
    "#generating a list of columns, excluding \"state\"\n",
    "column_list=list(scores_1718.columns)\n",
    "column_list=column_list[1:]"
   ]
  },
  {
   "cell_type": "code",
   "execution_count": 32,
   "metadata": {},
   "outputs": [],
   "source": [
    "#zipping the column names with the standard deviation for each column.\n",
    "sd_dict = {key: stand_dev(value) for (key,value) in zip(column_list, [scores_1718[col] for col in scores_1718.columns[1:]])}"
   ]
  },
  {
   "cell_type": "code",
   "execution_count": 33,
   "metadata": {},
   "outputs": [
    {
     "data": {
      "text/plain": [
       "{'act17_part': 31.824175751231806,\n",
       " 'act17_eng': 2.3304876369363363,\n",
       " 'act17_math': 1.9624620273436781,\n",
       " 'act17_read': 2.0469029314842646,\n",
       " 'act17_sci': 1.7222161451443676,\n",
       " 'act17_comp': 2.000786081581989,\n",
       " 'sat17_part': 34.92907076664508,\n",
       " 'sat17_read': 45.21697020437866,\n",
       " 'sat17_math': 46.65713364485503,\n",
       " 'sat17_total': 91.58351056778743,\n",
       " 'act18_part': 33.745194881997506,\n",
       " 'act18_comp': 2.0855261815801147,\n",
       " 'act18_eng': 2.4222536143202795,\n",
       " 'act18_math': 2.015707255555717,\n",
       " 'act18_read': 2.145891884510421,\n",
       " 'act18_sci': 1.8516885484833543,\n",
       " 'sat18_part': 36.946619223539415,\n",
       " 'sat18_read': 47.03460978357609,\n",
       " 'sat18_math': 47.30194550378352,\n",
       " 'sat18_total': 93.22742384464433}"
      ]
     },
     "execution_count": 33,
     "metadata": {},
     "output_type": "execute_result"
    }
   ],
   "source": [
    "sd_dict"
   ]
  },
  {
   "cell_type": "markdown",
   "metadata": {},
   "source": [
    "Do your manually calculated standard deviations match up with the output from pandas `describe`? What about numpy's `std` method?"
   ]
  },
  {
   "cell_type": "markdown",
   "metadata": {},
   "source": [
    "Answer:\n",
    "\n",
    "*Panda's calculation has a slightly higher standard deviation from numpy's calculation, as pandas uses (n-1) in their standard deviation formula, compared to just (n) for numpy.*"
   ]
  },
  {
   "cell_type": "markdown",
   "metadata": {},
   "source": [
    "#### Investigate trends in the data\n",
    "Using sorting and/or masking (along with the `.head` method to not print our entire dataframe), consider the following questions:\n",
    "\n",
    "- Which states have the highest and lowest participation rates for the:\n",
    "    - 2017 SAT? \n",
    "    - 2018 SAT? \n",
    "    - 2017 ACT?\n",
    "    - 2018 ACT?\n",
    "- Which states have the highest and lowest mean total/composite scores for the:\n",
    "    - 2017 SAT?\n",
    "    - 2018 SAT?\n",
    "    - 2017 ACT?\n",
    "    - 2018 ACT?\n",
    "- Do any states with 100% participation on a given test have a rate change year-to-year?\n",
    "- Do any states show have >50% participation on *both* tests either year?\n",
    "\n",
    "Based on what you've just observed, have you identified any states that you're especially interested in? **Make a note of these and state *why* you think they're interesting**.\n",
    "\n",
    "**You should comment on your findings at each step in a markdown cell below your code block**. Make sure you include at least one example of sorting your dataframe by a column, and one example of using boolean filtering (i.e., masking) to select a subset of the dataframe."
   ]
  },
  {
   "cell_type": "code",
   "execution_count": 34,
   "metadata": {
    "scrolled": false
   },
   "outputs": [
    {
     "name": "stdout",
     "output_type": "stream",
     "text": [
      "Highest participation rate for 2017 SAT: District of Columbia, Michigan, Conneticut & Delaware \n",
      "Highest participation rate for 2018 SAT: Colorado, Idaho, Michigan, Conneticut & Delaware \n"
     ]
    },
    {
     "data": {
      "text/html": [
       "<div>\n",
       "<style scoped>\n",
       "    .dataframe tbody tr th:only-of-type {\n",
       "        vertical-align: middle;\n",
       "    }\n",
       "\n",
       "    .dataframe tbody tr th {\n",
       "        vertical-align: top;\n",
       "    }\n",
       "\n",
       "    .dataframe thead th {\n",
       "        text-align: right;\n",
       "    }\n",
       "</style>\n",
       "<table border=\"1\" class=\"dataframe\">\n",
       "  <thead>\n",
       "    <tr style=\"text-align: right;\">\n",
       "      <th></th>\n",
       "      <th>state</th>\n",
       "      <th>sat17_part</th>\n",
       "      <th>sat18_part</th>\n",
       "      <th>act17_part</th>\n",
       "      <th>act18_part</th>\n",
       "    </tr>\n",
       "  </thead>\n",
       "  <tbody>\n",
       "    <tr>\n",
       "      <th>5</th>\n",
       "      <td>Colorado</td>\n",
       "      <td>11</td>\n",
       "      <td>100</td>\n",
       "      <td>100</td>\n",
       "      <td>30</td>\n",
       "    </tr>\n",
       "    <tr>\n",
       "      <th>6</th>\n",
       "      <td>Connecticut</td>\n",
       "      <td>100</td>\n",
       "      <td>100</td>\n",
       "      <td>31</td>\n",
       "      <td>26</td>\n",
       "    </tr>\n",
       "    <tr>\n",
       "      <th>7</th>\n",
       "      <td>Delaware</td>\n",
       "      <td>100</td>\n",
       "      <td>100</td>\n",
       "      <td>18</td>\n",
       "      <td>17</td>\n",
       "    </tr>\n",
       "    <tr>\n",
       "      <th>22</th>\n",
       "      <td>Michigan</td>\n",
       "      <td>100</td>\n",
       "      <td>100</td>\n",
       "      <td>29</td>\n",
       "      <td>22</td>\n",
       "    </tr>\n",
       "    <tr>\n",
       "      <th>12</th>\n",
       "      <td>Idaho</td>\n",
       "      <td>93</td>\n",
       "      <td>100</td>\n",
       "      <td>38</td>\n",
       "      <td>36</td>\n",
       "    </tr>\n",
       "    <tr>\n",
       "      <th>19</th>\n",
       "      <td>Maine</td>\n",
       "      <td>95</td>\n",
       "      <td>99</td>\n",
       "      <td>8</td>\n",
       "      <td>7</td>\n",
       "    </tr>\n",
       "    <tr>\n",
       "      <th>13</th>\n",
       "      <td>Illinois</td>\n",
       "      <td>9</td>\n",
       "      <td>99</td>\n",
       "      <td>93</td>\n",
       "      <td>43</td>\n",
       "    </tr>\n",
       "  </tbody>\n",
       "</table>\n",
       "</div>"
      ],
      "text/plain": [
       "          state  sat17_part  sat18_part  act17_part  act18_part\n",
       "5      Colorado          11         100         100          30\n",
       "6   Connecticut         100         100          31          26\n",
       "7      Delaware         100         100          18          17\n",
       "22     Michigan         100         100          29          22\n",
       "12        Idaho          93         100          38          36\n",
       "19        Maine          95          99           8           7\n",
       "13     Illinois           9          99          93          43"
      ]
     },
     "execution_count": 34,
     "metadata": {},
     "output_type": "execute_result"
    }
   ],
   "source": [
    "#creation of part_delta, which consist of the participation rates for SAT and ACT in 2017 and 2018.\n",
    "scores_1718[['state','sat17_part','sat18_part','act17_part','act18_part']].sort_values('sat17_part',ascending=False).head(10)\n",
    "part_delta=scores_1718[['state','sat17_part','sat18_part','act17_part','act18_part']]\n",
    "print(\"Highest participation rate for 2017 SAT: District of Columbia, Michigan, Conneticut & Delaware \")\n",
    "print(\"Highest participation rate for 2018 SAT: Colorado, Idaho, Michigan, Conneticut & Delaware \")\n",
    "part_delta.sort_values(['sat18_part'],ascending=False).head(7)"
   ]
  },
  {
   "cell_type": "code",
   "execution_count": 35,
   "metadata": {},
   "outputs": [
    {
     "name": "stdout",
     "output_type": "stream",
     "text": [
      "Lowest participation rate for 2017 SAT: Iowa, Mississippi, North Dakota \n",
      "Lowest participation rate for 2018 SAT: North Dakota \n"
     ]
    },
    {
     "data": {
      "text/html": [
       "<div>\n",
       "<style scoped>\n",
       "    .dataframe tbody tr th:only-of-type {\n",
       "        vertical-align: middle;\n",
       "    }\n",
       "\n",
       "    .dataframe tbody tr th {\n",
       "        vertical-align: top;\n",
       "    }\n",
       "\n",
       "    .dataframe thead th {\n",
       "        text-align: right;\n",
       "    }\n",
       "</style>\n",
       "<table border=\"1\" class=\"dataframe\">\n",
       "  <thead>\n",
       "    <tr style=\"text-align: right;\">\n",
       "      <th></th>\n",
       "      <th>state</th>\n",
       "      <th>sat17_part</th>\n",
       "      <th>sat18_part</th>\n",
       "      <th>act17_part</th>\n",
       "      <th>act18_part</th>\n",
       "    </tr>\n",
       "  </thead>\n",
       "  <tbody>\n",
       "    <tr>\n",
       "      <th>34</th>\n",
       "      <td>North Dakota</td>\n",
       "      <td>2</td>\n",
       "      <td>2</td>\n",
       "      <td>98</td>\n",
       "      <td>98</td>\n",
       "    </tr>\n",
       "    <tr>\n",
       "      <th>24</th>\n",
       "      <td>Mississippi</td>\n",
       "      <td>2</td>\n",
       "      <td>3</td>\n",
       "      <td>100</td>\n",
       "      <td>100</td>\n",
       "    </tr>\n",
       "    <tr>\n",
       "      <th>15</th>\n",
       "      <td>Iowa</td>\n",
       "      <td>2</td>\n",
       "      <td>3</td>\n",
       "      <td>67</td>\n",
       "      <td>68</td>\n",
       "    </tr>\n",
       "  </tbody>\n",
       "</table>\n",
       "</div>"
      ],
      "text/plain": [
       "           state  sat17_part  sat18_part  act17_part  act18_part\n",
       "34  North Dakota           2           2          98          98\n",
       "24   Mississippi           2           3         100         100\n",
       "15          Iowa           2           3          67          68"
      ]
     },
     "execution_count": 35,
     "metadata": {},
     "output_type": "execute_result"
    }
   ],
   "source": [
    "print(\"Lowest participation rate for 2017 SAT: Iowa, Mississippi, North Dakota \")\n",
    "print(\"Lowest participation rate for 2018 SAT: North Dakota \")\n",
    "part_delta.sort_values(['sat17_part'],ascending=True).head(3)"
   ]
  },
  {
   "cell_type": "code",
   "execution_count": 36,
   "metadata": {},
   "outputs": [
    {
     "name": "stdout",
     "output_type": "stream",
     "text": [
      "Highest participation rate for 2017 ACT: \n",
      "Highest participation rate for 2018 ACT: \n"
     ]
    },
    {
     "data": {
      "text/html": [
       "<div>\n",
       "<style scoped>\n",
       "    .dataframe tbody tr th:only-of-type {\n",
       "        vertical-align: middle;\n",
       "    }\n",
       "\n",
       "    .dataframe tbody tr th {\n",
       "        vertical-align: top;\n",
       "    }\n",
       "\n",
       "    .dataframe thead th {\n",
       "        text-align: right;\n",
       "    }\n",
       "</style>\n",
       "<table border=\"1\" class=\"dataframe\">\n",
       "  <thead>\n",
       "    <tr style=\"text-align: right;\">\n",
       "      <th></th>\n",
       "      <th>state</th>\n",
       "      <th>sat17_part</th>\n",
       "      <th>sat18_part</th>\n",
       "      <th>act17_part</th>\n",
       "      <th>act18_part</th>\n",
       "    </tr>\n",
       "  </thead>\n",
       "  <tbody>\n",
       "    <tr>\n",
       "      <th>0</th>\n",
       "      <td>Alabama</td>\n",
       "      <td>5</td>\n",
       "      <td>6</td>\n",
       "      <td>100</td>\n",
       "      <td>100</td>\n",
       "    </tr>\n",
       "    <tr>\n",
       "      <th>17</th>\n",
       "      <td>Kentucky</td>\n",
       "      <td>4</td>\n",
       "      <td>4</td>\n",
       "      <td>100</td>\n",
       "      <td>100</td>\n",
       "    </tr>\n",
       "    <tr>\n",
       "      <th>49</th>\n",
       "      <td>Wisconsin</td>\n",
       "      <td>3</td>\n",
       "      <td>3</td>\n",
       "      <td>100</td>\n",
       "      <td>100</td>\n",
       "    </tr>\n",
       "    <tr>\n",
       "      <th>44</th>\n",
       "      <td>Utah</td>\n",
       "      <td>3</td>\n",
       "      <td>4</td>\n",
       "      <td>100</td>\n",
       "      <td>100</td>\n",
       "    </tr>\n",
       "    <tr>\n",
       "      <th>42</th>\n",
       "      <td>Tennessee</td>\n",
       "      <td>5</td>\n",
       "      <td>6</td>\n",
       "      <td>100</td>\n",
       "      <td>100</td>\n",
       "    </tr>\n",
       "    <tr>\n",
       "      <th>40</th>\n",
       "      <td>South Carolina</td>\n",
       "      <td>50</td>\n",
       "      <td>55</td>\n",
       "      <td>100</td>\n",
       "      <td>100</td>\n",
       "    </tr>\n",
       "    <tr>\n",
       "      <th>36</th>\n",
       "      <td>Oklahoma</td>\n",
       "      <td>7</td>\n",
       "      <td>8</td>\n",
       "      <td>100</td>\n",
       "      <td>100</td>\n",
       "    </tr>\n",
       "    <tr>\n",
       "      <th>33</th>\n",
       "      <td>North Carolina</td>\n",
       "      <td>49</td>\n",
       "      <td>52</td>\n",
       "      <td>100</td>\n",
       "      <td>100</td>\n",
       "    </tr>\n",
       "    <tr>\n",
       "      <th>28</th>\n",
       "      <td>Nevada</td>\n",
       "      <td>26</td>\n",
       "      <td>23</td>\n",
       "      <td>100</td>\n",
       "      <td>100</td>\n",
       "    </tr>\n",
       "    <tr>\n",
       "      <th>26</th>\n",
       "      <td>Montana</td>\n",
       "      <td>10</td>\n",
       "      <td>10</td>\n",
       "      <td>100</td>\n",
       "      <td>100</td>\n",
       "    </tr>\n",
       "    <tr>\n",
       "      <th>24</th>\n",
       "      <td>Mississippi</td>\n",
       "      <td>2</td>\n",
       "      <td>3</td>\n",
       "      <td>100</td>\n",
       "      <td>100</td>\n",
       "    </tr>\n",
       "    <tr>\n",
       "      <th>23</th>\n",
       "      <td>Minnesota</td>\n",
       "      <td>3</td>\n",
       "      <td>4</td>\n",
       "      <td>100</td>\n",
       "      <td>99</td>\n",
       "    </tr>\n",
       "    <tr>\n",
       "      <th>18</th>\n",
       "      <td>Louisiana</td>\n",
       "      <td>4</td>\n",
       "      <td>4</td>\n",
       "      <td>100</td>\n",
       "      <td>100</td>\n",
       "    </tr>\n",
       "    <tr>\n",
       "      <th>25</th>\n",
       "      <td>Missouri</td>\n",
       "      <td>3</td>\n",
       "      <td>4</td>\n",
       "      <td>100</td>\n",
       "      <td>100</td>\n",
       "    </tr>\n",
       "    <tr>\n",
       "      <th>50</th>\n",
       "      <td>Wyoming</td>\n",
       "      <td>3</td>\n",
       "      <td>3</td>\n",
       "      <td>100</td>\n",
       "      <td>100</td>\n",
       "    </tr>\n",
       "    <tr>\n",
       "      <th>5</th>\n",
       "      <td>Colorado</td>\n",
       "      <td>11</td>\n",
       "      <td>100</td>\n",
       "      <td>100</td>\n",
       "      <td>30</td>\n",
       "    </tr>\n",
       "    <tr>\n",
       "      <th>3</th>\n",
       "      <td>Arkansas</td>\n",
       "      <td>3</td>\n",
       "      <td>5</td>\n",
       "      <td>100</td>\n",
       "      <td>100</td>\n",
       "    </tr>\n",
       "  </tbody>\n",
       "</table>\n",
       "</div>"
      ],
      "text/plain": [
       "             state  sat17_part  sat18_part  act17_part  act18_part\n",
       "0          Alabama           5           6         100         100\n",
       "17        Kentucky           4           4         100         100\n",
       "49       Wisconsin           3           3         100         100\n",
       "44            Utah           3           4         100         100\n",
       "42       Tennessee           5           6         100         100\n",
       "40  South Carolina          50          55         100         100\n",
       "36        Oklahoma           7           8         100         100\n",
       "33  North Carolina          49          52         100         100\n",
       "28          Nevada          26          23         100         100\n",
       "26         Montana          10          10         100         100\n",
       "24     Mississippi           2           3         100         100\n",
       "23       Minnesota           3           4         100          99\n",
       "18       Louisiana           4           4         100         100\n",
       "25        Missouri           3           4         100         100\n",
       "50         Wyoming           3           3         100         100\n",
       "5         Colorado          11         100         100          30\n",
       "3         Arkansas           3           5         100         100"
      ]
     },
     "execution_count": 36,
     "metadata": {},
     "output_type": "execute_result"
    }
   ],
   "source": [
    "print(\"Highest participation rate for 2017 ACT: \",)\n",
    "print(\"Highest participation rate for 2018 ACT: \",)\n",
    "part_delta.sort_values(['act17_part'],ascending=False).head"
   ]
  },
  {
   "cell_type": "code",
   "execution_count": 37,
   "metadata": {
    "scrolled": true
   },
   "outputs": [
    {
     "name": "stdout",
     "output_type": "stream",
     "text": [
      "Lowest participation rate for 2017 ACT: Maine\n",
      "Lowest participation rate for 2018 ACT: Maine\n"
     ]
    },
    {
     "data": {
      "text/html": [
       "<div>\n",
       "<style scoped>\n",
       "    .dataframe tbody tr th:only-of-type {\n",
       "        vertical-align: middle;\n",
       "    }\n",
       "\n",
       "    .dataframe tbody tr th {\n",
       "        vertical-align: top;\n",
       "    }\n",
       "\n",
       "    .dataframe thead th {\n",
       "        text-align: right;\n",
       "    }\n",
       "</style>\n",
       "<table border=\"1\" class=\"dataframe\">\n",
       "  <thead>\n",
       "    <tr style=\"text-align: right;\">\n",
       "      <th></th>\n",
       "      <th>state</th>\n",
       "      <th>sat17_part</th>\n",
       "      <th>sat18_part</th>\n",
       "      <th>act17_part</th>\n",
       "      <th>act18_part</th>\n",
       "    </tr>\n",
       "  </thead>\n",
       "  <tbody>\n",
       "    <tr>\n",
       "      <th>19</th>\n",
       "      <td>Maine</td>\n",
       "      <td>95</td>\n",
       "      <td>99</td>\n",
       "      <td>8</td>\n",
       "      <td>7</td>\n",
       "    </tr>\n",
       "    <tr>\n",
       "      <th>39</th>\n",
       "      <td>Rhode Island</td>\n",
       "      <td>71</td>\n",
       "      <td>97</td>\n",
       "      <td>21</td>\n",
       "      <td>15</td>\n",
       "    </tr>\n",
       "  </tbody>\n",
       "</table>\n",
       "</div>"
      ],
      "text/plain": [
       "           state  sat17_part  sat18_part  act17_part  act18_part\n",
       "19         Maine          95          99           8           7\n",
       "39  Rhode Island          71          97          21          15"
      ]
     },
     "execution_count": 37,
     "metadata": {},
     "output_type": "execute_result"
    }
   ],
   "source": [
    "print(\"Lowest participation rate for 2017 ACT: Maine\")\n",
    "print(\"Lowest participation rate for 2018 ACT: Maine\")\n",
    "part_delta.sort_values(['act18_part'],ascending=True).head(2)"
   ]
  },
  {
   "cell_type": "code",
   "execution_count": 38,
   "metadata": {},
   "outputs": [
    {
     "name": "stdout",
     "output_type": "stream",
     "text": [
      "Highest mean score for SAT in 2017: Minnesota\n",
      "Highest mean score for SAT in 2018: Minnesota\n"
     ]
    },
    {
     "data": {
      "text/html": [
       "<div>\n",
       "<style scoped>\n",
       "    .dataframe tbody tr th:only-of-type {\n",
       "        vertical-align: middle;\n",
       "    }\n",
       "\n",
       "    .dataframe tbody tr th {\n",
       "        vertical-align: top;\n",
       "    }\n",
       "\n",
       "    .dataframe thead th {\n",
       "        text-align: right;\n",
       "    }\n",
       "</style>\n",
       "<table border=\"1\" class=\"dataframe\">\n",
       "  <thead>\n",
       "    <tr style=\"text-align: right;\">\n",
       "      <th></th>\n",
       "      <th>state</th>\n",
       "      <th>sat17_total</th>\n",
       "      <th>sat18_total</th>\n",
       "      <th>act17_comp</th>\n",
       "      <th>act18_comp</th>\n",
       "    </tr>\n",
       "    <tr>\n",
       "      <th>state</th>\n",
       "      <th></th>\n",
       "      <th></th>\n",
       "      <th></th>\n",
       "      <th></th>\n",
       "      <th></th>\n",
       "    </tr>\n",
       "  </thead>\n",
       "  <tbody>\n",
       "    <tr>\n",
       "      <th>Minnesota</th>\n",
       "      <td>Minnesota</td>\n",
       "      <td>1295</td>\n",
       "      <td>1298</td>\n",
       "      <td>21.5</td>\n",
       "      <td>21.3</td>\n",
       "    </tr>\n",
       "    <tr>\n",
       "      <th>Wisconsin</th>\n",
       "      <td>Wisconsin</td>\n",
       "      <td>1291</td>\n",
       "      <td>1294</td>\n",
       "      <td>20.5</td>\n",
       "      <td>20.5</td>\n",
       "    </tr>\n",
       "  </tbody>\n",
       "</table>\n",
       "</div>"
      ],
      "text/plain": [
       "               state  sat17_total  sat18_total  act17_comp  act18_comp\n",
       "state                                                                 \n",
       "Minnesota  Minnesota         1295         1298        21.5        21.3\n",
       "Wisconsin  Wisconsin         1291         1294        20.5        20.5"
      ]
     },
     "execution_count": 38,
     "metadata": {},
     "output_type": "execute_result"
    }
   ],
   "source": [
    "#creation of score_delta, which consists of all test score related columns for 2017 and 2018\n",
    "score_delta=scores_1718[['state','sat17_total','sat18_total','act17_comp','act18_comp']].sort_values(['sat17_total'],ascending=False)\n",
    "score_delta.index=score_delta['state']\n",
    "print(\"Highest mean score for SAT in 2017: Minnesota\")\n",
    "print(\"Highest mean score for SAT in 2018: Minnesota\")\n",
    "score_delta.sort_values(['sat18_total'],ascending=False).head(2)"
   ]
  },
  {
   "cell_type": "code",
   "execution_count": 39,
   "metadata": {},
   "outputs": [
    {
     "name": "stdout",
     "output_type": "stream",
     "text": [
      "Lowest mean score for SAT in 2017: District of Columbia\n",
      "Lowest mean score for SAT in 2018: District of Columbia\n"
     ]
    },
    {
     "data": {
      "text/html": [
       "<div>\n",
       "<style scoped>\n",
       "    .dataframe tbody tr th:only-of-type {\n",
       "        vertical-align: middle;\n",
       "    }\n",
       "\n",
       "    .dataframe tbody tr th {\n",
       "        vertical-align: top;\n",
       "    }\n",
       "\n",
       "    .dataframe thead th {\n",
       "        text-align: right;\n",
       "    }\n",
       "</style>\n",
       "<table border=\"1\" class=\"dataframe\">\n",
       "  <thead>\n",
       "    <tr style=\"text-align: right;\">\n",
       "      <th></th>\n",
       "      <th>state</th>\n",
       "      <th>sat17_total</th>\n",
       "      <th>sat18_total</th>\n",
       "      <th>act17_comp</th>\n",
       "      <th>act18_comp</th>\n",
       "    </tr>\n",
       "    <tr>\n",
       "      <th>state</th>\n",
       "      <th></th>\n",
       "      <th></th>\n",
       "      <th></th>\n",
       "      <th></th>\n",
       "      <th></th>\n",
       "    </tr>\n",
       "  </thead>\n",
       "  <tbody>\n",
       "    <tr>\n",
       "      <th>District of Columbia</th>\n",
       "      <td>District of Columbia</td>\n",
       "      <td>950</td>\n",
       "      <td>977</td>\n",
       "      <td>24.2</td>\n",
       "      <td>23.6</td>\n",
       "    </tr>\n",
       "    <tr>\n",
       "      <th>Delaware</th>\n",
       "      <td>Delaware</td>\n",
       "      <td>996</td>\n",
       "      <td>998</td>\n",
       "      <td>24.1</td>\n",
       "      <td>23.2</td>\n",
       "    </tr>\n",
       "  </tbody>\n",
       "</table>\n",
       "</div>"
      ],
      "text/plain": [
       "                                     state  sat17_total  sat18_total  \\\n",
       "state                                                                  \n",
       "District of Columbia  District of Columbia          950          977   \n",
       "Delaware                          Delaware          996          998   \n",
       "\n",
       "                      act17_comp  act18_comp  \n",
       "state                                         \n",
       "District of Columbia        24.2        23.6  \n",
       "Delaware                    24.1        23.2  "
      ]
     },
     "execution_count": 39,
     "metadata": {},
     "output_type": "execute_result"
    }
   ],
   "source": [
    "print(\"Lowest mean score for SAT in 2017: District of Columbia\")\n",
    "print(\"Lowest mean score for SAT in 2018: District of Columbia\")\n",
    "score_delta.sort_values(['sat18_total'],ascending=True).head(2)"
   ]
  },
  {
   "cell_type": "code",
   "execution_count": 40,
   "metadata": {},
   "outputs": [
    {
     "name": "stdout",
     "output_type": "stream",
     "text": [
      "Highest mean score for ACT in 2017: New Hampshire\n",
      "Highest mean score for ACT in 2018: Conneticut\n"
     ]
    },
    {
     "data": {
      "text/html": [
       "<div>\n",
       "<style scoped>\n",
       "    .dataframe tbody tr th:only-of-type {\n",
       "        vertical-align: middle;\n",
       "    }\n",
       "\n",
       "    .dataframe tbody tr th {\n",
       "        vertical-align: top;\n",
       "    }\n",
       "\n",
       "    .dataframe thead th {\n",
       "        text-align: right;\n",
       "    }\n",
       "</style>\n",
       "<table border=\"1\" class=\"dataframe\">\n",
       "  <thead>\n",
       "    <tr style=\"text-align: right;\">\n",
       "      <th></th>\n",
       "      <th>state</th>\n",
       "      <th>sat17_total</th>\n",
       "      <th>sat18_total</th>\n",
       "      <th>act17_comp</th>\n",
       "      <th>act18_comp</th>\n",
       "    </tr>\n",
       "    <tr>\n",
       "      <th>state</th>\n",
       "      <th></th>\n",
       "      <th></th>\n",
       "      <th></th>\n",
       "      <th></th>\n",
       "      <th></th>\n",
       "    </tr>\n",
       "  </thead>\n",
       "  <tbody>\n",
       "    <tr>\n",
       "      <th>Connecticut</th>\n",
       "      <td>Connecticut</td>\n",
       "      <td>1041</td>\n",
       "      <td>1053</td>\n",
       "      <td>25.2</td>\n",
       "      <td>25.6</td>\n",
       "    </tr>\n",
       "    <tr>\n",
       "      <th>Massachusetts</th>\n",
       "      <td>Massachusetts</td>\n",
       "      <td>1107</td>\n",
       "      <td>1125</td>\n",
       "      <td>25.4</td>\n",
       "      <td>25.5</td>\n",
       "    </tr>\n",
       "    <tr>\n",
       "      <th>New Hampshire</th>\n",
       "      <td>New Hampshire</td>\n",
       "      <td>1052</td>\n",
       "      <td>1063</td>\n",
       "      <td>25.5</td>\n",
       "      <td>25.1</td>\n",
       "    </tr>\n",
       "  </tbody>\n",
       "</table>\n",
       "</div>"
      ],
      "text/plain": [
       "                       state  sat17_total  sat18_total  act17_comp  act18_comp\n",
       "state                                                                         \n",
       "Connecticut      Connecticut         1041         1053        25.2        25.6\n",
       "Massachusetts  Massachusetts         1107         1125        25.4        25.5\n",
       "New Hampshire  New Hampshire         1052         1063        25.5        25.1"
      ]
     },
     "execution_count": 40,
     "metadata": {},
     "output_type": "execute_result"
    }
   ],
   "source": [
    "print(\"Highest mean score for ACT in 2017: New Hampshire\")\n",
    "print(\"Highest mean score for ACT in 2018: Conneticut\")\n",
    "score_delta.sort_values(['act18_comp'],ascending=False).head(3)"
   ]
  },
  {
   "cell_type": "code",
   "execution_count": 41,
   "metadata": {},
   "outputs": [
    {
     "name": "stdout",
     "output_type": "stream",
     "text": [
      "Lowest mean score for ACT in 2017: Nevada\n",
      "Lowest mean score for ACT in 2018: Nevada\n"
     ]
    },
    {
     "data": {
      "text/html": [
       "<div>\n",
       "<style scoped>\n",
       "    .dataframe tbody tr th:only-of-type {\n",
       "        vertical-align: middle;\n",
       "    }\n",
       "\n",
       "    .dataframe tbody tr th {\n",
       "        vertical-align: top;\n",
       "    }\n",
       "\n",
       "    .dataframe thead th {\n",
       "        text-align: right;\n",
       "    }\n",
       "</style>\n",
       "<table border=\"1\" class=\"dataframe\">\n",
       "  <thead>\n",
       "    <tr style=\"text-align: right;\">\n",
       "      <th></th>\n",
       "      <th>state</th>\n",
       "      <th>sat17_total</th>\n",
       "      <th>sat18_total</th>\n",
       "      <th>act17_comp</th>\n",
       "      <th>act18_comp</th>\n",
       "    </tr>\n",
       "    <tr>\n",
       "      <th>state</th>\n",
       "      <th></th>\n",
       "      <th></th>\n",
       "      <th></th>\n",
       "      <th></th>\n",
       "      <th></th>\n",
       "    </tr>\n",
       "  </thead>\n",
       "  <tbody>\n",
       "    <tr>\n",
       "      <th>Nevada</th>\n",
       "      <td>Nevada</td>\n",
       "      <td>1116</td>\n",
       "      <td>1140</td>\n",
       "      <td>17.8</td>\n",
       "      <td>17.7</td>\n",
       "    </tr>\n",
       "    <tr>\n",
       "      <th>Mississippi</th>\n",
       "      <td>Mississippi</td>\n",
       "      <td>1242</td>\n",
       "      <td>1236</td>\n",
       "      <td>18.6</td>\n",
       "      <td>18.6</td>\n",
       "    </tr>\n",
       "  </tbody>\n",
       "</table>\n",
       "</div>"
      ],
      "text/plain": [
       "                   state  sat17_total  sat18_total  act17_comp  act18_comp\n",
       "state                                                                     \n",
       "Nevada            Nevada         1116         1140        17.8        17.7\n",
       "Mississippi  Mississippi         1242         1236        18.6        18.6"
      ]
     },
     "execution_count": 41,
     "metadata": {},
     "output_type": "execute_result"
    }
   ],
   "source": [
    "print(\"Lowest mean score for ACT in 2017: Nevada\")\n",
    "print(\"Lowest mean score for ACT in 2018: Nevada\")\n",
    "score_delta.sort_values(['act17_comp'],ascending=True).head(2)"
   ]
  },
  {
   "cell_type": "markdown",
   "metadata": {},
   "source": [
    "For SAT, the only state that had a change from a full partcipation was Colorado, which dropped 8%.\n",
    "\n",
    "For ACT, the state of Colorado lost a whopping 70% of the student participation while Minessota lost just 1% of their student participation"
   ]
  },
  {
   "cell_type": "code",
   "execution_count": 42,
   "metadata": {},
   "outputs": [
    {
     "name": "stdout",
     "output_type": "stream",
     "text": [
      "Florida, Georgia, Hawaii, South Carolina, North Carolina all had 50% of their student taking part in both exams in either 2017 or 2018.\n"
     ]
    },
    {
     "data": {
      "text/html": [
       "<div>\n",
       "<style scoped>\n",
       "    .dataframe tbody tr th:only-of-type {\n",
       "        vertical-align: middle;\n",
       "    }\n",
       "\n",
       "    .dataframe tbody tr th {\n",
       "        vertical-align: top;\n",
       "    }\n",
       "\n",
       "    .dataframe thead th {\n",
       "        text-align: right;\n",
       "    }\n",
       "</style>\n",
       "<table border=\"1\" class=\"dataframe\">\n",
       "  <thead>\n",
       "    <tr style=\"text-align: right;\">\n",
       "      <th></th>\n",
       "      <th>state</th>\n",
       "      <th>sat17_part</th>\n",
       "      <th>sat18_part</th>\n",
       "      <th>act17_part</th>\n",
       "      <th>act18_part</th>\n",
       "    </tr>\n",
       "  </thead>\n",
       "  <tbody>\n",
       "    <tr>\n",
       "      <th>7</th>\n",
       "      <td>Delaware</td>\n",
       "      <td>100</td>\n",
       "      <td>100</td>\n",
       "      <td>18</td>\n",
       "      <td>17</td>\n",
       "    </tr>\n",
       "    <tr>\n",
       "      <th>18</th>\n",
       "      <td>Louisiana</td>\n",
       "      <td>4</td>\n",
       "      <td>4</td>\n",
       "      <td>100</td>\n",
       "      <td>100</td>\n",
       "    </tr>\n",
       "    <tr>\n",
       "      <th>20</th>\n",
       "      <td>Maryland</td>\n",
       "      <td>69</td>\n",
       "      <td>76</td>\n",
       "      <td>28</td>\n",
       "      <td>31</td>\n",
       "    </tr>\n",
       "    <tr>\n",
       "      <th>22</th>\n",
       "      <td>Michigan</td>\n",
       "      <td>100</td>\n",
       "      <td>100</td>\n",
       "      <td>29</td>\n",
       "      <td>22</td>\n",
       "    </tr>\n",
       "    <tr>\n",
       "      <th>23</th>\n",
       "      <td>Minnesota</td>\n",
       "      <td>3</td>\n",
       "      <td>4</td>\n",
       "      <td>100</td>\n",
       "      <td>99</td>\n",
       "    </tr>\n",
       "  </tbody>\n",
       "</table>\n",
       "</div>"
      ],
      "text/plain": [
       "        state  sat17_part  sat18_part  act17_part  act18_part\n",
       "7    Delaware         100         100          18          17\n",
       "18  Louisiana           4           4         100         100\n",
       "20   Maryland          69          76          28          31\n",
       "22   Michigan         100         100          29          22\n",
       "23  Minnesota           3           4         100          99"
      ]
     },
     "execution_count": 42,
     "metadata": {},
     "output_type": "execute_result"
    }
   ],
   "source": [
    "print(\"Florida, Georgia, Hawaii, South Carolina, North Carolina all had 50% of their student taking part in both exams in either 2017 or 2018.\")\n",
    "\n",
    "half_part=part_delta[['sat17_part','act17_part','sat18_part','act18_part']]>=50\n",
    "part_delta.iloc[[7,18,20,22,23],:]"
   ]
  },
  {
   "cell_type": "markdown",
   "metadata": {},
   "source": [
    "## Visualize the data\n",
    "\n",
    "There's not a magic bullet recommendation for the right number of plots to understand a given dataset, but visualizing your data is *always* a good idea. Not only does it allow you to quickly convey your findings (even if you have a non-technical audience), it will often reveal trends in your data that escaped you when you were looking only at numbers.\n",
    "\n",
    "Some recommendations on plotting:\n",
    "- Plots have titles\n",
    "- Plots have axis labels\n",
    "- Plots have appropriate tick labels\n",
    "- All text is legible in a plot\n",
    "- Plots demonstrate meaningful and valid relationships\n",
    "- Plots are interpreted to aid understanding\n",
    "\n",
    "There is such a thing as too many plots, and there are a *lot* of bad plots. You might make some! (But hopefully not with the guided prompts below)."
   ]
  },
  {
   "cell_type": "markdown",
   "metadata": {},
   "source": [
    "#### Use Seaborn's heatmap with pandas `.corr()` to visualize correlations between all numeric features\n",
    "\n",
    "Heatmaps are generally not appropriate for presentations, and should often be excluded from reports as they can be visually overwhelming. **However**, they can be extremely useful in identify relationships of potential interest (as well as identifying potential collinearity before modeling).\n",
    "\n",
    "*example*:\n",
    "```python\n",
    "sns.heatmap(df.corr())\n",
    "```\n",
    "\n",
    "Please take time to format your output, adding a title. Look through some of the additional arguments and options. (Axis labels aren't really necessary, as long as the title is informative)."
   ]
  },
  {
   "cell_type": "code",
   "execution_count": 43,
   "metadata": {},
   "outputs": [
    {
     "name": "stdout",
     "output_type": "stream",
     "text": [
      "The interesting set of correlation shown in this heatmap would be that the two tests have a negative correlation on each other.When comparing, for example, SAT participation year on year, its a strong positive correlation. But when comparing the same participation rate against the ACT participation rate, there is a strong negative correlation of 0.84This effect is even extended when crossing into the scores variable, where ACT scores have arounda -0.4 correlation against the SAT participation rate.\n"
     ]
    },
    {
     "data": {
      "text/plain": [
       "Text(0.5, 1, 'Heatmap for the scores and participation rate for ACT and SAT, 2017 & 2018')"
      ]
     },
     "execution_count": 43,
     "metadata": {},
     "output_type": "execute_result"
    },
    {
     "data": {
      "image/png": "[encoded data removed]",
      "text/plain": [
       "<Figure size 1080x1080 with 2 Axes>"
      ]
     },
     "metadata": {
      "needs_background": "light"
     },
     "output_type": "display_data"
    }
   ],
   "source": [
    "print(\"The interesting set of correlation shown in this heatmap would be that the two tests have a negative correlation on each other.\\\n",
    "When comparing, for example, SAT participation year on year, its a strong positive correlation. \\\n",
    "But when comparing the same participation rate against the ACT participation rate, there is a strong negative correlation of 0.84\\\n",
    "This effect is even extended when crossing into the scores variable, where ACT scores have arounda -0.4 correlation against the SAT participation rate.\")\n",
    "plt.figure(figsize=(15,15))\n",
    "test_heatmap=sns.heatmap(scores_1718.corr(),annot=True)\n",
    "plt.title('Heatmap for the scores and participation rate for ACT and SAT, 2017 & 2018',size = 15)\n",
    "#plt.savefig('test_heatmap')"
   ]
  },
  {
   "cell_type": "markdown",
   "metadata": {},
   "source": [
    "#### Define a custom function to subplot histograms\n",
    "\n",
    "We have data for two tests for two years. We only have composite (and not subtest scores) for the 2018 ACT. We should write a function that will take the names of 2+ columns and subplot histograms. While you can use pandas plotting or Seaborn here, matplotlib gives you greater control over all aspects of your plots.\n",
    "\n",
    "[Helpful Link for Plotting Multiple Figures](https://matplotlib.org/users/pyplot_tutorial.html#working-with-multiple-figures-and-axes)\n",
    "\n",
    "Here's some starter code:"
   ]
  },
  {
   "cell_type": "code",
   "execution_count": 44,
   "metadata": {},
   "outputs": [],
   "source": [
    "def subplot_histograms(dataframe, list_of_columns, list_of_titles, list_of_xlabels,title):\n",
    "    plt.figure(figsize=(16,9))\n",
    "    nrows = int(np.ceil(len(list_of_columns)/2)) # Makes sure you have enough rows\n",
    "    fig, ax = plt.subplots(nrows=nrows, ncols=2,figsize=(16,9)) # You'll want to specify your figsize\n",
    "    ax = ax.ravel() # Ravel turns a matrix into a vector, which is easier to iterate\n",
    "    for i, column in enumerate(list_of_columns): # Gives us an index value to get into all our lists\n",
    "        ax[i].hist(dataframe[column],bins=20,color='teal') \n",
    "        ax[i].set_title(list_of_titles[i])\n",
    "        ax[i].set_xlabel(list_of_xlabels[i])\n",
    "        ax[i].axvline(x=np.mean(dataframe[column]),ymin=0,ymax=16,color='r')# feel free to add more settings\n",
    "        # Set titles, labels, etc here for each subplot\n",
    "    plt.show()\n",
    "    fig.savefig('Histogram'+title)"
   ]
  },
  {
   "cell_type": "markdown",
   "metadata": {},
   "source": [
    "#### Plot and interpret histograms \n",
    "For each of the following:\n",
    "- Participation rates for SAT & ACT\n",
    "- Math scores for SAT & ACT\n",
    "- Reading/verbal scores for SAT & ACT"
   ]
  },
  {
   "cell_type": "code",
   "execution_count": 45,
   "metadata": {
    "scrolled": false
   },
   "outputs": [
    {
     "name": "stdout",
     "output_type": "stream",
     "text": [
      "The participation rates are not normally distributed as most values lie at the extremities and that ACT has a higher overall participation rate.\n"
     ]
    },
    {
     "data": {
      "text/plain": [
       "<Figure size 1152x648 with 0 Axes>"
      ]
     },
     "metadata": {},
     "output_type": "display_data"
    },
    {
     "data": {
      "image/png": "[encoded data removed]",
      "text/plain": [
       "<Figure size 1152x648 with 4 Axes>"
      ]
     },
     "metadata": {
      "needs_background": "light"
     },
     "output_type": "display_data"
    }
   ],
   "source": [
    "# Code\n",
    "print('The participation rates are not normally distributed as most values lie at the extremities and that ACT has a higher overall participation rate.')\n",
    "subplot_histograms(scores_1718,['sat17_part','sat18_part','act17_part','act18_part'],[\"SAT Participation 2017\",\"SAT Participation 2018\",\"ACT Participation 2017\",\"ACT Participation 2018\"],['Participation Percentage','Participation Percentage','Participation Percentage','Participation Percentage'],\"Participation\")\n",
    "#plt.savefig('Participation rates histograms')"
   ]
  },
  {
   "cell_type": "code",
   "execution_count": 46,
   "metadata": {
    "scrolled": true
   },
   "outputs": [
    {
     "name": "stdout",
     "output_type": "stream",
     "text": [
      "Twin peaks are evident, which suggest that there are 2 different groups within the population.\n"
     ]
    },
    {
     "data": {
      "text/plain": [
       "<Figure size 1152x648 with 0 Axes>"
      ]
     },
     "metadata": {},
     "output_type": "display_data"
    },
    {
     "data": {
      "image/png": "[encoded data removed]",
      "text/plain": [
       "<Figure size 1152x648 with 4 Axes>"
      ]
     },
     "metadata": {
      "needs_background": "light"
     },
     "output_type": "display_data"
    }
   ],
   "source": [
    "print(\"Twin peaks are evident, which suggest that there are 2 different groups within the population.\")\n",
    "subplot_histograms(scores_1718,['sat17_math','sat18_math','act17_math','act18_math'],[\"SAT Math Scores 2017\",\"SAT Math Scores 2018\",\"ACT Math Scores 2017\",\"ACT Math Scores 2018\"],['Math Scores','Math Scores','Math Scores','Math Scores'],'math scores')\n",
    "#plt.savefig('Math scores Histograms')\n"
   ]
  },
  {
   "cell_type": "code",
   "execution_count": 47,
   "metadata": {},
   "outputs": [
    {
     "name": "stdout",
     "output_type": "stream",
     "text": [
      "Multiple peaks are evident in the English scores, which suggests divisions in the population.\n"
     ]
    },
    {
     "data": {
      "text/plain": [
       "<Figure size 1152x648 with 0 Axes>"
      ]
     },
     "metadata": {},
     "output_type": "display_data"
    },
    {
     "data": {
      "image/png": "[encoded data removed]",
      "text/plain": [
       "<Figure size 1152x648 with 4 Axes>"
      ]
     },
     "metadata": {
      "needs_background": "light"
     },
     "output_type": "display_data"
    }
   ],
   "source": [
    "print(\"Multiple peaks are evident in the English scores, which suggests divisions in the population.\")\n",
    "subplot_histograms(scores_1718,['sat17_read','sat18_read','act17_read','act18_read'],[\"SAT English Scores 2017\",\"SAT English Scores 2018\",\"ACT English Scores 2017\",\"ACT English Scores 2018\"],['English Scores','English Scores','English Scores','English Scores'],\"English Scores\")\n",
    "#plt.savefig('English scores histogram')\n"
   ]
  },
  {
   "cell_type": "markdown",
   "metadata": {},
   "source": [
    "#### Plot and interpret scatter plots\n",
    "\n",
    "For each of the following:\n",
    "- SAT vs. ACT math scores for 2017\n",
    "- SAT vs. ACT verbal/reading scores for 2017\n",
    "- SAT vs. ACT total/composite scores for 2017\n",
    "- Total scores for SAT 2017 vs. 2018\n",
    "- Composite scores for ACT 2017 vs. 2018\n",
    "\n",
    "Plot the two variables against each other using matplotlib or Seaborn\n",
    "\n",
    "Your plots should show:\n",
    "- Two clearly labeled axes\n",
    "- A proper title\n",
    "- Using colors and symbols that are clear and unmistakable\n",
    "\n",
    "**Feel free to write a custom function, and subplot if you'd like.** Functions save both time and space.\n"
   ]
  },
  {
   "cell_type": "code",
   "execution_count": 48,
   "metadata": {
    "scrolled": true
   },
   "outputs": [
    {
     "name": "stdout",
     "output_type": "stream",
     "text": [
      "There are many contrasting scores for each state for Math, where most would either have a very high math score in one test and low score in the other, but shows that there is negative correlation between the math score for SAT and ACT.\n"
     ]
    },
    {
     "data": {
      "image/png": "[encoded data removed]",
      "text/plain": [
       "<Figure size 432x288 with 1 Axes>"
      ]
     },
     "metadata": {
      "needs_background": "light"
     },
     "output_type": "display_data"
    }
   ],
   "source": [
    "#Code\n",
    "print('There are many contrasting scores for each state for Math, where most would either have a very high math score in one test and low score in the other, but shows that there is negative correlation between the math score for SAT and ACT.')\n",
    "sns.regplot(x=scores_1718['sat17_math'],y=scores_1718['act17_math'],color='teal');\\\n",
    "plt.title(\"2017: SAT & ACT Math Mean Scores\",size=15)\n",
    "plt.xlabel(\"SAT Math\")\n",
    "plt.ylabel(\"ACT Math\");\n",
    "#plt.savefig('SAT_ACT Math scores scatter');"
   ]
  },
  {
   "cell_type": "code",
   "execution_count": 49,
   "metadata": {
    "scrolled": true
   },
   "outputs": [
    {
     "name": "stdout",
     "output_type": "stream",
     "text": [
      "The reading and writing scores do exhibit the same high variability as the scores for Math, where most of the scores for ACT and SAT are contrasting.\n"
     ]
    },
    {
     "data": {
      "image/png": "[encoded data removed]",
      "text/plain": [
       "<Figure size 432x288 with 1 Axes>"
      ]
     },
     "metadata": {
      "needs_background": "light"
     },
     "output_type": "display_data"
    }
   ],
   "source": [
    "print(\"The reading and writing scores do exhibit the same high variability as the scores for Math, where most of the scores for ACT and SAT are contrasting.\")\n",
    "sns.regplot(x=scores_1718['sat17_read'],y=scores_1718['act17_read'],color='teal')\n",
    "plt.title(\"2017: SAT & ACT Reading & Writing Mean Scores \")\n",
    "plt.xlabel(\"SAT Reading & Writing\")\n",
    "plt.ylabel(\"ACT Reading & Writing\");\n",
    "#plt.savefig('SAT_ACT Read scores scatter');"
   ]
  },
  {
   "cell_type": "code",
   "execution_count": 50,
   "metadata": {
    "scrolled": true
   },
   "outputs": [
    {
     "name": "stdout",
     "output_type": "stream",
     "text": [
      "The same contrasting trend is still exhibited for the total/composite score, where most states are either strong in one test only.\n"
     ]
    },
    {
     "data": {
      "image/png": "[encoded data removed]",
      "text/plain": [
       "<Figure size 432x288 with 1 Axes>"
      ]
     },
     "metadata": {
      "needs_background": "light"
     },
     "output_type": "display_data"
    }
   ],
   "source": [
    "print(\"The same contrasting trend is still exhibited for the total/composite score, where most states are either strong in one test only.\")\n",
    "sns.regplot(x=scores_1718['sat17_total'],y=scores_1718['act17_comp'],color='teal')\n",
    "plt.title(\"2017: SAT & ACT Total Scores\",size=15)\n",
    "plt.xlabel(\"SAT Total Score\")\n",
    "plt.ylabel(\"ACT Composite Score\");\n",
    "#plt.savefig('SAT_ACT Total scores scatter');"
   ]
  },
  {
   "cell_type": "code",
   "execution_count": 51,
   "metadata": {
    "scrolled": true
   },
   "outputs": [
    {
     "name": "stdout",
     "output_type": "stream",
     "text": [
      "This plot shows that the most SAT scores for each state is maintained, but there were quite a few outliers that had a massive decrease in mean score from 2017 to 2018.\n"
     ]
    },
    {
     "data": {
      "image/png": "[encoded data removed]",
      "text/plain": [
       "<Figure size 432x288 with 1 Axes>"
      ]
     },
     "metadata": {
      "needs_background": "light"
     },
     "output_type": "display_data"
    }
   ],
   "source": [
    "print('This plot shows that the most SAT scores for each state is maintained, but there were quite a few outliers that had a massive decrease in mean score from 2017 to 2018.')\n",
    "sns.regplot(x=scores_1718['sat17_total'],y=scores_1718['sat18_total'])\n",
    "plt.title(\"SAT Total Scores: 2017 and 2018\",size=15)\n",
    "plt.xlabel(\"2017 Score\")\n",
    "plt.ylabel(\"2018 Score\");\n",
    "#plt.savefig('SAT scores 2017-2018 scatter');"
   ]
  },
  {
   "cell_type": "code",
   "execution_count": 52,
   "metadata": {},
   "outputs": [
    {
     "name": "stdout",
     "output_type": "stream",
     "text": [
      "Most states are able to maintain their ACT composite score from 2017 to 2018, with minimal outliers.\n"
     ]
    },
    {
     "data": {
      "image/png": "[encoded data removed]",
      "text/plain": [
       "<Figure size 432x288 with 1 Axes>"
      ]
     },
     "metadata": {
      "needs_background": "light"
     },
     "output_type": "display_data"
    }
   ],
   "source": [
    "print(\"Most states are able to maintain their ACT composite score from 2017 to 2018, with minimal outliers.\")\n",
    "sns.regplot(x=scores_1718['act17_comp'],y=scores_1718['act18_comp'],color='orange')\n",
    "plt.title(\"ACT Total Scores: 2017 and 2018\",size=15)\n",
    "plt.xlabel(\"2017 Score\")\n",
    "plt.ylabel(\"2018 Score\");\n",
    "#plt.savefig('ACT scores 2017-2018 scatter')"
   ]
  },
  {
   "cell_type": "markdown",
   "metadata": {},
   "source": [
    "#### Plot and interpret boxplots\n",
    "\n",
    "For each numeric variable in the dataframe create a boxplot using Seaborn. Boxplots demonstrate central tendency and spread in variables. In a certain sense, these are somewhat redundant with histograms, but you may be better able to identify clear outliers or differences in IQR, etc.\n",
    "\n",
    "Multiple values can be plotted to a single boxplot as long as they are of the same relative scale (meaning they have similar min/max values).\n",
    "\n",
    "Each boxplot should:\n",
    "- Only include variables of a similar scale\n",
    "- Have clear labels for each variable\n",
    "- Have appropriate titles and labels"
   ]
  },
  {
   "cell_type": "code",
   "execution_count": 53,
   "metadata": {},
   "outputs": [],
   "source": [
    "boxplot_color={\"sat17_part\":\"blue\",\"sat18_part\":\"blue\",\"act17_part\":\"orange\",\"act18_part\":\"orange\"}"
   ]
  },
  {
   "cell_type": "code",
   "execution_count": 54,
   "metadata": {
    "scrolled": true
   },
   "outputs": [
    {
     "name": "stdout",
     "output_type": "stream",
     "text": [
      "Clear sign of improvement for SAT average participation rate in 2018, but with a wider interquartile range. This had a minor effect on the ACT participation rate which increased the interquartile range and brought the mean down by just a little. \n"
     ]
    },
    {
     "data": {
      "image/png": "[encoded data removed]",
      "text/plain": [
       "<Figure size 432x288 with 1 Axes>"
      ]
     },
     "metadata": {
      "needs_background": "light"
     },
     "output_type": "display_data"
    }
   ],
   "source": [
    "# Code\n",
    "#participation rate boxplot\n",
    "print(\"Clear sign of improvement for SAT average participation rate in 2018, but with a wider interquartile range. This had a minor effect on the ACT participation rate which increased the interquartile range and brought the mean down by just a little. \")\n",
    "sns.boxplot(data=scores_1718.loc[:,['sat17_part','sat18_part','act17_part','act18_part']],width=0.3,linewidth=2,palette=boxplot_color)\n",
    "plt.title(\"Participation Rates\",size=15)\n",
    "plt.xlabel(\"Test & Year\")\n",
    "plt.xticks([0,1,2,3],['SAT 2017','SAT 2018','ACT 2017','ACT 2018'])\n",
    "plt.ylabel(\"Participation (%)\");\n",
    "#plt.savefig('Participation rates boxplot')"
   ]
  },
  {
   "cell_type": "code",
   "execution_count": 55,
   "metadata": {
    "scrolled": true
   },
   "outputs": [
    {
     "name": "stdout",
     "output_type": "stream",
     "text": [
      "SAT total score seems to be constant, the only major difference being an improvement on the lowest outlier.\n"
     ]
    },
    {
     "data": {
      "image/png": "[encoded data removed]",
      "text/plain": [
       "<Figure size 432x288 with 1 Axes>"
      ]
     },
     "metadata": {
      "needs_background": "light"
     },
     "output_type": "display_data"
    }
   ],
   "source": [
    "#SAT score boxplot\n",
    "print('SAT total score seems to be constant, the only major difference being an improvement on the lowest outlier.')\n",
    "sns.boxplot(data=scores_1718.loc[:,['sat17_total','sat18_total']],width = 0.3, linewidth=2,palette = 'Blues')\n",
    "plt.title(\"Mean SAT score by year\",size=15)\n",
    "plt.xticks([0,1],['2017', '2018'])\n",
    "plt.xlabel('Year')\n",
    "plt.ylabel(\"SAT Total Score\");\n",
    "#plt.savefig('sat scores boxplot')"
   ]
  },
  {
   "cell_type": "code",
   "execution_count": 56,
   "metadata": {},
   "outputs": [
    {
     "name": "stdout",
     "output_type": "stream",
     "text": [
      "Microscopic changes between the boxplots, difference would be difficult to tell without a table of the actual statistics.\n",
      "       act17_part  act18_part\n",
      "count   51.000000   51.000000\n",
      "mean    65.254902   61.647059\n",
      "std     32.140842   34.080976\n",
      "min      8.000000    7.000000\n",
      "25%     31.000000   28.500000\n",
      "50%     69.000000   66.000000\n",
      "75%    100.000000  100.000000\n",
      "max    100.000000  100.000000\n"
     ]
    },
    {
     "data": {
      "image/png": "[encoded data removed]",
      "text/plain": [
       "<Figure size 432x288 with 1 Axes>"
      ]
     },
     "metadata": {
      "needs_background": "light"
     },
     "output_type": "display_data"
    }
   ],
   "source": [
    "#SAT score boxplot\n",
    "#act_part=scores_1718.loc[:,['act17_part','act18_part']]\n",
    "print('Microscopic changes between the boxplots, difference would be difficult to tell without a table of the actual statistics.')\n",
    "sns.boxplot(data=scores_1718.loc[:,['act17_part','act18_part']], width=0.3,linewidth=2,palette='Oranges')\n",
    "plt.xticks([0,1],['2017','2018'])\n",
    "plt.title(\"Mean ACT scores by year\",size=15)\n",
    "plt.xlabel('Year')\n",
    "plt.ylabel(\"ACT Composite Score\")\n",
    "print(scores_1718[['act17_part','act18_part']].describe());\n",
    "#plt.savefig('act scores boxplot')"
   ]
  },
  {
   "cell_type": "markdown",
   "metadata": {},
   "source": [
    "#### Feel free to do additional plots below\n",
    "*(do research and choose your own chart types & variables)*\n",
    "\n",
    "Are there any additional trends or relationships you haven't explored? Was there something interesting you saw that you'd like to dive further into? It's likely that there are a few more plots you might want to generate to support your narrative and recommendations that you are building toward. **As always, make sure you're interpreting your plots as you go**."
   ]
  },
  {
   "cell_type": "code",
   "execution_count": 57,
   "metadata": {
    "scrolled": true
   },
   "outputs": [
    {
     "name": "stderr",
     "output_type": "stream",
     "text": [
      "/Users/dylanteo/opt/anaconda3/lib/python3.7/site-packages/ipykernel_launcher.py:3: SettingWithCopyWarning: \n",
      "A value is trying to be set on a copy of a slice from a DataFrame.\n",
      "Try using .loc[row_indexer,col_indexer] = value instead\n",
      "\n",
      "See the caveats in the documentation: http://pandas.pydata.org/pandas-docs/stable/user_guide/indexing.html#returning-a-view-versus-a-copy\n",
      "  This is separate from the ipykernel package so we can avoid doing imports until\n",
      "/Users/dylanteo/opt/anaconda3/lib/python3.7/site-packages/ipykernel_launcher.py:4: SettingWithCopyWarning: \n",
      "A value is trying to be set on a copy of a slice from a DataFrame.\n",
      "Try using .loc[row_indexer,col_indexer] = value instead\n",
      "\n",
      "See the caveats in the documentation: http://pandas.pydata.org/pandas-docs/stable/user_guide/indexing.html#returning-a-view-versus-a-copy\n",
      "  after removing the cwd from sys.path.\n"
     ]
    },
    {
     "data": {
      "text/html": [
       "<div>\n",
       "<style scoped>\n",
       "    .dataframe tbody tr th:only-of-type {\n",
       "        vertical-align: middle;\n",
       "    }\n",
       "\n",
       "    .dataframe tbody tr th {\n",
       "        vertical-align: top;\n",
       "    }\n",
       "\n",
       "    .dataframe thead th {\n",
       "        text-align: right;\n",
       "    }\n",
       "</style>\n",
       "<table border=\"1\" class=\"dataframe\">\n",
       "  <thead>\n",
       "    <tr style=\"text-align: right;\">\n",
       "      <th></th>\n",
       "      <th>state</th>\n",
       "      <th>sat17_part</th>\n",
       "      <th>sat18_part</th>\n",
       "      <th>act17_part</th>\n",
       "      <th>act18_part</th>\n",
       "      <th>sat_delta</th>\n",
       "      <th>act_delta</th>\n",
       "    </tr>\n",
       "    <tr>\n",
       "      <th>state</th>\n",
       "      <th></th>\n",
       "      <th></th>\n",
       "      <th></th>\n",
       "      <th></th>\n",
       "      <th></th>\n",
       "      <th></th>\n",
       "      <th></th>\n",
       "    </tr>\n",
       "  </thead>\n",
       "  <tbody>\n",
       "    <tr>\n",
       "      <th>District of Columbia</th>\n",
       "      <td>District of Columbia</td>\n",
       "      <td>100</td>\n",
       "      <td>92</td>\n",
       "      <td>32</td>\n",
       "      <td>32</td>\n",
       "      <td>-8</td>\n",
       "      <td>0</td>\n",
       "    </tr>\n",
       "    <tr>\n",
       "      <th>Michigan</th>\n",
       "      <td>Michigan</td>\n",
       "      <td>100</td>\n",
       "      <td>100</td>\n",
       "      <td>29</td>\n",
       "      <td>22</td>\n",
       "      <td>0</td>\n",
       "      <td>-7</td>\n",
       "    </tr>\n",
       "    <tr>\n",
       "      <th>Connecticut</th>\n",
       "      <td>Connecticut</td>\n",
       "      <td>100</td>\n",
       "      <td>100</td>\n",
       "      <td>31</td>\n",
       "      <td>26</td>\n",
       "      <td>0</td>\n",
       "      <td>-5</td>\n",
       "    </tr>\n",
       "    <tr>\n",
       "      <th>Delaware</th>\n",
       "      <td>Delaware</td>\n",
       "      <td>100</td>\n",
       "      <td>100</td>\n",
       "      <td>18</td>\n",
       "      <td>17</td>\n",
       "      <td>0</td>\n",
       "      <td>-1</td>\n",
       "    </tr>\n",
       "    <tr>\n",
       "      <th>New Hampshire</th>\n",
       "      <td>New Hampshire</td>\n",
       "      <td>96</td>\n",
       "      <td>96</td>\n",
       "      <td>18</td>\n",
       "      <td>16</td>\n",
       "      <td>0</td>\n",
       "      <td>-2</td>\n",
       "    </tr>\n",
       "  </tbody>\n",
       "</table>\n",
       "</div>"
      ],
      "text/plain": [
       "                                     state  sat17_part  sat18_part  \\\n",
       "state                                                                \n",
       "District of Columbia  District of Columbia         100          92   \n",
       "Michigan                          Michigan         100         100   \n",
       "Connecticut                    Connecticut         100         100   \n",
       "Delaware                          Delaware         100         100   \n",
       "New Hampshire                New Hampshire          96          96   \n",
       "\n",
       "                      act17_part  act18_part  sat_delta  act_delta  \n",
       "state                                                               \n",
       "District of Columbia          32          32         -8          0  \n",
       "Michigan                      29          22          0         -7  \n",
       "Connecticut                   31          26          0         -5  \n",
       "Delaware                      18          17          0         -1  \n",
       "New Hampshire                 18          16          0         -2  "
      ]
     },
     "execution_count": 57,
     "metadata": {},
     "output_type": "execute_result"
    }
   ],
   "source": [
    "#code\n",
    "#Addition of the sat_delta and act_delta columns to part_delta are to show the changes for each test from 2017 to 2018.')\n",
    "part_delta[\"sat_delta\"]= part_delta.loc[:,'sat18_part']-part_delta.loc[:,'sat17_part']\n",
    "part_delta[\"act_delta\"]= part_delta.loc[:,'act18_part']-part_delta.loc[:,'act17_part']\n",
    "part_delta.index=part_delta['state']\n",
    "part_delta=part_delta.sort_values('sat17_part',ascending=False)\n",
    "part_delta.head(5)"
   ]
  },
  {
   "cell_type": "code",
   "execution_count": 58,
   "metadata": {},
   "outputs": [
    {
     "data": {
      "text/html": [
       "<div>\n",
       "<style scoped>\n",
       "    .dataframe tbody tr th:only-of-type {\n",
       "        vertical-align: middle;\n",
       "    }\n",
       "\n",
       "    .dataframe tbody tr th {\n",
       "        vertical-align: top;\n",
       "    }\n",
       "\n",
       "    .dataframe thead th {\n",
       "        text-align: right;\n",
       "    }\n",
       "</style>\n",
       "<table border=\"1\" class=\"dataframe\">\n",
       "  <thead>\n",
       "    <tr style=\"text-align: right;\">\n",
       "      <th></th>\n",
       "      <th>state</th>\n",
       "      <th>sat17_total</th>\n",
       "      <th>sat18_total</th>\n",
       "      <th>act17_comp</th>\n",
       "      <th>act18_comp</th>\n",
       "      <th>sat_delta</th>\n",
       "      <th>act_delta</th>\n",
       "    </tr>\n",
       "    <tr>\n",
       "      <th>state</th>\n",
       "      <th></th>\n",
       "      <th></th>\n",
       "      <th></th>\n",
       "      <th></th>\n",
       "      <th></th>\n",
       "      <th></th>\n",
       "      <th></th>\n",
       "    </tr>\n",
       "  </thead>\n",
       "  <tbody>\n",
       "    <tr>\n",
       "      <th>Florida</th>\n",
       "      <td>Florida</td>\n",
       "      <td>1017</td>\n",
       "      <td>1099</td>\n",
       "      <td>19.8</td>\n",
       "      <td>19.9</td>\n",
       "      <td>0.080629</td>\n",
       "      <td>0.005051</td>\n",
       "    </tr>\n",
       "    <tr>\n",
       "      <th>New Jersey</th>\n",
       "      <td>New Jersey</td>\n",
       "      <td>1056</td>\n",
       "      <td>1094</td>\n",
       "      <td>23.9</td>\n",
       "      <td>23.7</td>\n",
       "      <td>0.035985</td>\n",
       "      <td>-0.008368</td>\n",
       "    </tr>\n",
       "    <tr>\n",
       "      <th>Arizona</th>\n",
       "      <td>Arizona</td>\n",
       "      <td>1116</td>\n",
       "      <td>1149</td>\n",
       "      <td>19.7</td>\n",
       "      <td>19.2</td>\n",
       "      <td>0.029570</td>\n",
       "      <td>-0.025381</td>\n",
       "    </tr>\n",
       "    <tr>\n",
       "      <th>District of Columbia</th>\n",
       "      <td>District of Columbia</td>\n",
       "      <td>950</td>\n",
       "      <td>977</td>\n",
       "      <td>24.2</td>\n",
       "      <td>23.6</td>\n",
       "      <td>0.028421</td>\n",
       "      <td>-0.024793</td>\n",
       "    </tr>\n",
       "    <tr>\n",
       "      <th>Alaska</th>\n",
       "      <td>Alaska</td>\n",
       "      <td>1080</td>\n",
       "      <td>1106</td>\n",
       "      <td>19.8</td>\n",
       "      <td>20.8</td>\n",
       "      <td>0.024074</td>\n",
       "      <td>0.050505</td>\n",
       "    </tr>\n",
       "  </tbody>\n",
       "</table>\n",
       "</div>"
      ],
      "text/plain": [
       "                                     state  sat17_total  sat18_total  \\\n",
       "state                                                                  \n",
       "Florida                            Florida         1017         1099   \n",
       "New Jersey                      New Jersey         1056         1094   \n",
       "Arizona                            Arizona         1116         1149   \n",
       "District of Columbia  District of Columbia          950          977   \n",
       "Alaska                              Alaska         1080         1106   \n",
       "\n",
       "                      act17_comp  act18_comp  sat_delta  act_delta  \n",
       "state                                                               \n",
       "Florida                     19.8        19.9   0.080629   0.005051  \n",
       "New Jersey                  23.9        23.7   0.035985  -0.008368  \n",
       "Arizona                     19.7        19.2   0.029570  -0.025381  \n",
       "District of Columbia        24.2        23.6   0.028421  -0.024793  \n",
       "Alaska                      19.8        20.8   0.024074   0.050505  "
      ]
     },
     "execution_count": 58,
     "metadata": {},
     "output_type": "execute_result"
    }
   ],
   "source": [
    "#creation of the sat_delta and act_delta for score_delta showing the changes in score for 2017 and 2018\n",
    "score_delta[\"sat_delta\"]= (score_delta.loc[:,'sat18_total']-score_delta.loc[:,'sat17_total'])/score_delta.loc[:,'sat17_total']\n",
    "score_delta[\"act_delta\"]= (score_delta.loc[:,'act18_comp']-score_delta.loc[:,'act17_comp'])/score_delta.loc[:,'act17_comp']\n",
    "score_delta.index=score_delta['state']\n",
    "score_delta=score_delta.sort_values('sat_delta',ascending=False)\n",
    "score_delta.head(5)"
   ]
  },
  {
   "cell_type": "code",
   "execution_count": 59,
   "metadata": {
    "scrolled": true
   },
   "outputs": [
    {
     "name": "stdout",
     "output_type": "stream",
     "text": [
      "Narrowing down to the states which has the most increased participation in SAT, showing that there is an inverse of the participation rate for ACT and to identify the biggest changers (for those with changes greater than 20%)\n"
     ]
    },
    {
     "data": {
      "image/png": "[encoded data removed]",
      "text/plain": [
       "<Figure size 720x360 with 1 Axes>"
      ]
     },
     "metadata": {
      "needs_background": "light"
     },
     "output_type": "display_data"
    }
   ],
   "source": [
    "#Comparison between the biggest changes in participation rate for SAT and the effect it has on the corresponding ACT participation rate\n",
    "print('Narrowing down to the states which has the most increased participation in SAT, showing that there is an inverse of the \\\n",
    "participation rate for ACT and to identify the biggest changers (for those with changes greater than 20%)')\n",
    "part_delta[((part_delta['sat_delta']>15) |\\\n",
    "(part_delta['sat_delta']<(-15)))][['sat_delta','act_delta']]\\\n",
    ".sort_values(by='sat_delta',ascending=True).plot(kind='barh',figsize=(10,5))\n",
    "plt.axvline(x=0,color='black')\n",
    "plt.xlabel('Change in Participation Rate (%)',size=10)\n",
    "plt.ylabel('State',size=10)\n",
    "plt.title(\"Changes in SAT Participation more than 20%\");"
   ]
  },
  {
   "cell_type": "code",
   "execution_count": 60,
   "metadata": {},
   "outputs": [
    {
     "name": "stdout",
     "output_type": "stream",
     "text": [
      "As shown for the state Florida, a decrease in participation rate increases the overall score for the state, regardless.\n"
     ]
    },
    {
     "name": "stderr",
     "output_type": "stream",
     "text": [
      "/Users/dylanteo/opt/anaconda3/lib/python3.7/site-packages/ipykernel_launcher.py:3: UserWarning: Boolean Series key will be reindexed to match DataFrame index.\n",
      "  This is separate from the ipykernel package so we can avoid doing imports until\n"
     ]
    },
    {
     "data": {
      "image/png": "[encoded data removed]",
      "text/plain": [
       "<Figure size 720x360 with 1 Axes>"
      ]
     },
     "metadata": {
      "needs_background": "light"
     },
     "output_type": "display_data"
    }
   ],
   "source": [
    "print('As shown for the state Florida, a decrease in participation rate increases the overall score for the state, regardless.')\n",
    "score_delta[((score_delta['sat_delta']>0.02) |\\\n",
    "(part_delta['sat_delta']<(-0.02)))][['sat_delta','act_delta']]\\\n",
    ".sort_values(by='sat_delta',ascending=True).plot(kind='barh',figsize=(10,5))\n",
    "plt.axvline(x=0,color='black');"
   ]
  },
  {
   "cell_type": "code",
   "execution_count": 61,
   "metadata": {},
   "outputs": [
    {
     "data": {
      "text/html": [
       "<div>\n",
       "<style scoped>\n",
       "    .dataframe tbody tr th:only-of-type {\n",
       "        vertical-align: middle;\n",
       "    }\n",
       "\n",
       "    .dataframe tbody tr th {\n",
       "        vertical-align: top;\n",
       "    }\n",
       "\n",
       "    .dataframe thead th {\n",
       "        text-align: right;\n",
       "    }\n",
       "</style>\n",
       "<table border=\"1\" class=\"dataframe\">\n",
       "  <thead>\n",
       "    <tr style=\"text-align: right;\">\n",
       "      <th></th>\n",
       "      <th>sat_delta</th>\n",
       "      <th>act_delta</th>\n",
       "    </tr>\n",
       "    <tr>\n",
       "      <th>state</th>\n",
       "      <th></th>\n",
       "      <th></th>\n",
       "    </tr>\n",
       "  </thead>\n",
       "  <tbody>\n",
       "    <tr>\n",
       "      <th>Florida</th>\n",
       "      <td>0.080629</td>\n",
       "      <td>0.005051</td>\n",
       "    </tr>\n",
       "    <tr>\n",
       "      <th>West Virginia</th>\n",
       "      <td>-0.080110</td>\n",
       "      <td>-0.004902</td>\n",
       "    </tr>\n",
       "    <tr>\n",
       "      <th>Illinois</th>\n",
       "      <td>-0.086099</td>\n",
       "      <td>0.116822</td>\n",
       "    </tr>\n",
       "    <tr>\n",
       "      <th>Colorado</th>\n",
       "      <td>-0.146545</td>\n",
       "      <td>0.149038</td>\n",
       "    </tr>\n",
       "    <tr>\n",
       "      <th>Utah</th>\n",
       "      <td>-0.184168</td>\n",
       "      <td>0.004926</td>\n",
       "    </tr>\n",
       "  </tbody>\n",
       "</table>\n",
       "</div>"
      ],
      "text/plain": [
       "               sat_delta  act_delta\n",
       "state                              \n",
       "Florida         0.080629   0.005051\n",
       "West Virginia  -0.080110  -0.004902\n",
       "Illinois       -0.086099   0.116822\n",
       "Colorado       -0.146545   0.149038\n",
       "Utah           -0.184168   0.004926"
      ]
     },
     "execution_count": 61,
     "metadata": {},
     "output_type": "execute_result"
    }
   ],
   "source": [
    "score_delta[((score_delta['sat_delta']>0.08) |\\\n",
    "(score_delta['sat_delta']<(-0.08)))][['sat_delta','act_delta']]"
   ]
  },
  {
   "cell_type": "code",
   "execution_count": 62,
   "metadata": {},
   "outputs": [
    {
     "name": "stdout",
     "output_type": "stream",
     "text": [
      "The most significant changes in SAT score is the decrease for Utah, Illinois, Colorado and West Virginia. Florida is the only state with a significant increase in SAT score.\n"
     ]
    },
    {
     "data": {
      "image/png": "[encoded data removed]",
      "text/plain": [
       "<Figure size 504x360 with 1 Axes>"
      ]
     },
     "metadata": {
      "needs_background": "light"
     },
     "output_type": "display_data"
    }
   ],
   "source": [
    "print('The most significant changes in SAT score is the decrease for Utah, Illinois, Colorado and West Virginia. Florida is the only state with a significant increase in SAT score.')\n",
    "score_delta[((score_delta['sat_delta']>0.05) |\\\n",
    "(score_delta['sat_delta']<(-0.05)))][['sat_delta','act_delta']]\\\n",
    ".sort_values(by='sat_delta',ascending=True).plot(kind='barh',figsize=(7,5))\n",
    "plt.axvline(x=0,color='black')\n",
    "plt.xlabel('Change in Total/Composite score',size=10)\n",
    "plt.ylabel('State',size=10)\n",
    "plt.title(\"Biggest change in SAT Total score\");"
   ]
  },
  {
   "cell_type": "code",
   "execution_count": 63,
   "metadata": {
    "scrolled": false
   },
   "outputs": [
    {
     "name": "stdout",
     "output_type": "stream",
     "text": [
      "Bar plot to visualise each state's change in total score from 2017 to 2018\n"
     ]
    },
    {
     "data": {
      "image/png": "[encoded data removed]",
      "text/plain": [
       "<Figure size 504x1800 with 1 Axes>"
      ]
     },
     "metadata": {
      "needs_background": "light"
     },
     "output_type": "display_data"
    }
   ],
   "source": [
    "#bar graph of the change in total/composition score from 2017 to 2018 for SAT and ACT.\n",
    "print('Bar plot to visualise each state\\'s change in total score from 2017 to 2018')\n",
    "score_delta[['sat_delta','act_delta']].sort_values(['sat_delta'],ascending=False).plot(kind='barh',figsize=(7,25))\n",
    "plt.title('Change in mean score from 2017 to 2018')\n",
    "plt.xlabel('Percentage change in score');\n",
    "#plt.savefig('Delta participation rate')"
   ]
  },
  {
   "cell_type": "code",
   "execution_count": 64,
   "metadata": {
    "scrolled": false
   },
   "outputs": [
    {
     "name": "stdout",
     "output_type": "stream",
     "text": [
      "Graph showing the change in each state's participation rate for ACT and SAT, showing some inverse trend between the change in SAT participation compared to ACT participation.\n"
     ]
    },
    {
     "data": {
      "image/png": "[encoded data removed]",
      "text/plain": [
       "<Figure size 504x1800 with 1 Axes>"
      ]
     },
     "metadata": {
      "needs_background": "light"
     },
     "output_type": "display_data"
    }
   ],
   "source": [
    "print('Graph showing the change in each state\\'s participation rate for ACT and SAT, showing some inverse trend between the change in SAT participation compared to ACT participation.')\n",
    "part_delta[['sat_delta','act_delta']].sort_values(['sat_delta'],ascending=True).plot(kind='barh',figsize=(7,25))\n",
    "plt.title('Change in score from 2017 to 2018')\n",
    "plt.xlabel('Percentage change in participation');\n",
    "#plt.savefig('Delta scores')"
   ]
  },
  {
   "cell_type": "markdown",
   "metadata": {},
   "source": [
    "## Descriptive and Inferential Statistics"
   ]
  },
  {
   "cell_type": "markdown",
   "metadata": {},
   "source": [
    "#### Summarizing Distributions\n",
    "\n",
    "Above, we used pandas `describe` to provide quick summary statistics of our numeric columns. We also demonstrated many visual relationships.\n",
    "\n",
    "As data scientists, having a complete understanding of data is imperative prior to modeling.\n",
    "\n",
    "While we will continue to build our analytic tools, we know that measures of *central tendency*, *spread*, and *shape/skewness* provide a quick summary of distributions.\n",
    "\n",
    "For each variable in your data, summarize the underlying distributions (in words & statistics)\n",
    " - Be thorough in your verbal description of these distributions.\n",
    " - Be sure to back up these summaries with statistics."
   ]
  },
  {
   "cell_type": "markdown",
   "metadata": {},
   "source": [
    "Answers:\n",
    "\n",
    "*Based on the histograms above and below, along with the summary statistics for all the columns, we can tell that there is at least 2 groups of students within the population that participated in either tests. The 'twin peaks' observed in all of the histograms for the scores supports this, where it is clearly evident that there are 2 peaks around the mean, although the peak of both may not be of the same height. The means for all are in the centre of the distribution, which suggest that there is lesser skewness present in the distribution for the scores\n",
    "As for the population rates, the mean for both are not equal, with SAT having a lower mean (due to the lower overall participation rate compared to ACT). Both exhibit multiple extreme values, having many very high or low participation rates which results in the extremely high standard deviation for both (more than half of the mean value).*"
   ]
  },
  {
   "cell_type": "code",
   "execution_count": 65,
   "metadata": {},
   "outputs": [
    {
     "name": "stdout",
     "output_type": "stream",
     "text": [
      "Multiple peaks are observed for total scores for both ACT and SAT. \n"
     ]
    },
    {
     "data": {
      "text/plain": [
       "<Figure size 1152x648 with 0 Axes>"
      ]
     },
     "metadata": {},
     "output_type": "display_data"
    },
    {
     "data": {
      "image/png": "[encoded data removed]",
      "text/plain": [
       "<Figure size 1152x648 with 4 Axes>"
      ]
     },
     "metadata": {
      "needs_background": "light"
     },
     "output_type": "display_data"
    }
   ],
   "source": [
    "print(\"Multiple peaks are observed for total scores for both ACT and SAT. \")\n",
    "subplot_histograms(scores_1718,['sat17_total','sat18_total','act17_comp','act18_comp'],\\\n",
    "                   [\"SAT Total Scores 2017\",\"SAT Total Scores 2018\",\"ACT Composite Scores 2017\",\"ACT Composite Scores 2018\"],\\\n",
    "                   ['Total Scores','Total Scores','Total Scores','Total Scores'],'Total Scores')\n",
    "#plt.savefig('Total Scores Histogram')"
   ]
  },
  {
   "cell_type": "code",
   "execution_count": 66,
   "metadata": {
    "scrolled": true
   },
   "outputs": [
    {
     "data": {
      "text/html": [
       "<div>\n",
       "<style scoped>\n",
       "    .dataframe tbody tr th:only-of-type {\n",
       "        vertical-align: middle;\n",
       "    }\n",
       "\n",
       "    .dataframe tbody tr th {\n",
       "        vertical-align: top;\n",
       "    }\n",
       "\n",
       "    .dataframe thead th {\n",
       "        text-align: right;\n",
       "    }\n",
       "</style>\n",
       "<table border=\"1\" class=\"dataframe\">\n",
       "  <thead>\n",
       "    <tr style=\"text-align: right;\">\n",
       "      <th></th>\n",
       "      <th>act17_part</th>\n",
       "      <th>act17_eng</th>\n",
       "      <th>act17_math</th>\n",
       "      <th>act17_read</th>\n",
       "      <th>act17_sci</th>\n",
       "      <th>act17_comp</th>\n",
       "      <th>sat17_part</th>\n",
       "      <th>sat17_read</th>\n",
       "      <th>sat17_math</th>\n",
       "      <th>sat17_total</th>\n",
       "      <th>act18_part</th>\n",
       "      <th>act18_comp</th>\n",
       "      <th>act18_eng</th>\n",
       "      <th>act18_math</th>\n",
       "      <th>act18_read</th>\n",
       "      <th>act18_sci</th>\n",
       "      <th>sat18_part</th>\n",
       "      <th>sat18_read</th>\n",
       "      <th>sat18_math</th>\n",
       "      <th>sat18_total</th>\n",
       "    </tr>\n",
       "  </thead>\n",
       "  <tbody>\n",
       "    <tr>\n",
       "      <th>count</th>\n",
       "      <td>51.000000</td>\n",
       "      <td>51.000000</td>\n",
       "      <td>51.000000</td>\n",
       "      <td>51.000000</td>\n",
       "      <td>51.000000</td>\n",
       "      <td>51.000000</td>\n",
       "      <td>51.000000</td>\n",
       "      <td>51.000000</td>\n",
       "      <td>51.000000</td>\n",
       "      <td>51.000000</td>\n",
       "      <td>51.000000</td>\n",
       "      <td>51.000000</td>\n",
       "      <td>51.000000</td>\n",
       "      <td>51.000000</td>\n",
       "      <td>51.000000</td>\n",
       "      <td>51.000000</td>\n",
       "      <td>51.000000</td>\n",
       "      <td>51.000000</td>\n",
       "      <td>51.000000</td>\n",
       "      <td>51.000000</td>\n",
       "    </tr>\n",
       "    <tr>\n",
       "      <th>mean</th>\n",
       "      <td>65.254902</td>\n",
       "      <td>20.931373</td>\n",
       "      <td>21.182353</td>\n",
       "      <td>22.013725</td>\n",
       "      <td>21.450980</td>\n",
       "      <td>21.519608</td>\n",
       "      <td>39.803922</td>\n",
       "      <td>569.117647</td>\n",
       "      <td>556.882353</td>\n",
       "      <td>1126.098039</td>\n",
       "      <td>61.647059</td>\n",
       "      <td>21.486275</td>\n",
       "      <td>20.988235</td>\n",
       "      <td>21.125490</td>\n",
       "      <td>22.015686</td>\n",
       "      <td>21.345098</td>\n",
       "      <td>45.745098</td>\n",
       "      <td>563.686275</td>\n",
       "      <td>556.235294</td>\n",
       "      <td>1120.019608</td>\n",
       "    </tr>\n",
       "    <tr>\n",
       "      <th>std</th>\n",
       "      <td>32.140842</td>\n",
       "      <td>2.353677</td>\n",
       "      <td>1.981989</td>\n",
       "      <td>2.067271</td>\n",
       "      <td>1.739353</td>\n",
       "      <td>2.020695</td>\n",
       "      <td>35.276632</td>\n",
       "      <td>45.666901</td>\n",
       "      <td>47.121395</td>\n",
       "      <td>92.494812</td>\n",
       "      <td>34.080976</td>\n",
       "      <td>2.106278</td>\n",
       "      <td>2.446356</td>\n",
       "      <td>2.035765</td>\n",
       "      <td>2.167245</td>\n",
       "      <td>1.870114</td>\n",
       "      <td>37.314256</td>\n",
       "      <td>47.502627</td>\n",
       "      <td>47.772623</td>\n",
       "      <td>94.155083</td>\n",
       "    </tr>\n",
       "    <tr>\n",
       "      <th>min</th>\n",
       "      <td>8.000000</td>\n",
       "      <td>16.300000</td>\n",
       "      <td>18.000000</td>\n",
       "      <td>18.100000</td>\n",
       "      <td>18.200000</td>\n",
       "      <td>17.800000</td>\n",
       "      <td>2.000000</td>\n",
       "      <td>482.000000</td>\n",
       "      <td>468.000000</td>\n",
       "      <td>950.000000</td>\n",
       "      <td>7.000000</td>\n",
       "      <td>17.700000</td>\n",
       "      <td>16.600000</td>\n",
       "      <td>17.800000</td>\n",
       "      <td>18.000000</td>\n",
       "      <td>17.900000</td>\n",
       "      <td>2.000000</td>\n",
       "      <td>480.000000</td>\n",
       "      <td>480.000000</td>\n",
       "      <td>977.000000</td>\n",
       "    </tr>\n",
       "    <tr>\n",
       "      <th>25%</th>\n",
       "      <td>31.000000</td>\n",
       "      <td>19.000000</td>\n",
       "      <td>19.400000</td>\n",
       "      <td>20.450000</td>\n",
       "      <td>19.950000</td>\n",
       "      <td>19.800000</td>\n",
       "      <td>4.000000</td>\n",
       "      <td>533.500000</td>\n",
       "      <td>523.500000</td>\n",
       "      <td>1055.500000</td>\n",
       "      <td>28.500000</td>\n",
       "      <td>19.950000</td>\n",
       "      <td>19.100000</td>\n",
       "      <td>19.400000</td>\n",
       "      <td>20.450000</td>\n",
       "      <td>19.850000</td>\n",
       "      <td>4.500000</td>\n",
       "      <td>534.500000</td>\n",
       "      <td>522.500000</td>\n",
       "      <td>1057.500000</td>\n",
       "    </tr>\n",
       "    <tr>\n",
       "      <th>50%</th>\n",
       "      <td>69.000000</td>\n",
       "      <td>20.700000</td>\n",
       "      <td>20.900000</td>\n",
       "      <td>21.800000</td>\n",
       "      <td>21.300000</td>\n",
       "      <td>21.400000</td>\n",
       "      <td>38.000000</td>\n",
       "      <td>559.000000</td>\n",
       "      <td>548.000000</td>\n",
       "      <td>1107.000000</td>\n",
       "      <td>66.000000</td>\n",
       "      <td>21.300000</td>\n",
       "      <td>20.200000</td>\n",
       "      <td>20.700000</td>\n",
       "      <td>21.600000</td>\n",
       "      <td>21.100000</td>\n",
       "      <td>52.000000</td>\n",
       "      <td>552.000000</td>\n",
       "      <td>544.000000</td>\n",
       "      <td>1098.000000</td>\n",
       "    </tr>\n",
       "    <tr>\n",
       "      <th>75%</th>\n",
       "      <td>100.000000</td>\n",
       "      <td>23.300000</td>\n",
       "      <td>23.100000</td>\n",
       "      <td>24.150000</td>\n",
       "      <td>23.200000</td>\n",
       "      <td>23.600000</td>\n",
       "      <td>66.000000</td>\n",
       "      <td>613.000000</td>\n",
       "      <td>599.000000</td>\n",
       "      <td>1212.000000</td>\n",
       "      <td>100.000000</td>\n",
       "      <td>23.550000</td>\n",
       "      <td>23.700000</td>\n",
       "      <td>23.150000</td>\n",
       "      <td>24.100000</td>\n",
       "      <td>23.050000</td>\n",
       "      <td>77.500000</td>\n",
       "      <td>610.500000</td>\n",
       "      <td>593.500000</td>\n",
       "      <td>1204.000000</td>\n",
       "    </tr>\n",
       "    <tr>\n",
       "      <th>max</th>\n",
       "      <td>100.000000</td>\n",
       "      <td>25.500000</td>\n",
       "      <td>25.300000</td>\n",
       "      <td>26.000000</td>\n",
       "      <td>24.900000</td>\n",
       "      <td>25.500000</td>\n",
       "      <td>100.000000</td>\n",
       "      <td>644.000000</td>\n",
       "      <td>651.000000</td>\n",
       "      <td>1295.000000</td>\n",
       "      <td>100.000000</td>\n",
       "      <td>25.600000</td>\n",
       "      <td>26.000000</td>\n",
       "      <td>25.200000</td>\n",
       "      <td>26.100000</td>\n",
       "      <td>24.900000</td>\n",
       "      <td>100.000000</td>\n",
       "      <td>643.000000</td>\n",
       "      <td>655.000000</td>\n",
       "      <td>1298.000000</td>\n",
       "    </tr>\n",
       "  </tbody>\n",
       "</table>\n",
       "</div>"
      ],
      "text/plain": [
       "       act17_part  act17_eng  act17_math  act17_read  act17_sci  act17_comp  \\\n",
       "count   51.000000  51.000000   51.000000   51.000000  51.000000   51.000000   \n",
       "mean    65.254902  20.931373   21.182353   22.013725  21.450980   21.519608   \n",
       "std     32.140842   2.353677    1.981989    2.067271   1.739353    2.020695   \n",
       "min      8.000000  16.300000   18.000000   18.100000  18.200000   17.800000   \n",
       "25%     31.000000  19.000000   19.400000   20.450000  19.950000   19.800000   \n",
       "50%     69.000000  20.700000   20.900000   21.800000  21.300000   21.400000   \n",
       "75%    100.000000  23.300000   23.100000   24.150000  23.200000   23.600000   \n",
       "max    100.000000  25.500000   25.300000   26.000000  24.900000   25.500000   \n",
       "\n",
       "       sat17_part  sat17_read  sat17_math  sat17_total  act18_part  \\\n",
       "count   51.000000   51.000000   51.000000    51.000000   51.000000   \n",
       "mean    39.803922  569.117647  556.882353  1126.098039   61.647059   \n",
       "std     35.276632   45.666901   47.121395    92.494812   34.080976   \n",
       "min      2.000000  482.000000  468.000000   950.000000    7.000000   \n",
       "25%      4.000000  533.500000  523.500000  1055.500000   28.500000   \n",
       "50%     38.000000  559.000000  548.000000  1107.000000   66.000000   \n",
       "75%     66.000000  613.000000  599.000000  1212.000000  100.000000   \n",
       "max    100.000000  644.000000  651.000000  1295.000000  100.000000   \n",
       "\n",
       "       act18_comp  act18_eng  act18_math  act18_read  act18_sci  sat18_part  \\\n",
       "count   51.000000  51.000000   51.000000   51.000000  51.000000   51.000000   \n",
       "mean    21.486275  20.988235   21.125490   22.015686  21.345098   45.745098   \n",
       "std      2.106278   2.446356    2.035765    2.167245   1.870114   37.314256   \n",
       "min     17.700000  16.600000   17.800000   18.000000  17.900000    2.000000   \n",
       "25%     19.950000  19.100000   19.400000   20.450000  19.850000    4.500000   \n",
       "50%     21.300000  20.200000   20.700000   21.600000  21.100000   52.000000   \n",
       "75%     23.550000  23.700000   23.150000   24.100000  23.050000   77.500000   \n",
       "max     25.600000  26.000000   25.200000   26.100000  24.900000  100.000000   \n",
       "\n",
       "       sat18_read  sat18_math  sat18_total  \n",
       "count   51.000000   51.000000    51.000000  \n",
       "mean   563.686275  556.235294  1120.019608  \n",
       "std     47.502627   47.772623    94.155083  \n",
       "min    480.000000  480.000000   977.000000  \n",
       "25%    534.500000  522.500000  1057.500000  \n",
       "50%    552.000000  544.000000  1098.000000  \n",
       "75%    610.500000  593.500000  1204.000000  \n",
       "max    643.000000  655.000000  1298.000000  "
      ]
     },
     "execution_count": 66,
     "metadata": {},
     "output_type": "execute_result"
    }
   ],
   "source": [
    "#for reference without the need to scroll up the notebook.\n",
    "scores_1718.describe()"
   ]
  },
  {
   "cell_type": "code",
   "execution_count": 67,
   "metadata": {},
   "outputs": [
    {
     "name": "stdout",
     "output_type": "stream",
     "text": [
      "SAT has been having increasing participation rate in 2018, while ACT has decreased. The high max value of 90% participation gain for SAT contrasts that of ACT's max loss of -70% participation rate.\n"
     ]
    },
    {
     "data": {
      "text/plain": [
       "Text(0.5, 1.0, 'Change in Participation rate between ACT and SAT')"
      ]
     },
     "execution_count": 67,
     "metadata": {},
     "output_type": "execute_result"
    },
    {
     "data": {
      "image/png": "[encoded data removed]",
      "text/plain": [
       "<Figure size 432x288 with 1 Axes>"
      ]
     },
     "metadata": {
      "needs_background": "light"
     },
     "output_type": "display_data"
    }
   ],
   "source": [
    "print('SAT has been having increasing participation rate in 2018, while ACT has decreased. The high max value of 90% participation gain for SAT contrasts that of ACT\\'s max loss of -70% participation rate.')\n",
    "part_delta[['sat_delta','act_delta']].describe()\n",
    "sns.regplot(x=part_delta['sat_delta'],y=part_delta['act_delta'],color='teal')\n",
    "plt.xlabel('Change in SAT participation rate(%)')\n",
    "plt.ylabel('Change in ACT participation rate(%)')\n",
    "plt.title('Change in Participation rate between ACT and SAT')\n",
    "#plt.savefig('Change in participation scatter')\n"
   ]
  },
  {
   "cell_type": "code",
   "execution_count": 68,
   "metadata": {
    "scrolled": true
   },
   "outputs": [
    {
     "name": "stdout",
     "output_type": "stream",
     "text": [
      "The scores have been decreasing for both, but with quite a few outliers which increases the variance.\n"
     ]
    },
    {
     "data": {
      "text/plain": [
       "Text(0.5, 1.0, 'Change in overall score between ACT and SAT')"
      ]
     },
     "execution_count": 68,
     "metadata": {},
     "output_type": "execute_result"
    },
    {
     "data": {
      "image/png": "[encoded data removed]",
      "text/plain": [
       "<Figure size 432x288 with 1 Axes>"
      ]
     },
     "metadata": {
      "needs_background": "light"
     },
     "output_type": "display_data"
    }
   ],
   "source": [
    "print(\"The scores have been decreasing for both, but with quite a few outliers which increases the variance.\")\n",
    "score_delta[['sat_delta','act_delta']].describe()\n",
    "sns.regplot(x=score_delta['sat_delta'],y=score_delta['act_delta'],color='teal')\n",
    "plt.xlabel('Change in SAT score (%)')\n",
    "plt.ylabel('Change in ACT score (%)')\n",
    "plt.title('Change in overall score between ACT and SAT')\n",
    "#plt.savefig('Change in score Scatter')"
   ]
  },
  {
   "cell_type": "code",
   "execution_count": 69,
   "metadata": {
    "scrolled": true
   },
   "outputs": [
    {
     "data": {
      "text/plain": [
       "Text(0.5, 1.0, 'Participation rates for 2018')"
      ]
     },
     "execution_count": 69,
     "metadata": {},
     "output_type": "execute_result"
    },
    {
     "data": {
      "image/png": "[encoded data removed]",
      "text/plain": [
       "<Figure size 432x288 with 1 Axes>"
      ]
     },
     "metadata": {
      "needs_background": "light"
     },
     "output_type": "display_data"
    }
   ],
   "source": [
    "#plotting the 2018 participation rate for both tests\n",
    "sns.regplot(x=part_delta['sat18_part'],y=part_delta['act18_part'],color='teal')\n",
    "plt.xlabel('SAT 2018 Participation rate(%)')\n",
    "plt.ylabel('ACT 2018 Participation rate(%)')\n",
    "plt.title('Participation rates for 2018')\n",
    "#plt.savefig('Participation Scatter 2018')"
   ]
  },
  {
   "cell_type": "code",
   "execution_count": 70,
   "metadata": {
    "scrolled": false
   },
   "outputs": [
    {
     "data": {
      "text/plain": [
       "Text(0.5, 1.0, 'Participation rates for 2017')"
      ]
     },
     "execution_count": 70,
     "metadata": {},
     "output_type": "execute_result"
    },
    {
     "data": {
      "image/png": "[encoded data removed]",
      "text/plain": [
       "<Figure size 432x288 with 1 Axes>"
      ]
     },
     "metadata": {
      "needs_background": "light"
     },
     "output_type": "display_data"
    }
   ],
   "source": [
    "#plotting the 2017 participation rate for both tests\n",
    "sns.regplot(x=part_delta['sat17_part'],y=part_delta['act17_part'],color='teal')\n",
    "plt.xlabel('SAT 2017 Participation rate(%)')\n",
    "plt.ylabel('ACT 2017 Participation rate(%)')\n",
    "plt.title('Participation rates for 2017')\n",
    "#plt.savefig('Participation Scatter 2017')"
   ]
  },
  {
   "cell_type": "markdown",
   "metadata": {},
   "source": [
    "#### We generally assuming that data we sample from a population will be normally distributed. Do we observe this trend?"
   ]
  },
  {
   "cell_type": "markdown",
   "metadata": {},
   "source": [
    "Answer: \n",
    "\n",
    "*This is not observed in the both sets of data from 2017 and 2018, as there seems to be two groups within the population, resulting in 'twin peaks' when plotting the histogram of the data*."
   ]
  },
  {
   "cell_type": "markdown",
   "metadata": {},
   "source": [
    "Does This Assumption Hold for:\n",
    "    - Math\n",
    "    - Reading\n",
    "    - Rates\n",
    "Explain your answers for each distribution and how you think this will affect estimates made from these data."
   ]
  },
  {
   "cell_type": "markdown",
   "metadata": {},
   "source": [
    "Answer:\n",
    "\n",
    "*For Reading and Math scores, both exhibit twin peaks with scores around the mean of the data as shown in the histogram plots (bimodal or multimodal distributions)*"
   ]
  },
  {
   "cell_type": "markdown",
   "metadata": {},
   "source": [
    "#### Estimate Limits of Data\n",
    "\n",
    "Suppose we only seek to understand the relationship between SAT and ACT participation rates in 2017. \n",
    "\n",
    "##### Does it make sense to conduct statistical inference given these data specifically? \n",
    "\n",
    "Why or why not?\n",
    "\n",
    "*(think about granularity, aggregation, the relationships between populations size & rates...consider the actually populations these data describe in answering this question)*"
   ]
  },
  {
   "cell_type": "markdown",
   "metadata": {},
   "source": [
    "Answer: \n",
    "\n",
    "*These sets of data will be insufficient for statistical inference, as these data are a group of summary statistics for each particular state and the number of states is not very large.\n",
    "It does not provide us with the raw data from each student and it provides no information on the non-participating students.\n",
    "There could be hidden trends or biasedness within each state's scores/rates which would have provided a clearer picture if these data was provided down to each student's individual score.*"
   ]
  },
  {
   "cell_type": "markdown",
   "metadata": {},
   "source": [
    "##### Is it appropriate to compare *these* specific SAT and ACT math scores? \n",
    "\n",
    "Why or why not?"
   ]
  },
  {
   "cell_type": "markdown",
   "metadata": {},
   "source": [
    "Answer: \n",
    "\n",
    "*Based on the scatter plot between each test's score during the same year, it is observed that there seems to be a negative correlation between both SAT and ACT scores, albeit with a very high degree of variability. Based on this, it may be possible to use for analysis but it cannot be used for precise predictive modelling.*"
   ]
  },
  {
   "cell_type": "markdown",
   "metadata": {},
   "source": [
    "#### Statistical Evaluation of Distributions \n",
    "\n",
    "**If you feel it's appropriate**, using methods we discussed in class, run hypothesis tests to compare variables of interest in our dataset. "
   ]
  },
  {
   "cell_type": "markdown",
   "metadata": {},
   "source": [
    "*It would not be appropriate as the difference between the participation is significantly different from each other*"
   ]
  },
  {
   "cell_type": "markdown",
   "metadata": {},
   "source": [
    "## Outside Research"
   ]
  },
  {
   "cell_type": "markdown",
   "metadata": {},
   "source": [
    "Based upon your observations, choose **three** states that demonstrate interesting trends in their SAT and/or ACT participation rates. Spend some time doing outside research on state policies that might influence these rates, and summarize your findings below. **Feel free to go back and create new plots that highlight these states of interest**. If you bring in any outside tables or charts, make sure you are explicit about having borrowed them. If you quote any text, make sure that it renders as being quoted. (Make sure that you cite your sources -- check with you local instructor for citation preferences)."
   ]
  },
  {
   "cell_type": "code",
   "execution_count": 71,
   "metadata": {},
   "outputs": [
    {
     "data": {
      "text/html": [
       "<div>\n",
       "<style scoped>\n",
       "    .dataframe tbody tr th:only-of-type {\n",
       "        vertical-align: middle;\n",
       "    }\n",
       "\n",
       "    .dataframe tbody tr th {\n",
       "        vertical-align: top;\n",
       "    }\n",
       "\n",
       "    .dataframe thead th {\n",
       "        text-align: right;\n",
       "    }\n",
       "</style>\n",
       "<table border=\"1\" class=\"dataframe\">\n",
       "  <thead>\n",
       "    <tr style=\"text-align: right;\">\n",
       "      <th></th>\n",
       "      <th>sat_delta</th>\n",
       "      <th>act_delta</th>\n",
       "    </tr>\n",
       "    <tr>\n",
       "      <th>state</th>\n",
       "      <th></th>\n",
       "      <th></th>\n",
       "    </tr>\n",
       "  </thead>\n",
       "  <tbody>\n",
       "    <tr>\n",
       "      <th>Colorado</th>\n",
       "      <td>89</td>\n",
       "      <td>-70</td>\n",
       "    </tr>\n",
       "    <tr>\n",
       "      <th>Illinois</th>\n",
       "      <td>90</td>\n",
       "      <td>-50</td>\n",
       "    </tr>\n",
       "    <tr>\n",
       "      <th>Florida</th>\n",
       "      <td>-27</td>\n",
       "      <td>-7</td>\n",
       "    </tr>\n",
       "  </tbody>\n",
       "</table>\n",
       "</div>"
      ],
      "text/plain": [
       "          sat_delta  act_delta\n",
       "state                         \n",
       "Colorado         89        -70\n",
       "Illinois         90        -50\n",
       "Florida         -27         -7"
      ]
     },
     "execution_count": 71,
     "metadata": {},
     "output_type": "execute_result"
    }
   ],
   "source": [
    "part_delta.loc[['Colorado','Illinois','Florida'],['sat_delta','act_delta']]"
   ]
  },
  {
   "cell_type": "code",
   "execution_count": 72,
   "metadata": {},
   "outputs": [
    {
     "data": {
      "text/plain": [
       "Text(0.5, 1.0, 'Change for SAT and ACT participation rate')"
      ]
     },
     "execution_count": 72,
     "metadata": {},
     "output_type": "execute_result"
    },
    {
     "data": {
      "image/png": "[encoded data removed]",
      "text/plain": [
       "<Figure size 432x288 with 1 Axes>"
      ]
     },
     "metadata": {
      "needs_background": "light"
     },
     "output_type": "display_data"
    }
   ],
   "source": [
    "part_delta.loc[['Colorado','Illinois','Florida'],['sat_delta','act_delta']].plot(kind='barh')\n",
    "plt.axvline(x=0,color=\"black\")\n",
    "plt.xlabel('Change in Participation Rate(%)')\n",
    "plt.title('Change for SAT and ACT participation rate',size=15)\n",
    "#plt.savefig('Major change participation');"
   ]
  },
  {
   "cell_type": "code",
   "execution_count": 73,
   "metadata": {},
   "outputs": [
    {
     "data": {
      "text/plain": [
       "Text(0.5, 0, 'Change in mean score (%)')"
      ]
     },
     "execution_count": 73,
     "metadata": {},
     "output_type": "execute_result"
    },
    {
     "data": {
      "image/png": "[encoded data removed]",
      "text/plain": [
       "<Figure size 432x288 with 1 Axes>"
      ]
     },
     "metadata": {
      "needs_background": "light"
     },
     "output_type": "display_data"
    }
   ],
   "source": [
    "score_delta.loc[['Colorado','Illinois','Florida'],['sat_delta','act_delta']].plot(kind='barh')\n",
    "plt.axvline(x=0,color=\"black\")\n",
    "plt.title('Change in SAT and ACT scores')\n",
    "plt.xlabel('Change in mean score (%)', size=15)\n",
    "#plt.savefig('Major change score')"
   ]
  },
  {
   "cell_type": "markdown",
   "metadata": {},
   "source": [
    "*Out of the 50 states, Colorado, Illinois and Florida have the most interesting trends out of all of them, which seems to indicate one trend for the participation rates and another for the test scores.*\n",
    "\n",
    "*From the graphs above, it is shown that a major **increase** in participation rates for the **SAT** for both the state of Colorado and Illinois coincide with an almost equal major **decrease** in the participation rates for **ACT**. This would suggest that most students in these states are only taking one college entrance test, and not both simultaneously. As per news extracted from the sources below, we can see that Colorado and Illinois has made it compulsory for students to take the SAT, which would explain the overall participation in these states moved from 100% for ACT in 2017 to a 100% for SAT in 2018.*\n",
    "\n",
    "\n",
    "\n",
    "*Another interesting trend would be that there is another inverse correlation between the mean scores obtained by the state and the participation rate in a certain test. For the previously mentioned states of Colorado and Illinois, when the test that required the full participation had a drastically lower mean score than when it had a low participation the following year. This correlation even extends to the state of Florida, which is one of the few states which had the participation rates for both tests move in the same direction. Both of Florida's mean score increased when the participation rates decreased,  which re-emphasises the inverse correlation. This could be due to the fact that students that the small population that took the test on their own were taking it on their own because they required it and new they would be able to achieve a significant result. If the state were to assist or make it more compulsory, it would introduce the rest of the population which would bring down the mean score.*\n",
    "\n",
    "*Sources:*\n",
    "\n",
    "*( Illinois Education Board-https://www.isbe.net/Documents/sy17-assessment-letter-to-districts.pdf)*\n",
    "\n",
    "*(https://www.edweek.org/ew/section/multimedia/states-require-students-take-sat-or-act.html)*\n"
   ]
  },
  {
   "cell_type": "markdown",
   "metadata": {},
   "source": [
    "## Conclusions and Recommendations"
   ]
  },
  {
   "cell_type": "markdown",
   "metadata": {},
   "source": [
    "Based on your exploration of the data, what are you key takeaways and recommendations? Choose one state with a lower participation rate and provide a suggestion for how the College Board might increase participation amongst graduating seniors in this state. Are there additional data you desire that would better inform your investigations?"
   ]
  },
  {
   "cell_type": "code",
   "execution_count": 75,
   "metadata": {
    "scrolled": true
   },
   "outputs": [
    {
     "data": {
      "text/html": [
       "<div>\n",
       "<style scoped>\n",
       "    .dataframe tbody tr th:only-of-type {\n",
       "        vertical-align: middle;\n",
       "    }\n",
       "\n",
       "    .dataframe tbody tr th {\n",
       "        vertical-align: top;\n",
       "    }\n",
       "\n",
       "    .dataframe thead th {\n",
       "        text-align: right;\n",
       "    }\n",
       "</style>\n",
       "<table border=\"1\" class=\"dataframe\">\n",
       "  <thead>\n",
       "    <tr style=\"text-align: right;\">\n",
       "      <th></th>\n",
       "      <th>state</th>\n",
       "      <th>sat17_part</th>\n",
       "      <th>sat18_part</th>\n",
       "      <th>sat17_total</th>\n",
       "      <th>sat18_total</th>\n",
       "      <th>act17_part</th>\n",
       "      <th>act18_part</th>\n",
       "      <th>act17_comp</th>\n",
       "      <th>act18_comp</th>\n",
       "    </tr>\n",
       "  </thead>\n",
       "  <tbody>\n",
       "    <tr>\n",
       "      <th>0</th>\n",
       "      <td>Alabama</td>\n",
       "      <td>5</td>\n",
       "      <td>6</td>\n",
       "      <td>1165</td>\n",
       "      <td>1166</td>\n",
       "      <td>100</td>\n",
       "      <td>100</td>\n",
       "      <td>19.2</td>\n",
       "      <td>19.1</td>\n",
       "    </tr>\n",
       "    <tr>\n",
       "      <th>3</th>\n",
       "      <td>Arkansas</td>\n",
       "      <td>3</td>\n",
       "      <td>5</td>\n",
       "      <td>1208</td>\n",
       "      <td>1169</td>\n",
       "      <td>100</td>\n",
       "      <td>100</td>\n",
       "      <td>19.4</td>\n",
       "      <td>19.4</td>\n",
       "    </tr>\n",
       "    <tr>\n",
       "      <th>15</th>\n",
       "      <td>Iowa</td>\n",
       "      <td>2</td>\n",
       "      <td>3</td>\n",
       "      <td>1275</td>\n",
       "      <td>1265</td>\n",
       "      <td>67</td>\n",
       "      <td>68</td>\n",
       "      <td>21.9</td>\n",
       "      <td>21.8</td>\n",
       "    </tr>\n",
       "    <tr>\n",
       "      <th>16</th>\n",
       "      <td>Kansas</td>\n",
       "      <td>4</td>\n",
       "      <td>4</td>\n",
       "      <td>1260</td>\n",
       "      <td>1265</td>\n",
       "      <td>73</td>\n",
       "      <td>71</td>\n",
       "      <td>21.7</td>\n",
       "      <td>21.6</td>\n",
       "    </tr>\n",
       "    <tr>\n",
       "      <th>17</th>\n",
       "      <td>Kentucky</td>\n",
       "      <td>4</td>\n",
       "      <td>4</td>\n",
       "      <td>1247</td>\n",
       "      <td>1248</td>\n",
       "      <td>100</td>\n",
       "      <td>100</td>\n",
       "      <td>20.0</td>\n",
       "      <td>20.2</td>\n",
       "    </tr>\n",
       "    <tr>\n",
       "      <th>18</th>\n",
       "      <td>Louisiana</td>\n",
       "      <td>4</td>\n",
       "      <td>4</td>\n",
       "      <td>1198</td>\n",
       "      <td>1210</td>\n",
       "      <td>100</td>\n",
       "      <td>100</td>\n",
       "      <td>19.5</td>\n",
       "      <td>19.2</td>\n",
       "    </tr>\n",
       "    <tr>\n",
       "      <th>23</th>\n",
       "      <td>Minnesota</td>\n",
       "      <td>3</td>\n",
       "      <td>4</td>\n",
       "      <td>1295</td>\n",
       "      <td>1298</td>\n",
       "      <td>100</td>\n",
       "      <td>99</td>\n",
       "      <td>21.5</td>\n",
       "      <td>21.3</td>\n",
       "    </tr>\n",
       "    <tr>\n",
       "      <th>24</th>\n",
       "      <td>Mississippi</td>\n",
       "      <td>2</td>\n",
       "      <td>3</td>\n",
       "      <td>1242</td>\n",
       "      <td>1236</td>\n",
       "      <td>100</td>\n",
       "      <td>100</td>\n",
       "      <td>18.6</td>\n",
       "      <td>18.6</td>\n",
       "    </tr>\n",
       "    <tr>\n",
       "      <th>25</th>\n",
       "      <td>Missouri</td>\n",
       "      <td>3</td>\n",
       "      <td>4</td>\n",
       "      <td>1271</td>\n",
       "      <td>1262</td>\n",
       "      <td>100</td>\n",
       "      <td>100</td>\n",
       "      <td>20.4</td>\n",
       "      <td>20.0</td>\n",
       "    </tr>\n",
       "    <tr>\n",
       "      <th>27</th>\n",
       "      <td>Nebraska</td>\n",
       "      <td>3</td>\n",
       "      <td>3</td>\n",
       "      <td>1253</td>\n",
       "      <td>1252</td>\n",
       "      <td>84</td>\n",
       "      <td>100</td>\n",
       "      <td>21.4</td>\n",
       "      <td>20.1</td>\n",
       "    </tr>\n",
       "    <tr>\n",
       "      <th>34</th>\n",
       "      <td>North Dakota</td>\n",
       "      <td>2</td>\n",
       "      <td>2</td>\n",
       "      <td>1256</td>\n",
       "      <td>1283</td>\n",
       "      <td>98</td>\n",
       "      <td>98</td>\n",
       "      <td>20.3</td>\n",
       "      <td>20.3</td>\n",
       "    </tr>\n",
       "    <tr>\n",
       "      <th>36</th>\n",
       "      <td>Oklahoma</td>\n",
       "      <td>7</td>\n",
       "      <td>8</td>\n",
       "      <td>1047</td>\n",
       "      <td>1062</td>\n",
       "      <td>100</td>\n",
       "      <td>100</td>\n",
       "      <td>19.4</td>\n",
       "      <td>19.3</td>\n",
       "    </tr>\n",
       "    <tr>\n",
       "      <th>41</th>\n",
       "      <td>South Dakota</td>\n",
       "      <td>3</td>\n",
       "      <td>3</td>\n",
       "      <td>1216</td>\n",
       "      <td>1240</td>\n",
       "      <td>80</td>\n",
       "      <td>77</td>\n",
       "      <td>21.8</td>\n",
       "      <td>21.9</td>\n",
       "    </tr>\n",
       "    <tr>\n",
       "      <th>42</th>\n",
       "      <td>Tennessee</td>\n",
       "      <td>5</td>\n",
       "      <td>6</td>\n",
       "      <td>1228</td>\n",
       "      <td>1231</td>\n",
       "      <td>100</td>\n",
       "      <td>100</td>\n",
       "      <td>19.8</td>\n",
       "      <td>19.6</td>\n",
       "    </tr>\n",
       "    <tr>\n",
       "      <th>44</th>\n",
       "      <td>Utah</td>\n",
       "      <td>3</td>\n",
       "      <td>4</td>\n",
       "      <td>1238</td>\n",
       "      <td>1010</td>\n",
       "      <td>100</td>\n",
       "      <td>100</td>\n",
       "      <td>20.3</td>\n",
       "      <td>20.4</td>\n",
       "    </tr>\n",
       "    <tr>\n",
       "      <th>49</th>\n",
       "      <td>Wisconsin</td>\n",
       "      <td>3</td>\n",
       "      <td>3</td>\n",
       "      <td>1291</td>\n",
       "      <td>1294</td>\n",
       "      <td>100</td>\n",
       "      <td>100</td>\n",
       "      <td>20.5</td>\n",
       "      <td>20.5</td>\n",
       "    </tr>\n",
       "    <tr>\n",
       "      <th>50</th>\n",
       "      <td>Wyoming</td>\n",
       "      <td>3</td>\n",
       "      <td>3</td>\n",
       "      <td>1230</td>\n",
       "      <td>1257</td>\n",
       "      <td>100</td>\n",
       "      <td>100</td>\n",
       "      <td>20.2</td>\n",
       "      <td>20.0</td>\n",
       "    </tr>\n",
       "  </tbody>\n",
       "</table>\n",
       "</div>"
      ],
      "text/plain": [
       "           state  sat17_part  sat18_part  sat17_total  sat18_total  \\\n",
       "0        Alabama           5           6         1165         1166   \n",
       "3       Arkansas           3           5         1208         1169   \n",
       "15          Iowa           2           3         1275         1265   \n",
       "16        Kansas           4           4         1260         1265   \n",
       "17      Kentucky           4           4         1247         1248   \n",
       "18     Louisiana           4           4         1198         1210   \n",
       "23     Minnesota           3           4         1295         1298   \n",
       "24   Mississippi           2           3         1242         1236   \n",
       "25      Missouri           3           4         1271         1262   \n",
       "27      Nebraska           3           3         1253         1252   \n",
       "34  North Dakota           2           2         1256         1283   \n",
       "36      Oklahoma           7           8         1047         1062   \n",
       "41  South Dakota           3           3         1216         1240   \n",
       "42     Tennessee           5           6         1228         1231   \n",
       "44          Utah           3           4         1238         1010   \n",
       "49     Wisconsin           3           3         1291         1294   \n",
       "50       Wyoming           3           3         1230         1257   \n",
       "\n",
       "    act17_part  act18_part  act17_comp  act18_comp  \n",
       "0          100         100        19.2        19.1  \n",
       "3          100         100        19.4        19.4  \n",
       "15          67          68        21.9        21.8  \n",
       "16          73          71        21.7        21.6  \n",
       "17         100         100        20.0        20.2  \n",
       "18         100         100        19.5        19.2  \n",
       "23         100          99        21.5        21.3  \n",
       "24         100         100        18.6        18.6  \n",
       "25         100         100        20.4        20.0  \n",
       "27          84         100        21.4        20.1  \n",
       "34          98          98        20.3        20.3  \n",
       "36         100         100        19.4        19.3  \n",
       "41          80          77        21.8        21.9  \n",
       "42         100         100        19.8        19.6  \n",
       "44         100         100        20.3        20.4  \n",
       "49         100         100        20.5        20.5  \n",
       "50         100         100        20.2        20.0  "
      ]
     },
     "execution_count": 75,
     "metadata": {},
     "output_type": "execute_result"
    }
   ],
   "source": [
    "#filtering for states with low SAT participation scores.\n",
    "scores_1718[(scores_1718['sat17_part']<10) & (scores_1718['sat18_part']<10)]\\\n",
    "[['state','sat17_part','sat18_part','sat17_total','sat18_total','act17_part','act18_part','act17_comp','act18_comp']]"
   ]
  },
  {
   "cell_type": "markdown",
   "metadata": {},
   "source": [
    "## <u>TAKEAWAYS</u>\n",
    "\n",
    "From the data provided, we can infer the following below;\n",
    "\n",
    "1) Students are most likely to take either the SAT or ACT only.\n",
    "\n",
    "2) Certain states have implemented compulsory participation in either SAT or ACT. \n",
    "\n",
    "3) Students that are more likely to perform well are more likely to take either or both tests on their own accord.\n",
    "\n",
    "## <u>Recommendations</u>\n",
    "\n",
    "Based on what was discovered, the recommended action that is supported by the analysis is that to increase the participation rate for SAT across the country,support or adoption by the state's education board would be the best way to increase participation rates (like in Colorado and Illinois). As most states still do not implement a compulsory undertaking of either test, there are still opportunities to convince the state government to impletment some sort of student assistance or to implement it into their school curriculum.\n",
    "\n",
    "It would be unwise to mention the impact of the scores that the state will be getting upon the implementation, as the increased participation will hurt the average score for the state.\n",
    "\n",
    "Two states for consideration would be the state of Iowa and Kansas, where the SAT participation has been below 5% for both years and has an incomplete participation in ACT for both years (around 70%). With a high average SAT score (1265) and average ACT score (21.8), it would show that the top scorers for the state do choose to take SAT.\n",
    "\n",
    "\n",
    "\n",
    "However, in order to gain a more complete picture into the populations of students, we would require information on the individual student level, containing their raw scores obtained for any of the tests that the sat through. Information about the number of non-participating students will also be required as well to measure the participation rate, along with variables like the intention of the student to pursue further studies.\n",
    "\n",
    "\n"
   ]
  },
  {
   "cell_type": "code",
   "execution_count": null,
   "metadata": {},
   "outputs": [],
   "source": []
  }
 ],
 "metadata": {
  "anaconda-cloud": {},
  "kernelspec": {
   "display_name": "Python 3",
   "language": "python",
   "name": "python3"
  },
  "language_info": {
   "codemirror_mode": {
    "name": "ipython",
    "version": 3
   },
   "file_extension": ".py",
   "mimetype": "text/x-python",
   "name": "python",
   "nbconvert_exporter": "python",
   "pygments_lexer": "ipython3",
   "version": "3.7.4"
  }
 },
 "nbformat": 4,
 "nbformat_minor": 2
}
